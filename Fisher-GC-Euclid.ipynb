{
 "cells": [
  {
   "cell_type": "markdown",
   "metadata": {},
   "source": [
    "Euclid GC Fisher Matrix Code\n",
    "\n",
    "Author: Alkistis Pourtsidou, ICG Portsmouth\n",
    "\n",
    "Using part of http://camb.readthedocs.io/en/latest/CAMBdemo.html \n",
    "\n",
    "To run this Jupyter notebook you need to have CAMB and the CAMB python package \n",
    "installed. In order to install the CAMB python package on your computer follow\n",
    "the instructions in http://camb.readthedocs.io/en/latest/"
   ]
  },
  {
   "cell_type": "code",
   "execution_count": 1,
   "metadata": {
    "collapsed": false
   },
   "outputs": [
    {
     "name": "stdout",
     "output_type": "stream",
     "text": [
      "Using CAMB installed at /Users/alkistis/workspace\n"
     ]
    }
   ],
   "source": [
    "%matplotlib inline\n",
    "import sys, platform, os\n",
    "\n",
    "from matplotlib import pyplot as plt\n",
    "import numpy as np\n",
    "\n",
    "print('Using CAMB installed at '+ os.path.realpath(os.path.join(os.getcwd(),'..')))\n",
    "sys.path.insert(0,os.path.realpath(os.path.join(os.getcwd(),'..')))\n",
    "import camb\n",
    "from camb import model, initialpower"
   ]
  },
  {
   "cell_type": "code",
   "execution_count": 2,
   "metadata": {
    "collapsed": false
   },
   "outputs": [],
   "source": [
    "import scipy\n",
    "from scipy.interpolate import interp1d\n",
    "from __future__ import division"
   ]
  },
  {
   "cell_type": "code",
   "execution_count": 3,
   "metadata": {
    "collapsed": false
   },
   "outputs": [],
   "source": [
    "from scipy import integrate\n",
    "from scipy import linalg\n",
    "\n",
    "pi=np.pi"
   ]
  },
  {
   "cell_type": "code",
   "execution_count": 4,
   "metadata": {
    "collapsed": false
   },
   "outputs": [],
   "source": [
    "#Fiducial cosmological parameters\n",
    "\n",
    "hubble=0.67\n",
    "omegab=0.022445/hubble**2\n",
    "omegac=0.121203/hubble**2\n",
    "om0=omegac+omegab\n",
    "H00=100*hubble\n",
    "Ass=2.1265e-9\n",
    "nss=0.96\n",
    "\n",
    "kpiv=0.05/hubble #in units [h/Mpc]\n",
    "\n",
    "gamma=0.545\n",
    "\n",
    "c=3e5\n",
    "\n",
    "#print om0"
   ]
  },
  {
   "cell_type": "code",
   "execution_count": 5,
   "metadata": {
    "collapsed": false
   },
   "outputs": [],
   "source": [
    "#Set up the fiducial cosmology\n",
    "pars = camb.CAMBparams()\n",
    "#Set cosmology\n",
    "pars.set_cosmology(H0=H00, ombh2=omegab*pow(hubble,2), omch2=omegac*pow(hubble,2),omk=0,mnu=0)\n",
    "pars.set_dark_energy() #LCDM (default)\n",
    "pars.InitPower.set_params(ns=nss, r=0, As=Ass)\n",
    "pars.set_for_lmax(2500, lens_potential_accuracy=0);"
   ]
  },
  {
   "cell_type": "code",
   "execution_count": 6,
   "metadata": {
    "collapsed": false
   },
   "outputs": [],
   "source": [
    "#calculate results for these parameters\n",
    "results = camb.get_results(pars)\n",
    "#print pars"
   ]
  },
  {
   "cell_type": "code",
   "execution_count": 7,
   "metadata": {
    "collapsed": false
   },
   "outputs": [],
   "source": [
    "#Get matter power spectrum at z=0: P(k,z=0)\n",
    "\n",
    "#Not non-linear corrections couples to smaller scales than you want\n",
    "pars.set_matter_power(redshifts=[0.], kmax=2.0)\n",
    "\n",
    "#Just linear spectra\n",
    "pars.NonLinear = model.NonLinear_none\n",
    "results.calc_power_spectra(pars)\n",
    "kh, z, pk = results.get_matter_power_spectrum(minkh=1e-4, maxkh=1.0, npoints = 200)\n",
    "\n",
    "#print results.get_matter_power_spectrum(minkh=1e-4, maxkh=1.0, npoints = 200)[2]"
   ]
  },
  {
   "cell_type": "code",
   "execution_count": 8,
   "metadata": {
    "collapsed": false
   },
   "outputs": [
    {
     "name": "stdout",
     "output_type": "stream",
     "text": [
      "5714.36444785\n"
     ]
    }
   ],
   "source": [
    "#Construct P(k,z=0) interpolating function\n",
    "Pkz0 = interp1d(kh, pk[0])\n",
    "\n",
    "print Pkz0(0.1)"
   ]
  },
  {
   "cell_type": "code",
   "execution_count": 9,
   "metadata": {
    "collapsed": false
   },
   "outputs": [
    {
     "name": "stdout",
     "output_type": "stream",
     "text": [
      "0.830287480109\n"
     ]
    }
   ],
   "source": [
    "#get fiducial σ8 (at z=0)\n",
    "sig8_fid = results.get_sigma8()[0]\n",
    "print sig8_fid"
   ]
  },
  {
   "cell_type": "code",
   "execution_count": 10,
   "metadata": {
    "collapsed": false
   },
   "outputs": [
    {
     "name": "stdout",
     "output_type": "stream",
     "text": [
      "[ 0.7  0.8  0.9  1.   1.1  1.2  1.3  1.4  1.5  1.6  1.7  1.8  1.9  2. ]\n",
      "14 14\n"
     ]
    }
   ],
   "source": [
    "#Redshift bins\n",
    "zlist = np.arange(0.7,2.1,0.1)\n",
    "ztest = zlist[0]\n",
    "Nzbins = len(zlist)\n",
    "\n",
    "biaslist = [1.083, 1.125, 1.104, 1.126, 1.208, 1.243, 1.282, 1.292, 1.363, 1.497, 1.486, \\\n",
    "            1.491, 1.573, 1.568]\n",
    "\n",
    "kmin = 0.001\n",
    "kmax = 0.2\n",
    "\n",
    "dn3 = [2434.28, 4364.812, 4728.559, 4825.798, 4728.797, 4507.625, 4269.851, 3720.657, 3104.309, \\\n",
    "       2308.975, 1541.831, 1474.707, 893.716, 497.613]\n",
    "\n",
    "print zlist\n",
    "print len(zlist), len(dn3)"
   ]
  },
  {
   "cell_type": "code",
   "execution_count": 11,
   "metadata": {
    "collapsed": false
   },
   "outputs": [
    {
     "name": "stdout",
     "output_type": "stream",
     "text": [
      "2596.15131772\n",
      "1527.14783395\n"
     ]
    }
   ],
   "source": [
    "#Spatially flat Universe\n",
    "\n",
    "#Define E(z) = H(z)/H0\n",
    "def Ez(zc):\n",
    "    return np.sqrt(1-om0+om0*pow(1+zc,3))\n",
    "def Hz(zc):\n",
    "    return Ez(zc)*H00\n",
    "\n",
    "#Define the cosmological distances\n",
    "def drdz(zp):\n",
    "    return (c/H00)/Ez(zp)\n",
    "def rcom(zc):\n",
    "    return scipy.integrate.romberg(drdz,0,zc)\n",
    "def DA(zc):\n",
    "    return rcom(zc)/(1+zc)\n",
    "\n",
    "print rcom(ztest)\n",
    "print DA(ztest)"
   ]
  },
  {
   "cell_type": "code",
   "execution_count": 12,
   "metadata": {
    "collapsed": false
   },
   "outputs": [
    {
     "name": "stdout",
     "output_type": "stream",
     "text": [
      "0.822099034946\n"
     ]
    }
   ],
   "source": [
    "#LCDM growth rate\n",
    "def fg(zz):\n",
    "    omz=om0*pow(1+zz,3)/pow(Ez(zz),2)\n",
    "    return pow(omz,gamma)\n",
    "\n",
    "print fg(ztest)"
   ]
  },
  {
   "cell_type": "code",
   "execution_count": 13,
   "metadata": {
    "collapsed": false
   },
   "outputs": [
    {
     "name": "stdout",
     "output_type": "stream",
     "text": [
      "0.693913449649 1.0\n"
     ]
    }
   ],
   "source": [
    "#Get the growth factor \n",
    "def Dg_dz(zz):\n",
    "    return -fg(zz)/(1+zz)\n",
    "\n",
    "def Dgz(zc):\n",
    "    ans = scipy.integrate.romberg(Dg_dz, 0.0, zc)\n",
    "    return np.exp(ans)\n",
    "\n",
    "print Dgz(ztest), Dgz(0)"
   ]
  },
  {
   "cell_type": "code",
   "execution_count": 14,
   "metadata": {
    "collapsed": false
   },
   "outputs": [],
   "source": [
    "#Construct P_gg(k,μ,z)\n",
    "def Pgg(kk,mu,zc):\n",
    "    return pow(bg+fg(zc)*mu**2,2)*pow(Dgz(zc),2)*Pkz0(kk)"
   ]
  },
  {
   "cell_type": "code",
   "execution_count": 15,
   "metadata": {
    "collapsed": true
   },
   "outputs": [],
   "source": [
    "#Euclid\n",
    "Area=15000.0 #deg^2\n",
    "omegatot = Area*pow(pi/180,2)\n",
    "\n",
    "Dzbin = 0.1"
   ]
  },
  {
   "cell_type": "code",
   "execution_count": 16,
   "metadata": {
    "collapsed": false
   },
   "outputs": [
    {
     "name": "stdout",
     "output_type": "stream",
     "text": [
      "0.200298557962\n"
     ]
    }
   ],
   "source": [
    "def photoz(kk,mu,zc):\n",
    "    sigz = 0.001*(1+zc)\n",
    "    return np.exp(-pow(kk*mu,2)*pow(c*sigz,2)/pow(Hz(zc),2))\n",
    "\n",
    "print photoz(0.5,0.5,ztest)"
   ]
  },
  {
   "cell_type": "code",
   "execution_count": 17,
   "metadata": {
    "collapsed": false
   },
   "outputs": [
    {
     "name": "stdout",
     "output_type": "stream",
     "text": [
      "0.7 9.184e+09\n"
     ]
    }
   ],
   "source": [
    "#survey (bin) volume [Mpc^3]\n",
    "def dVsurdz(zz):    \n",
    "    return omegatot*c*pow(rcom(zz),2)/(H00*Ez(zz))\n",
    "    \n",
    "def Vsur(zc):\n",
    "    return scipy.integrate.romberg(dVsurdz,zc-Dzbin/2,zc+Dzbin/2)\n",
    "\n",
    "def Pshot(zc):\n",
    "    return Vsur(zc)/Ngal\n",
    "\n",
    "#effective volume; the hubble**3 factors are for units consistency\n",
    "def Veff(kk,mu,zc):\n",
    "    return hubble**3*Vsur(zc)*(Pgg(kk,mu,zc)*photoz(kk,mu,zc)/(Pgg(kk,mu,zc)*photoz(kk,mu,zc)\\\n",
    "                                                     +hubble**3*Pshot(zc)))**2\n",
    "\n",
    "print ztest, \"%.4g\" %  Vsur(ztest)"
   ]
  },
  {
   "cell_type": "code",
   "execution_count": 18,
   "metadata": {
    "collapsed": false
   },
   "outputs": [],
   "source": [
    "#Fisher matrix parameters \n",
    "params = [\"0:lnH\",\"1:lnDA\",\"2:lnfsig8\",\"3:lnbsig8\",\"4:Ps\",\"5:ns\",\"6:wb\",\"7:wm\",\"8:h\"]"
   ]
  },
  {
   "cell_type": "code",
   "execution_count": 19,
   "metadata": {
    "collapsed": false
   },
   "outputs": [],
   "source": [
    "#Fisher matrix derivatives \n",
    "\n",
    "#z-dependent parameters\n",
    "\n",
    "def dlnP_dlnfsig8(kk,mu,zc):\n",
    "    return 2*mu**2*fg(zc)/(bg+mu**2*fg(zc))\n",
    "\n",
    "def dlnP_dlnbsig8(kk,mu,zc):\n",
    "    return 2*bg/(bg+mu**2*fg(zc))\n",
    "\n",
    "def dlnP_dlnDA(kk,mu,zc):\n",
    "    dk = (kmax-kmin)/400\n",
    "    return -2.0+4*mu**2*(1-mu**2)*fg(zc)/(bg+mu**2*fg(zc))\\\n",
    "            -kk*(1-mu**2)*(1/Pkz0(kk))*(Pkz0(kk+dk)-Pkz0(kk-dk))/(2*dk)\n",
    "\n",
    "def dlnP_dlnH(kk,mu,zc):\n",
    "    dk = (kmax-kmin)/400\n",
    "    return 1.0+4*mu**2*(1-mu**2)*fg(zc)/(bg+mu**2*fg(zc))\\\n",
    "            +kk*mu**2*(1/Pkz0(kk))*(Pkz0(kk+dk)-Pkz0(kk-dk))/(2*dk)\n",
    "\n",
    "def dlnP_dPs(kk,mu,zc):\n",
    "    return 1.0/(Pgg(kk,mu,zc)*photoz(kk,mu,zc))"
   ]
  },
  {
   "cell_type": "code",
   "execution_count": 20,
   "metadata": {
    "collapsed": false
   },
   "outputs": [
    {
     "name": "stdout",
     "output_type": "stream",
     "text": [
      "0.819922637478 0.830287480109 0.839487889359\n",
      "0.830287480109\n"
     ]
    }
   ],
   "source": [
    "#shape parameters\n",
    "\n",
    "# Numerical derivative wrt ns \n",
    "\n",
    "step_ns = 0.05*nss\n",
    "ns_p = nss+step_ns\n",
    "ns_m = nss-step_ns\n",
    "\n",
    "#DERIV PLUS\n",
    "pars = camb.CAMBparams()\n",
    "pars.set_cosmology(H0=H00, ombh2=omegab*pow(hubble,2), omch2=omegac*pow(hubble,2),omk=0,mnu=0)\n",
    "pars.set_dark_energy() #LCDM (default)\n",
    "pars.InitPower.set_params(ns=ns_p, r=0, As=Ass)\n",
    "pars.set_for_lmax(2500, lens_potential_accuracy=0);\n",
    "results = camb.get_results(pars)\n",
    "#Not non-linear corrections couples to smaller scales than you want\n",
    "pars.set_matter_power(redshifts=[0.], kmax=2.0)\n",
    "#Just linear spectra\n",
    "pars.NonLinear = model.NonLinear_none\n",
    "results.calc_power_spectra(pars)\n",
    "kh, z, pk = results.get_matter_power_spectrum(minkh=1e-4, maxkh=1.0, npoints = 200)\n",
    "\n",
    "sig8_ns_p = results.get_sigma8()[0]\n",
    "Pkz0_ns_p = interp1d(kh, pk[0])\n",
    "\n",
    "#DERIV MINUS\n",
    "pars = camb.CAMBparams()\n",
    "pars.set_cosmology(H0=H00, ombh2=omegab*pow(hubble,2), omch2=omegac*pow(hubble,2),omk=0,mnu=0)\n",
    "pars.set_dark_energy() #LCDM (default)\n",
    "pars.InitPower.set_params(ns=ns_m, r=0, As=Ass)\n",
    "pars.set_for_lmax(2500, lens_potential_accuracy=0);\n",
    "results = camb.get_results(pars)\n",
    "#Not non-linear corrections couples to smaller scales than you want\n",
    "pars.set_matter_power(redshifts=[0.], kmax=2.0)\n",
    "#Just linear spectra\n",
    "pars.NonLinear = model.NonLinear_none\n",
    "results.calc_power_spectra(pars)\n",
    "kh, z, pk = results.get_matter_power_spectrum(minkh=1e-4, maxkh=1.0, npoints = 200)\n",
    "\n",
    "sig8_ns_m= results.get_sigma8()[0]\n",
    "Pkz0_ns_m = interp1d(kh, pk[0])\n",
    "\n",
    "#RESET FIDUCIAL\n",
    "pars = camb.CAMBparams()\n",
    "pars.set_cosmology(H0=H00, ombh2=omegab*pow(hubble,2), omch2=omegac*pow(hubble,2),omk=0,mnu=0)\n",
    "pars.set_dark_energy() #LCDM (default)\n",
    "pars.InitPower.set_params(ns=nss, r=0, As=Ass)\n",
    "pars.set_for_lmax(2500, lens_potential_accuracy=0);\n",
    "results = camb.get_results(pars)\n",
    "#Not non-linear corrections couples to smaller scales than you want\n",
    "pars.set_matter_power(redshifts=[0.], kmax=2.0)\n",
    "#Just linear spectra\n",
    "pars.NonLinear = model.NonLinear_none\n",
    "results.calc_power_spectra(pars)\n",
    "\n",
    "#print sig8_ns_m, sig8_fid, sig8_ns_p\n",
    "#print results.get_sigma8()[0]\n",
    "\n",
    "# Numerical derivative wrt Ωbh2 \n",
    "\n",
    "wb = omegab*pow(hubble,2)\n",
    "step_wb = 0.05*wb\n",
    "wb_p = wb+step_wb\n",
    "wb_m = wb-step_wb\n",
    "\n",
    "#DERIV PLUS\n",
    "pars = camb.CAMBparams()\n",
    "pars.set_cosmology(H0=H00, ombh2=wb_p, omch2=omegac*pow(hubble,2),omk=0,mnu=0)\n",
    "pars.set_dark_energy() #LCDM (default)\n",
    "pars.InitPower.set_params(ns=nss, r=0, As=Ass)\n",
    "pars.set_for_lmax(2500, lens_potential_accuracy=0);\n",
    "results = camb.get_results(pars)\n",
    "#Not non-linear corrections couples to smaller scales than you want\n",
    "pars.set_matter_power(redshifts=[0.], kmax=2.0)\n",
    "#Just linear spectra\n",
    "pars.NonLinear = model.NonLinear_none\n",
    "results.calc_power_spectra(pars)\n",
    "kh, z, pk = results.get_matter_power_spectrum(minkh=1e-4, maxkh=1.0, npoints = 200)\n",
    "\n",
    "sig8_wb_p = results.get_sigma8()[0]\n",
    "Pkz0_wb_p = interp1d(kh, pk[0])\n",
    "\n",
    "#DERIV MINUS\n",
    "pars = camb.CAMBparams()\n",
    "pars.set_cosmology(H0=H00, ombh2=wb_m, omch2=omegac*pow(hubble,2),omk=0,mnu=0)\n",
    "pars.set_dark_energy() #LCDM (default)\n",
    "pars.InitPower.set_params(ns=nss, r=0, As=Ass)\n",
    "pars.set_for_lmax(2500, lens_potential_accuracy=0);\n",
    "results = camb.get_results(pars)\n",
    "#Not non-linear corrections couples to smaller scales than you want\n",
    "pars.set_matter_power(redshifts=[0.], kmax=2.0)\n",
    "#Just linear spectra\n",
    "pars.NonLinear = model.NonLinear_none\n",
    "results.calc_power_spectra(pars)\n",
    "kh, z, pk = results.get_matter_power_spectrum(minkh=1e-4, maxkh=1.0, npoints = 200)\n",
    "\n",
    "sig8_wb_m= results.get_sigma8()[0]\n",
    "Pkz0_wb_m = interp1d(kh, pk[0])\n",
    "\n",
    "#RESET FIDUCIAL\n",
    "pars = camb.CAMBparams()\n",
    "pars.set_cosmology(H0=H00, ombh2=omegab*pow(hubble,2), omch2=omegac*pow(hubble,2),omk=0,mnu=0)\n",
    "pars.set_dark_energy() #LCDM (default)\n",
    "pars.InitPower.set_params(ns=nss, r=0, As=Ass)\n",
    "pars.set_for_lmax(2500, lens_potential_accuracy=0);\n",
    "results = camb.get_results(pars)\n",
    "#Not non-linear corrections couples to smaller scales than you want\n",
    "pars.set_matter_power(redshifts=[0.], kmax=2.0)\n",
    "#Just linear spectra\n",
    "pars.NonLinear = model.NonLinear_none\n",
    "results.calc_power_spectra(pars)\n",
    "\n",
    "#print sig8_wb_m, sig8_fid, sig8_wb_p\n",
    "#print results.get_sigma8()[0]\n",
    "\n",
    "# Numerical derivative wrt Ωmh2 \n",
    "\n",
    "wm = omegab*pow(hubble,2)+omegac*pow(hubble,2)\n",
    "wc = omegac*pow(hubble,2)\n",
    "step_wm = 0.05*wc\n",
    "wm_p = wm+step_wm\n",
    "wm_m = wb-step_wm\n",
    "\n",
    "#DERIV PLUS\n",
    "pars = camb.CAMBparams()\n",
    "pars.set_cosmology(H0=H00, ombh2=omegab*pow(hubble,2), omch2=wc+step_wm,omk=0,mnu=0)\n",
    "pars.set_dark_energy() #LCDM (default)\n",
    "pars.InitPower.set_params(ns=nss, r=0, As=Ass)\n",
    "pars.set_for_lmax(2500, lens_potential_accuracy=0);\n",
    "results = camb.get_results(pars)\n",
    "#Not non-linear corrections couples to smaller scales than you want\n",
    "pars.set_matter_power(redshifts=[0.], kmax=2.0)\n",
    "#Just linear spectra\n",
    "pars.NonLinear = model.NonLinear_none\n",
    "results.calc_power_spectra(pars)\n",
    "kh, z, pk = results.get_matter_power_spectrum(minkh=1e-4, maxkh=1.0, npoints = 200)\n",
    "\n",
    "sig8_wm_p = results.get_sigma8()[0]\n",
    "Pkz0_wm_p = interp1d(kh, pk[0])\n",
    "\n",
    "#DERIV MINUS\n",
    "pars = camb.CAMBparams()\n",
    "pars.set_cosmology(H0=H00, ombh2=omegab*pow(hubble,2), omch2=wc-step_wm,omk=0,mnu=0)\n",
    "pars.set_dark_energy() #LCDM (default)\n",
    "pars.InitPower.set_params(ns=nss, r=0, As=Ass)\n",
    "pars.set_for_lmax(2500, lens_potential_accuracy=0);\n",
    "results = camb.get_results(pars)\n",
    "#Not non-linear corrections couples to smaller scales than you want\n",
    "pars.set_matter_power(redshifts=[0.], kmax=2.0)\n",
    "#Just linear spectra\n",
    "pars.NonLinear = model.NonLinear_none\n",
    "results.calc_power_spectra(pars)\n",
    "kh, z, pk = results.get_matter_power_spectrum(minkh=1e-4, maxkh=1.0, npoints = 200)\n",
    "\n",
    "sig8_wm_m= results.get_sigma8()[0]\n",
    "Pkz0_wm_m = interp1d(kh, pk[0])\n",
    "\n",
    "#RESET FIDUCIAL\n",
    "pars = camb.CAMBparams()\n",
    "pars.set_cosmology(H0=H00, ombh2=omegab*pow(hubble,2), omch2=omegac*pow(hubble,2),omk=0,mnu=0)\n",
    "pars.set_dark_energy() #LCDM (default)\n",
    "pars.InitPower.set_params(ns=nss, r=0, As=Ass)\n",
    "pars.set_for_lmax(2500, lens_potential_accuracy=0);\n",
    "results = camb.get_results(pars)\n",
    "#Not non-linear corrections couples to smaller scales than you want\n",
    "pars.set_matter_power(redshifts=[0.], kmax=2.0)\n",
    "#Just linear spectra\n",
    "pars.NonLinear = model.NonLinear_none\n",
    "results.calc_power_spectra(pars)\n",
    "\n",
    "#print sig8_wm_m, sig8_fid, sig8_wm_p\n",
    "#print results.get_sigma8()[0]\n",
    "\n",
    "# Numerical derivative wrt h \n",
    "\n",
    "step_h = 0.05*hubble\n",
    "h_p = hubble+step_h\n",
    "h_m = hubble-step_h\n",
    "\n",
    "#DERIV PLUS\n",
    "pars = camb.CAMBparams()\n",
    "pars.set_cosmology(H0=100*h_p, ombh2=omegab*pow(hubble,2), omch2=omegac*pow(hubble,2),omk=0,mnu=0)\n",
    "pars.set_dark_energy() #LCDM (default)\n",
    "pars.InitPower.set_params(ns=nss, r=0, As=Ass)\n",
    "pars.set_for_lmax(2500, lens_potential_accuracy=0);\n",
    "results = camb.get_results(pars)\n",
    "#Not non-linear corrections couples to smaller scales than you want\n",
    "pars.set_matter_power(redshifts=[0.], kmax=2.0)\n",
    "#Just linear spectra\n",
    "pars.NonLinear = model.NonLinear_none\n",
    "results.calc_power_spectra(pars)\n",
    "kh, z, pk = results.get_matter_power_spectrum(minkh=1e-4, maxkh=1.0, npoints = 200)\n",
    "\n",
    "sig8_h_p = results.get_sigma8()[0]\n",
    "Pkz0_h_p = interp1d(kh, pk[0])\n",
    "\n",
    "#DERIV MINUS\n",
    "pars = camb.CAMBparams()\n",
    "pars.set_cosmology(H0=100*h_m, ombh2=omegab*pow(hubble,2), omch2=omegac*pow(hubble,2),omk=0,mnu=0)\n",
    "pars.set_dark_energy() #LCDM (default)\n",
    "pars.InitPower.set_params(ns=nss, r=0, As=Ass)\n",
    "pars.set_for_lmax(2500, lens_potential_accuracy=0);\n",
    "results = camb.get_results(pars)\n",
    "#Not non-linear corrections couples to smaller scales than you want\n",
    "pars.set_matter_power(redshifts=[0.], kmax=2.0)\n",
    "#Just linear spectra\n",
    "pars.NonLinear = model.NonLinear_none\n",
    "results.calc_power_spectra(pars)\n",
    "kh, z, pk = results.get_matter_power_spectrum(minkh=1e-4, maxkh=1.0, npoints = 200)\n",
    "\n",
    "sig8_h_m= results.get_sigma8()[0]\n",
    "Pkz0_h_m = interp1d(kh, pk[0])\n",
    "\n",
    "#RESET FIDUCIAL\n",
    "pars = camb.CAMBparams()\n",
    "pars.set_cosmology(H0=H00, ombh2=omegab*pow(hubble,2), omch2=omegac*pow(hubble,2),omk=0,mnu=0)\n",
    "pars.set_dark_energy() #LCDM (default)\n",
    "pars.InitPower.set_params(ns=nss, r=0, As=Ass)\n",
    "pars.set_for_lmax(2500, lens_potential_accuracy=0);\n",
    "results = camb.get_results(pars)\n",
    "#Not non-linear corrections couples to smaller scales than you want\n",
    "pars.set_matter_power(redshifts=[0.], kmax=2.0)\n",
    "#Just linear spectra\n",
    "pars.NonLinear = model.NonLinear_none\n",
    "results.calc_power_spectra(pars)\n",
    "\n",
    "print sig8_h_m, sig8_fid, sig8_h_p\n",
    "print results.get_sigma8()[0]"
   ]
  },
  {
   "cell_type": "code",
   "execution_count": 21,
   "metadata": {
    "collapsed": false
   },
   "outputs": [
    {
     "name": "stdout",
     "output_type": "stream",
     "text": [
      "-0.459308370485 1.15873078798 -0.698583655411 -0.185234950065\n"
     ]
    }
   ],
   "source": [
    "def dlnP_dns(kk):\n",
    "    return ((Pkz0_ns_p(kk)/pow(sig8_ns_p,2))-(Pkz0_ns_m(kk)/pow(sig8_ns_m,2)))/(2*step_ns)/(Pkz0(kk)/pow(sig8_fid,2))\n",
    "\n",
    "def dlnP_dwb(kk):\n",
    "    return ((Pkz0_wb_p(kk)/pow(sig8_wb_p,2))-(Pkz0_wb_m(kk)/pow(sig8_wb_m,2)))/(2*step_wb)/(Pkz0(kk)/pow(sig8_fid,2))\n",
    "\n",
    "def dlnP_dwm(kk):\n",
    "    return ((Pkz0_wm_p(kk)/pow(sig8_wm_p,2))-(Pkz0_wm_m(kk)/pow(sig8_wm_m,2)))/(2*step_wm)/(Pkz0(kk)/pow(sig8_fid,2))\n",
    "\n",
    "def dlnP_dh(kk):\n",
    "    return ((Pkz0_h_p(kk)/pow(sig8_h_p,2))-(Pkz0_h_m(kk)/pow(sig8_h_m,2)))/(2*step_h)/(Pkz0(kk)/pow(sig8_fid,2))\n",
    "\n",
    "print dlnP_dns(0.1), dlnP_dwb(0.1), dlnP_dwm(0.1), dlnP_dh(0.1)"
   ]
  },
  {
   "cell_type": "code",
   "execution_count": 22,
   "metadata": {
    "collapsed": false
   },
   "outputs": [],
   "source": [
    "def dF(kk,mu):\n",
    "    return (1./(8*pi*pi))*pow(kk,2)*deriv_i(kk,mu,zc)*deriv_j(kk,mu,zc)*Veff(kk,mu,zc)    "
   ]
  },
  {
   "cell_type": "code",
   "execution_count": 23,
   "metadata": {
    "collapsed": true
   },
   "outputs": [],
   "source": [
    "#2D integration function\n",
    "def integrate2D(dfun, kgrid, mugrid):\n",
    "    \n",
    "    muint = [scipy.integrate.simps(dfun.T[i], mugrid) for i in range(kgrid.size)]\n",
    "    return scipy.integrate.simps(muint, kgrid)"
   ]
  },
  {
   "cell_type": "code",
   "execution_count": 34,
   "metadata": {
    "collapsed": false
   },
   "outputs": [],
   "source": [
    "mugrid = np.linspace(-1., 1., 200) "
   ]
  },
  {
   "cell_type": "code",
   "execution_count": 36,
   "metadata": {
    "collapsed": false,
    "scrolled": true
   },
   "outputs": [
    {
     "name": "stdout",
     "output_type": "stream",
     "text": [
      "0.7 1.394355e-03 7.643475e-04 4.770850e-03 7.503232e-03 3.436264e-03 3.344743e-03 6.659988e-03 1.879121e-03 6.385046e+00\n",
      "0.8 1.247645e-03 6.520364e-04 4.136826e-03 6.716221e-03 2.955718e-03 2.852374e-03 5.779912e-03 1.593738e-03 5.186682e+00\n",
      "0.9 1.189796e-03 6.318278e-04 3.986959e-03 6.404005e-03 2.871614e-03 2.741492e-03 5.416754e-03 1.556835e-03 4.526602e+00\n",
      "1.0 1.146388e-03 6.173795e-04 3.877365e-03 6.169703e-03 2.794702e-03 2.682854e-03 5.277436e-03 1.523338e-03 4.257106e+00\n",
      "1.1 1.108710e-03 6.013655e-04 3.767757e-03 5.966570e-03 2.693204e-03 2.647929e-03 5.336809e-03 1.472183e-03 4.337878e+00\n",
      "1.2 1.089566e-03 6.015845e-04 3.746624e-03 5.862876e-03 2.675246e-03 2.662064e-03 5.374756e-03 1.471939e-03 4.269770e+00\n",
      "1.3 1.077241e-03 6.052838e-04 3.747555e-03 5.796057e-03 2.671225e-03 2.694241e-03 5.462405e-03 1.479208e-03 4.253326e+00\n",
      "1.4 1.087701e-03 6.335393e-04 3.875167e-03 5.851906e-03 2.771159e-03 2.827562e-03 5.662761e-03 1.554620e-03 4.297630e+00\n",
      "1.5 1.100781e-03 6.623812e-04 4.007202e-03 5.922611e-03 2.856386e-03 2.992884e-03 6.084431e-03 1.619093e-03 4.686569e+00\n",
      "1.6 1.129750e-03 7.093050e-04 4.229482e-03 6.080214e-03 2.996772e-03 3.271471e-03 6.915825e-03 1.717407e-03 5.653839e+00\n",
      "1.7 1.245615e-03 8.648286e-04 4.979230e-03 6.716708e-03 3.578402e-03 4.015156e-03 8.206545e-03 2.123779e-03 6.831405e+00\n",
      "1.8 1.274097e-03 9.065209e-04 5.174330e-03 6.875787e-03 3.727623e-03 4.220825e-03 8.544374e-03 2.235676e-03 6.885723e+00\n",
      "1.9 1.467566e-03 1.156855e-03 6.359739e-03 7.955027e-03 4.637741e-03 5.502701e-03 1.120617e-02 2.877378e-03 9.791711e+00\n",
      "2.0 1.909348e-03 1.708534e-03 8.945763e-03 1.043983e-02 6.706239e-03 8.311567e-03 1.630057e-02 4.391917e-03 1.525033e+01\n"
     ]
    }
   ],
   "source": [
    "fo = open(\"errors.txt\", \"w\")\n",
    "\n",
    "#%%time\n",
    "#   Fisher matrix   # \n",
    "\n",
    "Npar = len(params)\n",
    "#create array of zeros\n",
    "s = (Npar,Npar)\n",
    "\n",
    "for zi in range(0,Nzbins):\n",
    "    \n",
    "    zc = zlist[zi]\n",
    "    bg = biaslist[zi]\n",
    "    zmin = zc-Dzbin/2\n",
    "    zmax = zc+Dzbin/2\n",
    "    Ngal = dn3[zi]*Area*Dzbin\n",
    "    \n",
    "    kgrid = np.linspace(kmin, kmax, 400)\n",
    "    K, MU = np.meshgrid(kgrid, mugrid)\n",
    "    Fishermat = np.zeros(s)\n",
    "    for i in range(0,Npar):\n",
    "        def deriv_i(kk,mu,zc):\n",
    "            if i==0:  return dlnP_dlnH(kk,mu,zc)\n",
    "            elif i==1:  return dlnP_dlnDA(kk,mu,zc)\n",
    "            elif i==2:  return dlnP_dlnfsig8(kk,mu,zc)\n",
    "            elif i==3:  return dlnP_dlnbsig8(kk,mu,zc)\n",
    "            elif i==4:  return dlnP_dPs(kk,mu,zc)\n",
    "            elif i==5:  return dlnP_dns(kk)\n",
    "            elif i==6:  return dlnP_dwb(kk)\n",
    "            elif i==7:  return dlnP_dwm(kk)\n",
    "            elif i==8:  return dlnP_dh(kk)\n",
    "            else: print \"Error: index out of range\"\n",
    "        for  j in range(0,Npar):\n",
    "            if j>=i:\n",
    "                def deriv_j(kk,mu,zc):\n",
    "                    if j==0:  return dlnP_dlnH(kk,mu,zc)\n",
    "                    elif j==1:  return dlnP_dlnDA(kk,mu,zc)\n",
    "                    elif j==2:  return dlnP_dlnfsig8(kk,mu,zc)\n",
    "                    elif j==3:  return dlnP_dlnbsig8(kk,mu,zc)\n",
    "                    elif j==4:  return dlnP_dPs(kk,mu,zc)\n",
    "                    elif j==5:  return dlnP_dns(kk)\n",
    "                    elif j==6:  return dlnP_dwb(kk)\n",
    "                    elif j==7:  return dlnP_dwm(kk)\n",
    "                    elif j==8:  return dlnP_dh(kk)\n",
    "                    else: print \"Error: index out of range\" \n",
    "                Fishermat[i][j] = integrate2D(dF(K,MU),kgrid,mugrid)                \n",
    "            else: Fishermat[i,j] = Fishermat[j,i]\n",
    "                           \n",
    "            \n",
    "    zbin = str(zc)\n",
    "    \n",
    "    #marginalised errors\n",
    "    \n",
    "    #lnDerr = str(\"%e\" % np.sqrt(linalg.inv(Fishermat)[1,1]))\n",
    "    #lnHerr = str(\"%e\" % np.sqrt(linalg.inv(Fishermat)[0,0]))\n",
    "    #lnfsig8err = str(\"%e\" % np.sqrt(linalg.inv(Fishermat)[2,2]))\n",
    "    #lnbsig8err = str(\"%e\" % np.sqrt(linalg.inv(Fishermat)[3,3]))\n",
    "    #Pserr = str(\"%e\" % np.sqrt(linalg.inv(Fishermat)[4,4]))  \n",
    "    #nserr = str(\"%e\" % np.sqrt(linalg.inv(Fishermat)[5,5]))\n",
    "    #wberr = str(\"%e\" % np.sqrt(linalg.inv(Fishermat)[6,6]))\n",
    "    #wmerr = str(\"%e\" % np.sqrt(linalg.inv(Fishermat)[7,7]))\n",
    "    #herr = str(\"%e\" % np.sqrt(linalg.inv(Fishermat)[8,8]))\n",
    "    \n",
    "    #un-marginalised errors\n",
    "        \n",
    "    lnDerr = str(\"%e\" % (1/np.sqrt(Fishermat[1,1])))\n",
    "    lnHerr = str(\"%e\" % (1/np.sqrt(Fishermat[0,0])))\n",
    "    lnfsig8err = str(\"%e\" % (1/np.sqrt(Fishermat[2,2])))\n",
    "    lnbsig8err = str(\"%e\" % (1/np.sqrt(Fishermat[3,3])))\n",
    "    Pserr = str(\"%e\" % (1/np.sqrt(Fishermat[4,4])))\n",
    "    nserr = str(\"%e\" % (1/np.sqrt(Fishermat[5,5])))\n",
    "    wberr = str(\"%e\" % (1/np.sqrt(Fishermat[6,6])))\n",
    "    wmerr = str(\"%e\" % (1/np.sqrt(Fishermat[7,7])))\n",
    "    herr = str(\"%e\" % (1/np.sqrt(Fishermat[8,8])))\n",
    "    \n",
    "    print zbin, wmerr, wberr, herr, nserr, lnDerr, lnHerr, lnfsig8err, lnbsig8err, Pserr\n",
    "\n",
    "    \n",
    "    outp = zbin + \"\\t\" + wmerr + \"\\t\" + wberr + \"\\t\" + herr + \"\\t\" + nserr + \\\n",
    "    \"\\t\" + lnDerr + \"\\t\" + lnHerr + \"\\t\" + lnfsig8err + \"\\t\" + lnbsig8err + \"\\t\" + Pserr + \"\\n\"\n",
    "    fo.write(outp)\n",
    "    \n",
    "fo.close()    "
   ]
  },
  {
   "cell_type": "code",
   "execution_count": 38,
   "metadata": {
    "collapsed": false
   },
   "outputs": [
    {
     "name": "stdout",
     "output_type": "stream",
     "text": [
      "22235.2480573\n"
     ]
    }
   ],
   "source": [
    "print Fishermat[1,1]"
   ]
  },
  {
   "cell_type": "code",
   "execution_count": 39,
   "metadata": {
    "collapsed": false
   },
   "outputs": [
    {
     "name": "stdout",
     "output_type": "stream",
     "text": [
      "[[  1.44755188e+04  -1.00691915e+04   3.32735168e+03   2.39930295e+04\n",
      "    5.52410703e+00  -7.58405828e+03   6.32576017e+03  -3.96931198e+04\n",
      "    8.11106728e+03]\n",
      " [ -1.00691915e+04   2.22352481e+04  -8.35425806e+03  -2.74236403e+04\n",
      "   -5.84764849e+00   1.01893562e+04  -8.85752488e+03   5.33263553e+04\n",
      "   -1.08603563e+04]\n",
      " [  3.32735168e+03  -8.35425806e+03   3.76352292e+03   1.03862130e+04\n",
      "    2.41683569e+00  -3.35992115e+03   5.99060270e+03  -1.59754955e+04\n",
      "    2.75476622e+03]\n",
      " [  2.39930295e+04  -2.74236403e+04   1.03862130e+04   5.18431845e+04\n",
      "    1.25822675e+01  -1.46504117e+04   2.57257477e+04  -7.00060666e+04\n",
      "    1.21576162e+04]\n",
      " [  5.52410703e+00  -5.84764849e+00   2.41683569e+00   1.25822675e+01\n",
      "    4.29973513e-03  -1.41770875e+00  -3.18504155e+00  -5.50113549e+00\n",
      "    1.34231998e+00]\n",
      " [ -7.58405828e+03   1.01893562e+04  -3.35992115e+03  -1.46504117e+04\n",
      "   -1.41770875e+00   9.17515507e+03  -2.75893801e+04   4.85908045e+04\n",
      "   -7.90190162e+03]\n",
      " [  6.32576017e+03  -8.85752488e+03   5.99060270e+03   2.57257477e+04\n",
      "   -3.18504155e+00  -2.75893801e+04   3.42572662e+05  -1.27970272e+05\n",
      "   -7.64540594e+03]\n",
      " [ -3.96931198e+04   5.33263553e+04  -1.59754955e+04  -7.00060666e+04\n",
      "   -5.50113549e+00   4.85908045e+04  -1.27970272e+05   2.74302408e+05\n",
      "   -4.94548113e+04]\n",
      " [  8.11106728e+03  -1.08603563e+04   2.75476622e+03   1.21576162e+04\n",
      "    1.34231998e+00  -7.90190162e+03  -7.64540594e+03  -4.94548113e+04\n",
      "    1.24958339e+04]]\n"
     ]
    }
   ],
   "source": [
    "print Fishermat"
   ]
  },
  {
   "cell_type": "code",
   "execution_count": null,
   "metadata": {
    "collapsed": true
   },
   "outputs": [],
   "source": []
  }
 ],
 "metadata": {
  "kernelspec": {
   "display_name": "Python 2",
   "language": "python",
   "name": "python2"
  },
  "language_info": {
   "codemirror_mode": {
    "name": "ipython",
    "version": 2
   },
   "file_extension": ".py",
   "mimetype": "text/x-python",
   "name": "python",
   "nbconvert_exporter": "python",
   "pygments_lexer": "ipython2",
   "version": "2.7.12"
  }
 },
 "nbformat": 4,
 "nbformat_minor": 0
}
