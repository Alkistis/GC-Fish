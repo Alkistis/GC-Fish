{
 "cells": [
  {
   "cell_type": "markdown",
   "metadata": {},
   "source": [
    "Euclid GC Fisher Matrix Code\n",
    "\n",
    "Author: Alkistis Pourtsidou, ICG Portsmouth\n",
    "\n",
    "Using part of http://camb.readthedocs.io/en/latest/CAMBdemo.html \n",
    "\n",
    "To run this Jupyter notebook you need to have CAMB and the CAMB python package \n",
    "installed. In order to install the CAMB python package on your computer follow\n",
    "the instructions in http://camb.readthedocs.io/en/latest/"
   ]
  },
  {
   "cell_type": "code",
   "execution_count": 2,
   "metadata": {
    "collapsed": false
   },
   "outputs": [
    {
     "name": "stdout",
     "output_type": "stream",
     "text": [
      "Using CAMB installed at /Users/alkistis/workspace\n"
     ]
    }
   ],
   "source": [
    "%matplotlib inline\n",
    "import sys, platform, os\n",
    "\n",
    "from matplotlib import pyplot as plt\n",
    "import numpy as np\n",
    "\n",
    "print('Using CAMB installed at '+ os.path.realpath(os.path.join(os.getcwd(),'..')))\n",
    "sys.path.insert(0,os.path.realpath(os.path.join(os.getcwd(),'..')))\n",
    "import camb\n",
    "from camb import model, initialpower"
   ]
  },
  {
   "cell_type": "code",
   "execution_count": 3,
   "metadata": {
    "collapsed": false
   },
   "outputs": [],
   "source": [
    "import scipy\n",
    "from scipy.interpolate import interp1d\n",
    "from __future__ import division"
   ]
  },
  {
   "cell_type": "code",
   "execution_count": 4,
   "metadata": {
    "collapsed": false
   },
   "outputs": [],
   "source": [
    "from scipy import integrate\n",
    "from scipy import linalg\n",
    "\n",
    "pi=np.pi"
   ]
  },
  {
   "cell_type": "code",
   "execution_count": 5,
   "metadata": {
    "collapsed": false
   },
   "outputs": [],
   "source": [
    "#Fiducial cosmological parameters\n",
    "\n",
    "hubble=0.67\n",
    "omegab=0.022445/hubble**2\n",
    "omegac=0.121203/hubble**2\n",
    "om0=omegac+omegab\n",
    "H00=100*hubble\n",
    "Ass=2.1265e-9\n",
    "nss=0.96\n",
    "\n",
    "kpiv=0.05/hubble #in units [h/Mpc]\n",
    "\n",
    "gamma=0.545\n",
    "\n",
    "c=3e5\n",
    "\n",
    "#print om0"
   ]
  },
  {
   "cell_type": "code",
   "execution_count": 6,
   "metadata": {
    "collapsed": false
   },
   "outputs": [],
   "source": [
    "#Set up the fiducial cosmology\n",
    "pars = camb.CAMBparams()\n",
    "#Set cosmology\n",
    "pars.set_cosmology(H0=H00, ombh2=omegab*pow(hubble,2), omch2=omegac*pow(hubble,2),omk=0,mnu=0)\n",
    "pars.set_dark_energy() #LCDM (default)\n",
    "pars.InitPower.set_params(ns=nss, r=0, As=Ass)\n",
    "pars.set_for_lmax(2500, lens_potential_accuracy=0);"
   ]
  },
  {
   "cell_type": "code",
   "execution_count": 7,
   "metadata": {
    "collapsed": false
   },
   "outputs": [],
   "source": [
    "#calculate results for these parameters\n",
    "results = camb.get_results(pars)\n",
    "#print pars"
   ]
  },
  {
   "cell_type": "code",
   "execution_count": 8,
   "metadata": {
    "collapsed": false
   },
   "outputs": [],
   "source": [
    "#Get matter power spectrum at z=0: P(k,z=0)\n",
    "\n",
    "#Not non-linear corrections couples to smaller scales than you want\n",
    "pars.set_matter_power(redshifts=[0.], kmax=2.0)\n",
    "\n",
    "#Just linear spectra\n",
    "pars.NonLinear = model.NonLinear_none\n",
    "results.calc_power_spectra(pars)\n",
    "kh, z, pk = results.get_matter_power_spectrum(minkh=1e-4, maxkh=1.0, npoints = 200)\n",
    "\n",
    "#print results.get_matter_power_spectrum(minkh=1e-4, maxkh=1.0, npoints = 200)[2]"
   ]
  },
  {
   "cell_type": "code",
   "execution_count": 9,
   "metadata": {
    "collapsed": false
   },
   "outputs": [
    {
     "name": "stdout",
     "output_type": "stream",
     "text": [
      "5714.36444785\n"
     ]
    }
   ],
   "source": [
    "#Construct P(k,z=0) interpolating function\n",
    "Pkz0 = interp1d(kh, pk[0])\n",
    "\n",
    "print Pkz0(0.1)"
   ]
  },
  {
   "cell_type": "code",
   "execution_count": 10,
   "metadata": {
    "collapsed": false
   },
   "outputs": [
    {
     "name": "stdout",
     "output_type": "stream",
     "text": [
      "0.830287480109\n"
     ]
    }
   ],
   "source": [
    "#get fiducial σ8 (at z=0)\n",
    "sig8_fid = results.get_sigma8()[0]\n",
    "print sig8_fid"
   ]
  },
  {
   "cell_type": "code",
   "execution_count": 11,
   "metadata": {
    "collapsed": false
   },
   "outputs": [
    {
     "name": "stdout",
     "output_type": "stream",
     "text": [
      "[ 0.7  0.8  0.9  1.   1.1  1.2  1.3  1.4  1.5  1.6  1.7  1.8  1.9  2. ]\n",
      "14 14\n"
     ]
    }
   ],
   "source": [
    "#Redshift bins\n",
    "zlist = np.arange(0.7,2.1,0.1)\n",
    "ztest = zlist[0]\n",
    "Nzbins = len(zlist)\n",
    "\n",
    "biaslist = [1.083, 1.125, 1.104, 1.126, 1.208, 1.243, 1.282, 1.292, 1.363, 1.497, 1.486, \\\n",
    "            1.491, 1.573, 1.568]\n",
    "\n",
    "kmin = 0.001\n",
    "kmax = 0.2\n",
    "\n",
    "dn3 = [2434.28, 4364.812, 4728.559, 4825.798, 4728.797, 4507.625, 4269.851, 3720.657, 3104.309, \\\n",
    "       2308.975, 1541.831, 1474.707, 893.716, 497.613]\n",
    "\n",
    "print zlist\n",
    "print len(zlist), len(dn3)"
   ]
  },
  {
   "cell_type": "code",
   "execution_count": 12,
   "metadata": {
    "collapsed": false
   },
   "outputs": [
    {
     "name": "stdout",
     "output_type": "stream",
     "text": [
      "2596.15131772\n",
      "1527.14783395\n"
     ]
    }
   ],
   "source": [
    "#Spatially flat Universe\n",
    "\n",
    "#Define E(z) = H(z)/H0\n",
    "def Ez(zc):\n",
    "    return np.sqrt(1-om0+om0*pow(1+zc,3))\n",
    "def Hz(zc):\n",
    "    return Ez(zc)*H00\n",
    "\n",
    "#Define the cosmological distances\n",
    "def drdz(zp):\n",
    "    return (c/H00)/Ez(zp)\n",
    "def rcom(zc):\n",
    "    return scipy.integrate.romberg(drdz,0,zc)\n",
    "def DA(zc):\n",
    "    return rcom(zc)/(1+zc)\n",
    "\n",
    "print rcom(ztest)\n",
    "print DA(ztest)"
   ]
  },
  {
   "cell_type": "code",
   "execution_count": 13,
   "metadata": {
    "collapsed": false
   },
   "outputs": [
    {
     "name": "stdout",
     "output_type": "stream",
     "text": [
      "0.822099034946\n"
     ]
    }
   ],
   "source": [
    "#LCDM growth rate\n",
    "def fg(zz):\n",
    "    omz=om0*pow(1+zz,3)/pow(Ez(zz),2)\n",
    "    return pow(omz,gamma)\n",
    "\n",
    "print fg(ztest)"
   ]
  },
  {
   "cell_type": "code",
   "execution_count": 14,
   "metadata": {
    "collapsed": false
   },
   "outputs": [
    {
     "name": "stdout",
     "output_type": "stream",
     "text": [
      "0.693913449649 1.0\n"
     ]
    }
   ],
   "source": [
    "#Get the growth factor \n",
    "def Dg_dz(zz):\n",
    "    return -fg(zz)/(1+zz)\n",
    "\n",
    "def Dgz(zc):\n",
    "    ans = scipy.integrate.romberg(Dg_dz, 0.0, zc)\n",
    "    return np.exp(ans)\n",
    "\n",
    "print Dgz(ztest), Dgz(0)"
   ]
  },
  {
   "cell_type": "code",
   "execution_count": 15,
   "metadata": {
    "collapsed": false
   },
   "outputs": [],
   "source": [
    "#Construct P_gg(k,μ,z)\n",
    "def Pgg(kk,mu,zc):\n",
    "    return pow(bg+fg(zc)*mu**2,2)*pow(Dgz(zc),2)*Pkz0(kk)"
   ]
  },
  {
   "cell_type": "code",
   "execution_count": 16,
   "metadata": {
    "collapsed": true
   },
   "outputs": [],
   "source": [
    "#Euclid\n",
    "Area=15000.0 #deg^2\n",
    "omegatot = Area*pow(pi/180,2)\n",
    "\n",
    "Dzbin = 0.1"
   ]
  },
  {
   "cell_type": "code",
   "execution_count": 17,
   "metadata": {
    "collapsed": false
   },
   "outputs": [
    {
     "name": "stdout",
     "output_type": "stream",
     "text": [
      "0.200298557962\n"
     ]
    }
   ],
   "source": [
    "def photoz(kk,mu,zc):\n",
    "    sigz = 0.001*(1+zc)\n",
    "    return np.exp(-pow(kk*mu,2)*pow(c*sigz,2)/pow(Hz(zc),2))\n",
    "\n",
    "print photoz(0.5,0.5,ztest)"
   ]
  },
  {
   "cell_type": "code",
   "execution_count": 18,
   "metadata": {
    "collapsed": false
   },
   "outputs": [
    {
     "name": "stdout",
     "output_type": "stream",
     "text": [
      "0.7 9.184e+09\n"
     ]
    }
   ],
   "source": [
    "#survey (bin) volume [Mpc^3]\n",
    "def dVsurdz(zz):    \n",
    "    return omegatot*c*pow(rcom(zz),2)/(H00*Ez(zz))\n",
    "    \n",
    "def Vsur(zc):\n",
    "    return scipy.integrate.romberg(dVsurdz,zc-Dzbin/2,zc+Dzbin/2)\n",
    "\n",
    "def Pshot(zc):\n",
    "    return Vsur(zc)/Ngal\n",
    "\n",
    "#effective volume; the hubble**3 factors are for units consistency\n",
    "def Veff(kk,mu,zc):\n",
    "    return hubble**3*Vsur(zc)*(Pgg(kk,mu,zc)*photoz(kk,mu,zc)/(Pgg(kk,mu,zc)*photoz(kk,mu,zc)\\\n",
    "                                                     +hubble**3*Pshot(zc)))**2\n",
    "\n",
    "print ztest, \"%.4g\" %  Vsur(ztest)"
   ]
  },
  {
   "cell_type": "code",
   "execution_count": 43,
   "metadata": {
    "collapsed": false
   },
   "outputs": [],
   "source": [
    "#Fisher matrix parameters \n",
    "params = [\"0:lnH\",\"1:lnDA\",\"2:lnfsig8\",\"3:lnbsig8\",\"4:Ps\",\"5:ns\",\"6:wb\",\"7:wm\"]"
   ]
  },
  {
   "cell_type": "code",
   "execution_count": 33,
   "metadata": {
    "collapsed": false
   },
   "outputs": [],
   "source": [
    "#Fisher matrix derivatives \n",
    "\n",
    "#z-dependent parameters\n",
    "\n",
    "def dlnP_dlnfsig8(kk,mu,zc):\n",
    "    return 2*mu**2*fg(zc)/(bg+mu**2*fg(zc))\n",
    "\n",
    "def dlnP_dlnbsig8(kk,mu,zc):\n",
    "    return 2*bg/(bg+mu**2*fg(zc))\n",
    "\n",
    "def dlnP_dlnDA(kk,mu,zc):\n",
    "    dk = (kmax-kmin)/400\n",
    "    return -2.0+4*mu**2*(1-mu**2)*fg(zc)/(bg+mu**2*fg(zc))\\\n",
    "            -kk*(1-mu**2)*(1/Pkz0(kk))*(Pkz0(kk+dk)-Pkz0(kk-dk))/(2*dk)\n",
    "\n",
    "def dlnP_dlnH(kk,mu,zc):\n",
    "    dk = (kmax-kmin)/400\n",
    "    return 1.0+4*mu**2*(1-mu**2)*fg(zc)/(bg+mu**2*fg(zc))\\\n",
    "            +kk*mu**2*(1/Pkz0(kk))*(Pkz0(kk+dk)-Pkz0(kk-dk))/(2*dk)\n",
    "\n",
    "def dlnP_dPs(kk,mu,zc):\n",
    "    return 1.0/(Pgg(kk,mu,zc)*photoz(kk,mu,zc))"
   ]
  },
  {
   "cell_type": "code",
   "execution_count": 40,
   "metadata": {
    "collapsed": false
   },
   "outputs": [
    {
     "name": "stdout",
     "output_type": "stream",
     "text": [
      "0.804010274594 0.830287480109 0.855539429181\n",
      "0.830287480109\n"
     ]
    }
   ],
   "source": [
    "#shape parameters\n",
    "\n",
    "# Numerical derivative wrt ns \n",
    "\n",
    "step_ns = 0.05*nss\n",
    "ns_p = nss+step_ns\n",
    "ns_m = nss-step_ns\n",
    "\n",
    "#DERIV PLUS\n",
    "pars = camb.CAMBparams()\n",
    "pars.set_cosmology(H0=H00, ombh2=omegab*pow(hubble,2), omch2=omegac*pow(hubble,2),omk=0,mnu=0)\n",
    "pars.set_dark_energy() #LCDM (default)\n",
    "pars.InitPower.set_params(ns=ns_p, r=0, As=Ass)\n",
    "pars.set_for_lmax(2500, lens_potential_accuracy=0);\n",
    "results = camb.get_results(pars)\n",
    "#Not non-linear corrections couples to smaller scales than you want\n",
    "pars.set_matter_power(redshifts=[0.], kmax=2.0)\n",
    "#Just linear spectra\n",
    "pars.NonLinear = model.NonLinear_none\n",
    "results.calc_power_spectra(pars)\n",
    "kh, z, pk = results.get_matter_power_spectrum(minkh=1e-4, maxkh=1.0, npoints = 200)\n",
    "\n",
    "sig8_ns_p = results.get_sigma8()[0]\n",
    "Pkz0_ns_p = interp1d(kh, pk[0])\n",
    "\n",
    "#DERIV MINUS\n",
    "pars = camb.CAMBparams()\n",
    "pars.set_cosmology(H0=H00, ombh2=omegab*pow(hubble,2), omch2=omegac*pow(hubble,2),omk=0,mnu=0)\n",
    "pars.set_dark_energy() #LCDM (default)\n",
    "pars.InitPower.set_params(ns=ns_m, r=0, As=Ass)\n",
    "pars.set_for_lmax(2500, lens_potential_accuracy=0);\n",
    "results = camb.get_results(pars)\n",
    "#Not non-linear corrections couples to smaller scales than you want\n",
    "pars.set_matter_power(redshifts=[0.], kmax=2.0)\n",
    "#Just linear spectra\n",
    "pars.NonLinear = model.NonLinear_none\n",
    "results.calc_power_spectra(pars)\n",
    "kh, z, pk = results.get_matter_power_spectrum(minkh=1e-4, maxkh=1.0, npoints = 200)\n",
    "\n",
    "sig8_ns_m= results.get_sigma8()[0]\n",
    "Pkz0_ns_m = interp1d(kh, pk[0])\n",
    "\n",
    "#RESET FIDUCIAL\n",
    "pars = camb.CAMBparams()\n",
    "pars.set_cosmology(H0=H00, ombh2=omegab*pow(hubble,2), omch2=omegac*pow(hubble,2),omk=0,mnu=0)\n",
    "pars.set_dark_energy() #LCDM (default)\n",
    "pars.InitPower.set_params(ns=nss, r=0, As=Ass)\n",
    "pars.set_for_lmax(2500, lens_potential_accuracy=0);\n",
    "results = camb.get_results(pars)\n",
    "#Not non-linear corrections couples to smaller scales than you want\n",
    "pars.set_matter_power(redshifts=[0.], kmax=2.0)\n",
    "#Just linear spectra\n",
    "pars.NonLinear = model.NonLinear_none\n",
    "results.calc_power_spectra(pars)\n",
    "\n",
    "#print sig8_ns_m, sig8_fid, sig8_ns_p\n",
    "#print results.get_sigma8()[0]\n",
    "\n",
    "# Numerical derivative wrt Ωbh2 \n",
    "\n",
    "wb = omegab*pow(hubble,2)\n",
    "step_wb = 0.05*wb\n",
    "wb_p = wb+step_wb\n",
    "wb_m = wb-step_wb\n",
    "\n",
    "#DERIV PLUS\n",
    "pars = camb.CAMBparams()\n",
    "pars.set_cosmology(H0=H00, ombh2=wb_p, omch2=omegac*pow(hubble,2),omk=0,mnu=0)\n",
    "pars.set_dark_energy() #LCDM (default)\n",
    "pars.InitPower.set_params(ns=nss, r=0, As=Ass)\n",
    "pars.set_for_lmax(2500, lens_potential_accuracy=0);\n",
    "results = camb.get_results(pars)\n",
    "#Not non-linear corrections couples to smaller scales than you want\n",
    "pars.set_matter_power(redshifts=[0.], kmax=2.0)\n",
    "#Just linear spectra\n",
    "pars.NonLinear = model.NonLinear_none\n",
    "results.calc_power_spectra(pars)\n",
    "kh, z, pk = results.get_matter_power_spectrum(minkh=1e-4, maxkh=1.0, npoints = 200)\n",
    "\n",
    "sig8_wb_p = results.get_sigma8()[0]\n",
    "Pkz0_wb_p = interp1d(kh, pk[0])\n",
    "\n",
    "#DERIV MINUS\n",
    "pars = camb.CAMBparams()\n",
    "pars.set_cosmology(H0=H00, ombh2=wb_m, omch2=omegac*pow(hubble,2),omk=0,mnu=0)\n",
    "pars.set_dark_energy() #LCDM (default)\n",
    "pars.InitPower.set_params(ns=nss, r=0, As=Ass)\n",
    "pars.set_for_lmax(2500, lens_potential_accuracy=0);\n",
    "results = camb.get_results(pars)\n",
    "#Not non-linear corrections couples to smaller scales than you want\n",
    "pars.set_matter_power(redshifts=[0.], kmax=2.0)\n",
    "#Just linear spectra\n",
    "pars.NonLinear = model.NonLinear_none\n",
    "results.calc_power_spectra(pars)\n",
    "kh, z, pk = results.get_matter_power_spectrum(minkh=1e-4, maxkh=1.0, npoints = 200)\n",
    "\n",
    "sig8_wb_m= results.get_sigma8()[0]\n",
    "Pkz0_wb_m = interp1d(kh, pk[0])\n",
    "\n",
    "#RESET FIDUCIAL\n",
    "pars = camb.CAMBparams()\n",
    "pars.set_cosmology(H0=H00, ombh2=omegab*pow(hubble,2), omch2=omegac*pow(hubble,2),omk=0,mnu=0)\n",
    "pars.set_dark_energy() #LCDM (default)\n",
    "pars.InitPower.set_params(ns=nss, r=0, As=Ass)\n",
    "pars.set_for_lmax(2500, lens_potential_accuracy=0);\n",
    "results = camb.get_results(pars)\n",
    "#Not non-linear corrections couples to smaller scales than you want\n",
    "pars.set_matter_power(redshifts=[0.], kmax=2.0)\n",
    "#Just linear spectra\n",
    "pars.NonLinear = model.NonLinear_none\n",
    "results.calc_power_spectra(pars)\n",
    "\n",
    "#print sig8_wb_m, sig8_fid, sig8_wb_p\n",
    "#print results.get_sigma8()[0]\n",
    "\n",
    "# Numerical derivative wrt Ωmh2 \n",
    "\n",
    "wm = omegab*pow(hubble,2)+omegac*pow(hubble,2)\n",
    "wc = omegac*pow(hubble,2)\n",
    "step_wm = 0.05*wc\n",
    "wm_p = wm+step_wm\n",
    "wm_m = wb-step_wm\n",
    "\n",
    "#DERIV PLUS\n",
    "pars = camb.CAMBparams()\n",
    "pars.set_cosmology(H0=H00, ombh2=omegab*pow(hubble,2), omch2=wc+step_wm,omk=0,mnu=0)\n",
    "pars.set_dark_energy() #LCDM (default)\n",
    "pars.InitPower.set_params(ns=nss, r=0, As=Ass)\n",
    "pars.set_for_lmax(2500, lens_potential_accuracy=0);\n",
    "results = camb.get_results(pars)\n",
    "#Not non-linear corrections couples to smaller scales than you want\n",
    "pars.set_matter_power(redshifts=[0.], kmax=2.0)\n",
    "#Just linear spectra\n",
    "pars.NonLinear = model.NonLinear_none\n",
    "results.calc_power_spectra(pars)\n",
    "kh, z, pk = results.get_matter_power_spectrum(minkh=1e-4, maxkh=1.0, npoints = 200)\n",
    "\n",
    "sig8_wm_p = results.get_sigma8()[0]\n",
    "Pkz0_wm_p = interp1d(kh, pk[0])\n",
    "\n",
    "#DERIV MINUS\n",
    "pars = camb.CAMBparams()\n",
    "pars.set_cosmology(H0=H00, ombh2=omegab*pow(hubble,2), omch2=wc-step_wm,omk=0,mnu=0)\n",
    "pars.set_dark_energy() #LCDM (default)\n",
    "pars.InitPower.set_params(ns=nss, r=0, As=Ass)\n",
    "pars.set_for_lmax(2500, lens_potential_accuracy=0);\n",
    "results = camb.get_results(pars)\n",
    "#Not non-linear corrections couples to smaller scales than you want\n",
    "pars.set_matter_power(redshifts=[0.], kmax=2.0)\n",
    "#Just linear spectra\n",
    "pars.NonLinear = model.NonLinear_none\n",
    "results.calc_power_spectra(pars)\n",
    "kh, z, pk = results.get_matter_power_spectrum(minkh=1e-4, maxkh=1.0, npoints = 200)\n",
    "\n",
    "sig8_wm_m= results.get_sigma8()[0]\n",
    "Pkz0_wm_m = interp1d(kh, pk[0])\n",
    "\n",
    "#RESET FIDUCIAL\n",
    "pars = camb.CAMBparams()\n",
    "pars.set_cosmology(H0=H00, ombh2=omegab*pow(hubble,2), omch2=omegac*pow(hubble,2),omk=0,mnu=0)\n",
    "pars.set_dark_energy() #LCDM (default)\n",
    "pars.InitPower.set_params(ns=nss, r=0, As=Ass)\n",
    "pars.set_for_lmax(2500, lens_potential_accuracy=0);\n",
    "results = camb.get_results(pars)\n",
    "#Not non-linear corrections couples to smaller scales than you want\n",
    "pars.set_matter_power(redshifts=[0.], kmax=2.0)\n",
    "#Just linear spectra\n",
    "pars.NonLinear = model.NonLinear_none\n",
    "results.calc_power_spectra(pars)\n",
    "\n",
    "print sig8_wm_m, sig8_fid, sig8_wm_p\n",
    "print results.get_sigma8()[0]"
   ]
  },
  {
   "cell_type": "code",
   "execution_count": 41,
   "metadata": {
    "collapsed": false
   },
   "outputs": [
    {
     "name": "stdout",
     "output_type": "stream",
     "text": [
      "-0.459308370485 1.15873078798 -0.698583655411\n"
     ]
    }
   ],
   "source": [
    "def dlnP_dns(kk):\n",
    "    return ((Pkz0_ns_p(kk)/pow(sig8_ns_p,2))-(Pkz0_ns_m(kk)/pow(sig8_ns_m,2)))/(2*step_ns)/(Pkz0(kk)/pow(sig8_fid,2))\n",
    "\n",
    "def dlnP_dwb(kk):\n",
    "    return ((Pkz0_wb_p(kk)/pow(sig8_wb_p,2))-(Pkz0_wb_m(kk)/pow(sig8_wb_m,2)))/(2*step_wb)/(Pkz0(kk)/pow(sig8_fid,2))\n",
    "\n",
    "def dlnP_dwm(kk):\n",
    "    return ((Pkz0_wm_p(kk)/pow(sig8_wm_p,2))-(Pkz0_wm_m(kk)/pow(sig8_wm_m,2)))/(2*step_wm)/(Pkz0(kk)/pow(sig8_fid,2))\n",
    "\n",
    "print dlnP_dns(0.1), dlnP_dwb(0.1), dlnP_dwm(0.1)"
   ]
  },
  {
   "cell_type": "code",
   "execution_count": 42,
   "metadata": {
    "collapsed": false
   },
   "outputs": [],
   "source": [
    "def dF(kk,mu):\n",
    "    return (1./(8*pi*pi))*pow(kk,2)*deriv_i(kk,mu,zc)*deriv_j(kk,mu,zc)*Veff(kk,mu,zc)    "
   ]
  },
  {
   "cell_type": "code",
   "execution_count": 44,
   "metadata": {
    "collapsed": true
   },
   "outputs": [],
   "source": [
    "#2D integration function\n",
    "def integrate2D(dfun, kgrid, mugrid):\n",
    "    \n",
    "    muint = [scipy.integrate.simps(dfun.T[i], mugrid) for i in range(kgrid.size)]\n",
    "    return scipy.integrate.simps(muint, kgrid)"
   ]
  },
  {
   "cell_type": "code",
   "execution_count": 45,
   "metadata": {
    "collapsed": false
   },
   "outputs": [],
   "source": [
    "mugrid = np.linspace(-1., 1., 200) "
   ]
  },
  {
   "cell_type": "code",
   "execution_count": 47,
   "metadata": {
    "collapsed": false,
    "scrolled": true
   },
   "outputs": [
    {
     "name": "stdout",
     "output_type": "stream",
     "text": [
      "0.7 3.468328e-02 3.522367e-02 2.847262e-02 2.808188e-02 3.521302e+01 4.309632e-02 2.514742e-03 1.023965e-02\n",
      "0.8 2.910476e-02 2.960705e-02 2.407874e-02 2.373060e-02 3.000969e+01 3.719436e-02 2.115503e-03 8.657134e-03\n",
      "0.9 2.834658e-02 2.879493e-02 2.307210e-02 2.313396e-02 2.589923e+01 3.589283e-02 2.059195e-03 8.411338e-03\n",
      "1.0 2.783361e-02 2.825954e-02 2.262451e-02 2.269230e-02 2.411429e+01 3.496098e-02 2.020375e-03 8.239883e-03\n",
      "1.1 2.719136e-02 2.762923e-02 2.249779e-02 2.211197e-02 2.448821e+01 3.403162e-02 1.972253e-03 8.037909e-03\n",
      "1.2 2.737927e-02 2.780999e-02 2.272694e-02 2.222224e-02 2.380475e+01 3.392896e-02 1.983790e-03 8.069347e-03\n",
      "1.3 2.773124e-02 2.815968e-02 2.313253e-02 2.246362e-02 2.343440e+01 3.403641e-02 2.007168e-03 8.149001e-03\n",
      "1.4 2.943223e-02 2.984760e-02 2.443041e-02 2.375785e-02 2.301194e+01 3.540860e-02 2.126373e-03 8.599513e-03\n",
      "1.5 3.119511e-02 3.162927e-02 2.623274e-02 2.506059e-02 2.449180e+01 3.688536e-02 2.249415e-03 9.066217e-03\n",
      "1.6 3.404671e-02 3.453815e-02 2.949713e-02 2.715932e-02 2.862278e+01 3.937713e-02 2.448757e-03 9.826562e-03\n",
      "1.7 4.358410e-02 4.406405e-02 3.698399e-02 3.443969e-02 3.194587e+01 4.783685e-02 3.121290e-03 1.238986e-02\n",
      "1.8 4.628302e-02 4.674839e-02 3.908979e-02 3.651494e-02 3.169830e+01 5.017639e-02 3.311263e-03 1.310787e-02\n",
      "1.9 6.280969e-02 6.332683e-02 5.315760e-02 4.905972e-02 4.179701e+01 6.469763e-02 4.475838e-03 1.751660e-02\n",
      "2.0 1.020778e-01 1.025790e-01 8.436511e-02 7.894112e-02 5.910477e+01 9.850319e-02 7.246539e-03 2.791947e-02\n"
     ]
    }
   ],
   "source": [
    "fo = open(\"errors.txt\", \"w\")\n",
    "\n",
    "#%%time\n",
    "#   Fisher matrix   # \n",
    "\n",
    "Npar = len(params)\n",
    "#create array of zeros\n",
    "s = (Npar,Npar)\n",
    "\n",
    "for zi in range(0,Nzbins):\n",
    "    \n",
    "    zc = zlist[zi]\n",
    "    bg = biaslist[zi]\n",
    "    zmin = zc-Dzbin/2\n",
    "    zmax = zc+Dzbin/2\n",
    "     \n",
    "    #dVdz = (4*pi/3)*((1+zmax)**3*DA(zmax)**3-(1+zmin)**3*DA(zmin)**3)/(4*pi*pow(180/pi,2))\n",
    "    #nbar = Dzbin*dn3[zi]/dVdz\n",
    "    Ngal = dn3[zi]*Area*Dzbin\n",
    "    #print Ngal\n",
    "    \n",
    "    kgrid = np.linspace(kmin, kmax, 400)\n",
    "    K, MU = np.meshgrid(kgrid, mugrid)\n",
    "    Fishermat = np.zeros(s)\n",
    "    for i in range(0,Npar):\n",
    "        def deriv_i(kk,mu,zc):\n",
    "            if i==0:  return dlnP_dlnH(kk,mu,zc)\n",
    "            elif i==1:  return dlnP_dlnDA(kk,mu,zc)\n",
    "            elif i==2:  return dlnP_dlnfsig8(kk,mu,zc)\n",
    "            elif i==3:  return dlnP_dlnbsig8(kk,mu,zc)\n",
    "            elif i==4:  return dlnP_dPs(kk,mu,zc)\n",
    "            elif i==5:  return dlnP_dns(kk)\n",
    "            elif i==6:  return dlnP_dwb(kk)\n",
    "            elif i==7:  return dlnP_dwm(kk)\n",
    "            else: print \"Error: index out of range\"\n",
    "        for  j in range(0,Npar):\n",
    "            if j>=i:\n",
    "                def deriv_j(kk,mu,zc):\n",
    "                    if j==0:  return dlnP_dlnH(kk,mu,zc)\n",
    "                    elif j==1:  return dlnP_dlnDA(kk,mu,zc)\n",
    "                    elif j==2:  return dlnP_dlnfsig8(kk,mu,zc)\n",
    "                    elif j==3:  return dlnP_dlnbsig8(kk,mu,zc)\n",
    "                    elif j==4:  return dlnP_dPs(kk,mu,zc)\n",
    "                    elif j==5:  return dlnP_dns(kk)\n",
    "                    elif j==6:  return dlnP_dwb(kk)\n",
    "                    elif j==7:  return dlnP_dwm(kk)\n",
    "                    else: print \"Error: index out of range\" \n",
    "                Fishermat[i][j] = integrate2D(dF(K,MU),kgrid,mugrid)                \n",
    "            else: Fishermat[i,j] = Fishermat[j,i]\n",
    "            #if zi==0: print i,j,Fishermat[i][j]\n",
    "            \n",
    "    zbin = str(zc)\n",
    "    lnDerr = str(\"%e\" % np.sqrt(linalg.inv(Fishermat)[1,1]))\n",
    "    lnHerr = str(\"%e\" % np.sqrt(linalg.inv(Fishermat)[0,0]))\n",
    "    lnfsig8err = str(\"%e\" % np.sqrt(linalg.inv(Fishermat)[2,2]))\n",
    "    lnbsig8err = str(\"%e\" % np.sqrt(linalg.inv(Fishermat)[3,3]))\n",
    "    Pserr = str(\"%e\" % np.sqrt(linalg.inv(Fishermat)[4,4]))  \n",
    "    nserr = str(\"%e\" % np.sqrt(linalg.inv(Fishermat)[5,5]))\n",
    "    wberr = str(\"%e\" % np.sqrt(linalg.inv(Fishermat)[6,6]))\n",
    "    wmerr = str(\"%e\" % np.sqrt(linalg.inv(Fishermat)[7,7]))\n",
    "    \n",
    "    print zbin, lnDerr, lnHerr, lnfsig8err, lnbsig8err, Pserr, nserr, wberr, wmerr\n",
    "\n",
    "    \n",
    "    outp = zbin + \"\\t\" + lnDerr + \"\\t\" + lnHerr + \"\\t\" + lnfsig8err + \"\\t\" + lnbsig8err + \\\n",
    "    \"\\t\" + Pserr + \"\\t\" + nserr + \"\\t\" + wberr + \"\\t\" + wmerr + \"\\n\"\n",
    "    fo.write(outp)\n",
    "    \n",
    "fo.close()    "
   ]
  },
  {
   "cell_type": "code",
   "execution_count": null,
   "metadata": {
    "collapsed": false
   },
   "outputs": [],
   "source": [
    "#Ngal = 4825.798*Area*Dzbin\n",
    "#print (Vsur(1.0)/Ngal)"
   ]
  },
  {
   "cell_type": "code",
   "execution_count": null,
   "metadata": {
    "collapsed": true
   },
   "outputs": [],
   "source": []
  },
  {
   "cell_type": "code",
   "execution_count": null,
   "metadata": {
    "collapsed": false
   },
   "outputs": [],
   "source": [
    "#nbartest = 0.0001*17*hubble**3\n",
    "#print 1/nbartest"
   ]
  },
  {
   "cell_type": "code",
   "execution_count": null,
   "metadata": {
    "collapsed": false
   },
   "outputs": [],
   "source": [
    "#print Pshot(1.0)"
   ]
  },
  {
   "cell_type": "code",
   "execution_count": null,
   "metadata": {
    "collapsed": false
   },
   "outputs": [],
   "source": [
    "#zminn = 1.0-Dzbin/2\n",
    "#zmaxx = 1.0+Dzbin/2\n",
    "#dVdztest = (4*pi/3)*((1+zmaxx)**3*DA(zmaxx)**3-(1+zminn)**3*DA(zminn)**3)/(4*pi*pow(180/pi,2))\n",
    "\n",
    "#nbartest = Dzbin*4825.798/dVdztest\n",
    "#print 1/nbartest"
   ]
  },
  {
   "cell_type": "code",
   "execution_count": null,
   "metadata": {
    "collapsed": true
   },
   "outputs": [],
   "source": [
    "#print \"z =\",zc,\"lnH error =\", np.sqrt(linalg.inv(Fishermat)[0,0]),\\\n",
    "    #\"lnDA error =\", np.sqrt(linalg.inv(Fishermat)[1,1]),\\\n",
    "    #\"fsig8 error =\",np.sqrt(linalg.inv(Fishermat)[2,2]),\\\n",
    "    #\"bsig8 error =\",np.sqrt(linalg.inv(Fishermat)[3,3]),\\\n",
    "    #\"Ps error =\",np.sqrt(linalg.inv(Fishermat)[4,4])"
   ]
  },
  {
   "cell_type": "code",
   "execution_count": null,
   "metadata": {
    "collapsed": true
   },
   "outputs": [],
   "source": [
    "#errorlist = [zc, np.sqrt(linalg.inv(Fishermat)[1,1])]\n",
    "    \n",
    "#    for eachitem in errorlist:\n",
    "#        fo.write(str(eachitem))#+'\\n')"
   ]
  }
 ],
 "metadata": {
  "kernelspec": {
   "display_name": "Python 2",
   "language": "python",
   "name": "python2"
  },
  "language_info": {
   "codemirror_mode": {
    "name": "ipython",
    "version": 2
   },
   "file_extension": ".py",
   "mimetype": "text/x-python",
   "name": "python",
   "nbconvert_exporter": "python",
   "pygments_lexer": "ipython2",
   "version": "2.7.12"
  }
 },
 "nbformat": 4,
 "nbformat_minor": 0
}
