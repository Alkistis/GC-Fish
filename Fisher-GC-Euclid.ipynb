{
 "cells": [
  {
   "cell_type": "markdown",
   "metadata": {},
   "source": [
    "Euclid GC Fisher Matrix Code\n",
    "\n",
    "Authors: Alkistis Pourtsidou and Dida Markovic, ICG Portsmouth\n",
    "\n",
    "Using part of http://camb.readthedocs.io/en/latest/CAMBdemo.html \n",
    "\n",
    "To run this Jupyter notebook you need to have CAMB and the CAMB python package \n",
    "installed. In order to install the CAMB python package on your computer follow\n",
    "the instructions in http://camb.readthedocs.io/en/latest/"
   ]
  },
  {
   "cell_type": "code",
   "execution_count": 1,
   "metadata": {
    "collapsed": false
   },
   "outputs": [
    {
     "name": "stdout",
     "output_type": "stream",
     "text": [
      "Using CAMB installed at /Users/alkistis/workspace\n"
     ]
    }
   ],
   "source": [
    "%matplotlib inline\n",
    "import sys, platform, os\n",
    "\n",
    "from matplotlib import pyplot as plt\n",
    "import numpy as np\n",
    "\n",
    "print('Using CAMB installed at '+ os.path.realpath(os.path.join(os.getcwd(),'..')))\n",
    "sys.path.insert(0,os.path.realpath(os.path.join(os.getcwd(),'..')))\n",
    "import camb\n",
    "from camb import model, initialpower"
   ]
  },
  {
   "cell_type": "code",
   "execution_count": 2,
   "metadata": {
    "collapsed": false
   },
   "outputs": [],
   "source": [
    "import scipy\n",
    "from scipy.interpolate import interp1d\n",
    "from __future__ import division"
   ]
  },
  {
   "cell_type": "code",
   "execution_count": 3,
   "metadata": {
    "collapsed": false
   },
   "outputs": [],
   "source": [
    "from scipy import integrate\n",
    "from scipy import linalg\n",
    "\n",
    "pi=np.pi"
   ]
  },
  {
   "cell_type": "code",
   "execution_count": 4,
   "metadata": {
    "collapsed": true
   },
   "outputs": [],
   "source": [
    "#Flag to read\n",
    "fromfile = True\n",
    "\n",
    "#path flag\n",
    "SlavMonkey = False\n",
    "\n",
    "if SlavMonkey:\n",
    "    path=\"/Users/dida/Google Drive/Euclid/IST GC/Inputs/\"\n",
    "else:\n",
    "    path=\"/Users/alkistis/Google Drive/IST GC/Inputs/\"\n",
    "\n",
    "pathrt = path + \"IST_Pks8sqRatios_plmn_z/\"\n",
    "pathfg = path\n",
    "pathPk = path + \"IST_Pk_plmn_z/\""
   ]
  },
  {
   "cell_type": "code",
   "execution_count": 5,
   "metadata": {
    "collapsed": false
   },
   "outputs": [],
   "source": [
    "#Fiducial cosmological parameters\n",
    "\n",
    "hubble=0.67\n",
    "omegab=0.022445/hubble**2\n",
    "omegac=0.121203/hubble**2\n",
    "om0=omegac+omegab\n",
    "H00=100*hubble\n",
    "Ass=2.1265e-9\n",
    "nss=0.96\n",
    "\n",
    "gamma=0.545\n",
    "\n",
    "c=3e5\n",
    "\n",
    "#print om0"
   ]
  },
  {
   "cell_type": "code",
   "execution_count": 6,
   "metadata": {
    "collapsed": false
   },
   "outputs": [],
   "source": [
    "if not fromfile:\n",
    "    #Set up the fiducial cosmology\n",
    "    pars = camb.CAMBparams()\n",
    "    #Set cosmology\n",
    "    pars.set_cosmology(H0=H00, ombh2=omegab*pow(hubble,2), omch2=omegac*pow(hubble,2),omk=0,mnu=0)\n",
    "    pars.set_dark_energy() #LCDM (default)\n",
    "    pars.InitPower.set_params(ns=nss, r=0, As=Ass)\n",
    "    pars.set_for_lmax(2500, lens_potential_accuracy=0);"
   ]
  },
  {
   "cell_type": "code",
   "execution_count": 7,
   "metadata": {
    "collapsed": false
   },
   "outputs": [],
   "source": [
    "if not fromfile:\n",
    "    #calculate results for these parameters\n",
    "    results = camb.get_results(pars)\n",
    "    #print pars"
   ]
  },
  {
   "cell_type": "code",
   "execution_count": 8,
   "metadata": {
    "collapsed": false
   },
   "outputs": [],
   "source": [
    "if not fromfile:\n",
    "    #Get matter power spectrum at z=0: P(k,z=0)\n",
    "\n",
    "    #Not non-linear corrections couples to smaller scales than you want\n",
    "    pars.set_matter_power(redshifts=[0.], kmax=2.0)\n",
    "\n",
    "    #Just linear spectra\n",
    "    pars.NonLinear = model.NonLinear_none\n",
    "    results.calc_power_spectra(pars)"
   ]
  },
  {
   "cell_type": "code",
   "execution_count": 9,
   "metadata": {
    "collapsed": false
   },
   "outputs": [],
   "source": [
    "#Spatially flat Universe\n",
    "\n",
    "#Define E(z) = H(z)/H0\n",
    "def Ez(zc):\n",
    "    return np.sqrt(1-om0+om0*pow(1+zc,3))\n",
    "def Hz(zc):\n",
    "    return Ez(zc)*H00\n",
    "\n",
    "#Define the cosmological distances\n",
    "def drdz(zp):\n",
    "    return (c/H00)/Ez(zp)\n",
    "def rcom(zc):\n",
    "    return scipy.integrate.romberg(drdz,0,zc)\n",
    "def DA(zc):\n",
    "    return rcom(zc)/(1+zc)\n",
    "\n",
    "#print rcom(ztest)\n",
    "#print DA(ztest)"
   ]
  },
  {
   "cell_type": "code",
   "execution_count": 10,
   "metadata": {
    "collapsed": false
   },
   "outputs": [
    {
     "name": "stdout",
     "output_type": "stream",
     "text": [
      "0.821175740046 0.945876313858\n"
     ]
    }
   ],
   "source": [
    "#LCDM growth rate and growth factor\n",
    "if not fromfile:\n",
    "\n",
    "    def fg(zz):\n",
    "        omz=om0*pow(1+zz,3)/pow(Ez(zz),2)\n",
    "        return pow(omz,gamma)\n",
    "\n",
    "    def Dg_dz(zz):\n",
    "        return -fg(zz)/(1+zz)\n",
    "\n",
    "    def Dgz(zc):\n",
    "        start_z = 0.0\n",
    "        ans = scipy.integrate.romberg(Dg_dz, start_z, zc)\n",
    "        return np.exp(ans)\n",
    "    \n",
    "else:\n",
    "\n",
    "    growthfilename = pathfg+\"/IST_zetha_fg_growthfactor.dat\"\n",
    "    datafg = np.genfromtxt(growthfilename)\n",
    "    \n",
    "    zg = datafg[:,0]\n",
    "    fg = datafg[:,1]\n",
    "    Dg = datafg[:,2]\n",
    "    \n",
    "    def fg(zz, zi=zg, fi=fg):\n",
    "        ans = interp1d(zi, fi)\n",
    "        return ans(zz)\n",
    "\n",
    "    def Dgz(zz, zi=zg, di=Dg):\n",
    "        ans = interp1d(zi, di)\n",
    "        return ans(zz)\n",
    "    \n",
    "print fg(0.7), fg(1.7)"
   ]
  },
  {
   "cell_type": "code",
   "execution_count": 11,
   "metadata": {
    "collapsed": false
   },
   "outputs": [],
   "source": [
    "filename = pathrt+\"/Pks8sqRatio_ist_fid_iz=00.dat\"\n",
    " \n",
    "if fromfile:\n",
    "    data = np.genfromtxt(filename, skip_header=3)\n",
    "    kh = data[:,0]\n",
    "    rt = data[:,1] # This file is not z=0!! It is z=0.7, so we need to correct later if z=0 is needed!\n",
    "    sig8_fid = data[0,2]\n",
    "else:\n",
    "    kh, z, pk = results.get_matter_power_spectrum(minkh=1e-4, maxkh=1.0, npoints = 800)\n",
    "\n",
    "#print results.get_matter_power_spectrum(minkh=1e-4, maxkh=1.0, npoints = 200)[2]"
   ]
  },
  {
   "cell_type": "code",
   "execution_count": 12,
   "metadata": {
    "collapsed": false
   },
   "outputs": [],
   "source": [
    "#Construct P(k,z=0) interpolating function\n",
    "if not fromfile:\n",
    "    Pkz0 = interp1d(kh, pk[0])\n",
    "\n",
    "    print Pkz0(0.1)"
   ]
  },
  {
   "cell_type": "code",
   "execution_count": 13,
   "metadata": {
    "collapsed": false
   },
   "outputs": [],
   "source": [
    "#get fiducial σ8 (at z=0)\n",
    "if not fromfile:\n",
    "    sig8_fid = results.get_sigma8()[0]\n",
    "    print sig8_fid\n",
    "\n",
    "    rt0_fid = interp1d(kh, pk[0]/pow(sig8_fid,2))\n",
    "else:\n",
    "    rt0_fid = interp1d(kh, rt)\n",
    "    \n",
    "    Pkz0 = interp1d(kh, rt*pow(sig8_fid,2)/pow(Dgz(0.7),2))"
   ]
  },
  {
   "cell_type": "code",
   "execution_count": 14,
   "metadata": {
    "collapsed": false
   },
   "outputs": [
    {
     "name": "stdout",
     "output_type": "stream",
     "text": [
      "[ 0.7  0.8  0.9  1.   1.1  1.2  1.3  1.4  1.5  1.6  1.7  1.8  1.9  2. ]\n",
      "14 14\n"
     ]
    }
   ],
   "source": [
    "#Redshift bins\n",
    "zlist = np.arange(0.7,2.1,0.1)\n",
    "ztest = zlist[0]\n",
    "Nzbins = len(zlist)\n",
    "\n",
    "biaslist = [1.083, 1.125, 1.104, 1.126, 1.208, 1.243, 1.282, 1.292, 1.363, 1.497, 1.486, \\\n",
    "            1.491, 1.573, 1.568]\n",
    "\n",
    "kmin = 0.001\n",
    "kmax = 0.2\n",
    "\n",
    "dn3 = [2434.28, 4364.812, 4728.559, 4825.798, 4728.797, 4507.625, 4269.851, 3720.657, 3104.309, \\\n",
    "       2308.975, 1541.831, 1474.707, 893.716, 497.613]\n",
    "\n",
    "print zlist\n",
    "print len(zlist), len(dn3)"
   ]
  },
  {
   "cell_type": "code",
   "execution_count": 15,
   "metadata": {
    "collapsed": false
   },
   "outputs": [],
   "source": [
    "#Construct P_gg(k,μ,z)\n",
    "def Pgg(kk,mu,zc):\n",
    "    return pow(bg+fg(zc)*mu**2,2)*pow(Dgz(zc),2)*Pkz0(kk)    "
   ]
  },
  {
   "cell_type": "code",
   "execution_count": 16,
   "metadata": {
    "collapsed": true
   },
   "outputs": [],
   "source": [
    "#Euclid\n",
    "Area=15000.0 #deg^2\n",
    "omegatot = Area*pow(pi/180,2)\n",
    "\n",
    "Dzbin = 0.1"
   ]
  },
  {
   "cell_type": "code",
   "execution_count": 17,
   "metadata": {
    "collapsed": false
   },
   "outputs": [
    {
     "name": "stdout",
     "output_type": "stream",
     "text": [
      "1.0\n"
     ]
    }
   ],
   "source": [
    "def photoz(kk,mu,zc): #set to zero!\n",
    "    sigz = 0.00*(1+zc) \n",
    "    return np.exp(-pow(kk*mu,2)*pow(c*sigz,2)/pow(Hz(zc),2))\n",
    "\n",
    "print photoz(0.5,0.5,ztest)"
   ]
  },
  {
   "cell_type": "code",
   "execution_count": 18,
   "metadata": {
    "collapsed": false
   },
   "outputs": [
    {
     "name": "stdout",
     "output_type": "stream",
     "text": [
      "0.7 9.184e+09\n"
     ]
    }
   ],
   "source": [
    "#survey (bin) volume [Mpc^3]\n",
    "def dVsurdz(zz):    \n",
    "    return omegatot*c*pow(rcom(zz),2)/(H00*Ez(zz))\n",
    "    \n",
    "def Vsur(zc):\n",
    "    return scipy.integrate.romberg(dVsurdz,zc-Dzbin/2,zc+Dzbin/2)\n",
    "\n",
    "def Pshot(zc):\n",
    "    return Vsur(zc)/Ngal\n",
    "\n",
    "#effective volume; the hubble**3 factors are for units consistency\n",
    "def Veff(kk,mu,zc):\n",
    "    return hubble**3*Vsur(zc)*(Pgg(kk,mu,zc)*photoz(kk,mu,zc)/(Pgg(kk,mu,zc)*photoz(kk,mu,zc)\\\n",
    "                                                     +hubble**3*Pshot(zc)))**2\n",
    "\n",
    "print ztest, \"%.4g\" %  Vsur(ztest)"
   ]
  },
  {
   "cell_type": "code",
   "execution_count": 19,
   "metadata": {
    "collapsed": false
   },
   "outputs": [],
   "source": [
    "#Fisher matrix parameters \n",
    "params = [\"0:lnH\",\"1:lnDA\",\"2:lnfsig8\",\"3:lnbsig8\",\"4:Ps\",\"5:ns\",\"6:wb\",\"7:wm\",\"8:h\"]\n",
    "shape_params = [5,6,7,8]"
   ]
  },
  {
   "cell_type": "code",
   "execution_count": 20,
   "metadata": {
    "collapsed": false
   },
   "outputs": [],
   "source": [
    "#Fisher matrix derivatives \n",
    "\n",
    "#z-dependent parameters\n",
    "\n",
    "def dlnP_dlnfsig8(kk,mu,zc):\n",
    "    return 2*mu**2*fg(zc)/(bg+mu**2*fg(zc))\n",
    "\n",
    "def dlnP_dlnbsig8(kk,mu,zc):\n",
    "    return 2*bg/(bg+mu**2*fg(zc))\n",
    "\n",
    "def dlnP_dlnDA(kk,mu,zc):\n",
    "    dk = (kmax-kmin)/400\n",
    "    return -2.0+4*mu**2*(1-mu**2)*fg(zc)/(bg+mu**2*fg(zc))\\\n",
    "            -kk*(1-mu**2)*(1/Pkz0(kk))*(Pkz0(kk+dk)-Pkz0(kk-dk))/(2*dk)\n",
    "\n",
    "def dlnP_dlnH(kk,mu,zc):\n",
    "    dk = (kmax-kmin)/400\n",
    "    return 1.0+4*mu**2*(1-mu**2)*fg(zc)/(bg+mu**2*fg(zc))\\\n",
    "            +kk*mu**2*(1/Pkz0(kk))*(Pkz0(kk+dk)-Pkz0(kk-dk))/(2*dk)\n",
    "\n",
    "def dlnP_dPs(kk,mu,zc):\n",
    "    return 1.0/(Pgg(kk,mu,zc)*photoz(kk,mu,zc))"
   ]
  },
  {
   "cell_type": "code",
   "execution_count": 21,
   "metadata": {
    "collapsed": false
   },
   "outputs": [],
   "source": [
    "#shape parameters\n",
    "\n",
    "if not fromfile:\n",
    "    # Numerical derivative wrt ns \n",
    "\n",
    "    step_ns = 0.01*nss\n",
    "    ns_p = nss+step_ns\n",
    "    ns_m = nss-step_ns\n",
    "\n",
    "    #DERIV PLUS\n",
    "    pars = camb.CAMBparams()\n",
    "    pars.set_cosmology(H0=H00, ombh2=omegab*pow(hubble,2), omch2=omegac*pow(hubble,2),omk=0,mnu=0)\n",
    "    pars.set_dark_energy() #LCDM (default)\n",
    "    pars.InitPower.set_params(ns=ns_p, r=0, As=Ass)\n",
    "    pars.set_for_lmax(2500, lens_potential_accuracy=0);\n",
    "    results = camb.get_results(pars)\n",
    "    #Not non-linear corrections couples to smaller scales than you want\n",
    "    pars.set_matter_power(redshifts=[0.], kmax=2.0)\n",
    "    #Just linear spectra\n",
    "    pars.NonLinear = model.NonLinear_none\n",
    "    results.calc_power_spectra(pars)\n",
    "    kh, z, pk = results.get_matter_power_spectrum(minkh=1e-4, maxkh=1.0, npoints = 800)\n",
    "\n",
    "    sig8_ns_p = results.get_sigma8()[0]\n",
    "    #Pkz0_ns_p = interp1d(kh, pk[0])\n",
    "    \n",
    "    rt0_ns_p = interp1d(kh,pk[0]/pow(sig8_ns_p,2))\n",
    "\n",
    "    #DERIV MINUS\n",
    "    pars = camb.CAMBparams()\n",
    "    pars.set_cosmology(H0=H00, ombh2=omegab*pow(hubble,2), omch2=omegac*pow(hubble,2),omk=0,mnu=0)\n",
    "    pars.set_dark_energy() #LCDM (default)\n",
    "    pars.InitPower.set_params(ns=ns_m, r=0, As=Ass)\n",
    "    pars.set_for_lmax(2500, lens_potential_accuracy=0);\n",
    "    results = camb.get_results(pars)\n",
    "    #Not non-linear corrections couples to smaller scales than you want\n",
    "    pars.set_matter_power(redshifts=[0.], kmax=2.0)\n",
    "    #Just linear spectra\n",
    "    pars.NonLinear = model.NonLinear_none\n",
    "    results.calc_power_spectra(pars)\n",
    "    kh, z, pk = results.get_matter_power_spectrum(minkh=1e-4, maxkh=1.0, npoints = 800)\n",
    "\n",
    "    sig8_ns_m= results.get_sigma8()[0]\n",
    "    #Pkz0_ns_m = interp1d(kh, pk[0])\n",
    "    \n",
    "    rt0_ns_m = interp1d(kh,pk[0]/pow(sig8_ns_m,2))\n",
    "\n",
    "    #RESET FIDUCIAL\n",
    "    pars = camb.CAMBparams()\n",
    "    pars.set_cosmology(H0=H00, ombh2=omegab*pow(hubble,2), omch2=omegac*pow(hubble,2),omk=0,mnu=0)\n",
    "    pars.set_dark_energy() #LCDM (default)\n",
    "    pars.InitPower.set_params(ns=nss, r=0, As=Ass)\n",
    "    pars.set_for_lmax(2500, lens_potential_accuracy=0);\n",
    "    results = camb.get_results(pars)\n",
    "    #Not non-linear corrections couples to smaller scales than you want\n",
    "    pars.set_matter_power(redshifts=[0.], kmax=2.0)\n",
    "    #Just linear spectra\n",
    "    pars.NonLinear = model.NonLinear_none\n",
    "    results.calc_power_spectra(pars)\n",
    "\n",
    "    #print sig8_ns_m, sig8_fid, sig8_ns_p\n",
    "    #print results.get_sigma8()[0]\n",
    "    \n",
    "    # Numerical derivative wrt wb \n",
    "\n",
    "    wb = omegab*pow(hubble,2)\n",
    "    wc = omegac*pow(hubble,2)\n",
    "    step_wb = 0.01*wb\n",
    "    wb_p = wb+step_wb\n",
    "    wb_m = wb-step_wb\n",
    "    wc_p = wc-step_wb\n",
    "    wc_m = wc+step_wb\n",
    "\n",
    "    #DERIV PLUS\n",
    "    pars = camb.CAMBparams()\n",
    "    pars.set_cosmology(H0=H00, ombh2=wb_p, omch2=wc_p,omk=0,mnu=0)\n",
    "    pars.set_dark_energy() #LCDM (default)\n",
    "    pars.InitPower.set_params(ns=nss, r=0, As=Ass)\n",
    "    pars.set_for_lmax(2500, lens_potential_accuracy=0);\n",
    "    results = camb.get_results(pars)\n",
    "    #Not non-linear corrections couples to smaller scales than you want\n",
    "    pars.set_matter_power(redshifts=[0.], kmax=2.0)\n",
    "    #Just linear spectra\n",
    "    pars.NonLinear = model.NonLinear_none\n",
    "    results.calc_power_spectra(pars)\n",
    "    kh, z, pk = results.get_matter_power_spectrum(minkh=1e-4, maxkh=1.0, npoints = 800)\n",
    "\n",
    "    sig8_wb_p = results.get_sigma8()[0]\n",
    "    #Pkz0_wb_p = interp1d(kh, pk[0])\n",
    "\n",
    "    rt0_wb_p = interp1d(kh,pk[0]/pow(sig8_wb_p,2))\n",
    "\n",
    "    #DERIV MINUS\n",
    "    pars = camb.CAMBparams()\n",
    "    pars.set_cosmology(H0=H00, ombh2=wb_m, omch2=wc_m,omk=0,mnu=0)\n",
    "    pars.set_dark_energy() #LCDM (default)\n",
    "    pars.InitPower.set_params(ns=nss, r=0, As=Ass)\n",
    "    pars.set_for_lmax(2500, lens_potential_accuracy=0);\n",
    "    results = camb.get_results(pars)\n",
    "    #Not non-linear corrections couples to smaller scales than you want\n",
    "    pars.set_matter_power(redshifts=[0.], kmax=2.0)\n",
    "    #Just linear spectra\n",
    "    pars.NonLinear = model.NonLinear_none\n",
    "    results.calc_power_spectra(pars)\n",
    "    kh, z, pk = results.get_matter_power_spectrum(minkh=1e-4, maxkh=1.0, npoints = 800)\n",
    "\n",
    "    sig8_wb_m= results.get_sigma8()[0]\n",
    "    #Pkz0_wb_m = interp1d(kh, pk[0])\n",
    "\n",
    "    rt0_wb_m = interp1d(kh,pk[0]/pow(sig8_wb_m,2))\n",
    "\n",
    "    #RESET FIDUCIAL\n",
    "    pars = camb.CAMBparams()\n",
    "    pars.set_cosmology(H0=H00, ombh2=omegab*pow(hubble,2), omch2=omegac*pow(hubble,2),omk=0,mnu=0)\n",
    "    pars.set_dark_energy() #LCDM (default)\n",
    "    pars.InitPower.set_params(ns=nss, r=0, As=Ass)\n",
    "    pars.set_for_lmax(2500, lens_potential_accuracy=0);\n",
    "    results = camb.get_results(pars)\n",
    "    #Not non-linear corrections couples to smaller scales than you want\n",
    "    pars.set_matter_power(redshifts=[0.], kmax=2.0)\n",
    "    #Just linear spectra\n",
    "    pars.NonLinear = model.NonLinear_none\n",
    "    results.calc_power_spectra(pars)\n",
    "\n",
    "    #print sig8_wb_m, sig8_fid, sig8_wb_p\n",
    "    #print results.get_sigma8()[0]\n",
    "\n",
    "    # Numerical derivative wrt wm \n",
    "\n",
    "    wm = (omegab+omegac)*pow(hubble,2)\n",
    "    step_wm = 0.01*wm\n",
    "    wm_p = wm+step_wm\n",
    "    wm_m = wm-step_wm\n",
    "\n",
    "    #DERIV PLUS\n",
    "    pars = camb.CAMBparams()\n",
    "    pars.set_cosmology(H0=H00, ombh2=wb, omch2=wm_p-wb,omk=0,mnu=0)\n",
    "    pars.set_dark_energy() #LCDM (default)\n",
    "    pars.InitPower.set_params(ns=nss, r=0, As=Ass)\n",
    "    pars.set_for_lmax(2500, lens_potential_accuracy=0);\n",
    "    results = camb.get_results(pars)\n",
    "    #Not non-linear corrections couples to smaller scales than you want\n",
    "    pars.set_matter_power(redshifts=[0.], kmax=2.0)\n",
    "    #Just linear spectra\n",
    "    pars.NonLinear = model.NonLinear_none\n",
    "    results.calc_power_spectra(pars)\n",
    "    kh, z, pk = results.get_matter_power_spectrum(minkh=1e-4, maxkh=1.0, npoints = 800)\n",
    "\n",
    "    sig8_wm_p = results.get_sigma8()[0]\n",
    "    #Pkz0_wm_p = interp1d(kh, pk[0])\n",
    "\n",
    "    rt0_wm_p = interp1d(kh,pk[0]/pow(sig8_wm_p,2))\n",
    "\n",
    "    #DERIV MINUS\n",
    "    pars = camb.CAMBparams()\n",
    "    pars.set_cosmology(H0=H00, ombh2=wb, omch2=wm_m-wb,omk=0,mnu=0)\n",
    "    pars.set_dark_energy() #LCDM (default)\n",
    "    pars.InitPower.set_params(ns=nss, r=0, As=Ass)\n",
    "    pars.set_for_lmax(2500, lens_potential_accuracy=0);\n",
    "    results = camb.get_results(pars)\n",
    "    #Not non-linear corrections couples to smaller scales than you want\n",
    "    pars.set_matter_power(redshifts=[0.], kmax=2.0)\n",
    "    #Just linear spectra\n",
    "    pars.NonLinear = model.NonLinear_none\n",
    "    results.calc_power_spectra(pars)\n",
    "    kh, z, pk = results.get_matter_power_spectrum(minkh=1e-4, maxkh=1.0, npoints = 800)\n",
    "\n",
    "    sig8_wm_m= results.get_sigma8()[0]\n",
    "    #Pkz0_wm_m = interp1d(kh, pk[0])\n",
    "\n",
    "    rt0_wm_m = interp1d(kh,pk[0]/pow(sig8_wm_m,2))\n",
    "\n",
    "    #RESET FIDUCIAL\n",
    "    pars = camb.CAMBparams()\n",
    "    pars.set_cosmology(H0=H00, ombh2=omegab*pow(hubble,2), omch2=omegac*pow(hubble,2),omk=0,mnu=0)\n",
    "    pars.set_dark_energy() #LCDM (default)\n",
    "    pars.InitPower.set_params(ns=nss, r=0, As=Ass)\n",
    "    pars.set_for_lmax(2500, lens_potential_accuracy=0);\n",
    "    results = camb.get_results(pars)\n",
    "    #Not non-linear corrections couples to smaller scales than you want\n",
    "    pars.set_matter_power(redshifts=[0.], kmax=2.0)\n",
    "    #Just linear spectra\n",
    "    pars.NonLinear = model.NonLinear_none\n",
    "    results.calc_power_spectra(pars)\n",
    "\n",
    "    #print sig8_wm_m, sig8_fid, sig8_wm_p\n",
    "    #print results.get_sigma8()[0]\n",
    "\n",
    "    # Numerical derivative wrt h \n",
    "\n",
    "    step_h = 0.01*hubble\n",
    "    h_p = hubble+step_h\n",
    "    h_m = hubble-step_h\n",
    "\n",
    "    #DERIV PLUS\n",
    "    pars = camb.CAMBparams()\n",
    "    pars.set_cosmology(H0=100*h_p, ombh2=omegab*pow(hubble,2), omch2=omegac*pow(hubble,2),omk=0,mnu=0)\n",
    "    pars.set_dark_energy() #LCDM (default)\n",
    "    pars.InitPower.set_params(ns=nss, r=0, As=Ass)\n",
    "    pars.set_for_lmax(2500, lens_potential_accuracy=0);\n",
    "    results = camb.get_results(pars)\n",
    "    #Not non-linear corrections couples to smaller scales than you want\n",
    "    pars.set_matter_power(redshifts=[0.], kmax=2.0)\n",
    "    #Just linear spectra\n",
    "    pars.NonLinear = model.NonLinear_none\n",
    "    results.calc_power_spectra(pars)\n",
    "    kh, z, pk = results.get_matter_power_spectrum(minkh=1e-4, maxkh=1.0, npoints = 800)\n",
    "\n",
    "    #print pars\n",
    "\n",
    "    sig8_h_p = results.get_sigma8()[0]\n",
    "    #Pkz0_h_p = interp1d(kh, pk[0])\n",
    "\n",
    "    rt0_h_p = interp1d(kh,pk[0]/pow(sig8_h_p,2))\n",
    "\n",
    "    #DERIV MINUS\n",
    "    pars = camb.CAMBparams()\n",
    "    pars.set_cosmology(H0=100*h_m, ombh2=omegab*pow(hubble,2), omch2=omegac*pow(hubble,2),omk=0,mnu=0)\n",
    "    pars.set_dark_energy() #LCDM (default)\n",
    "    pars.InitPower.set_params(ns=nss, r=0, As=Ass)\n",
    "    pars.set_for_lmax(2500, lens_potential_accuracy=0);\n",
    "    results = camb.get_results(pars)\n",
    "    #Not non-linear corrections couples to smaller scales than you want\n",
    "    pars.set_matter_power(redshifts=[0.], kmax=2.0)\n",
    "    #Just linear spectra\n",
    "    pars.NonLinear = model.NonLinear_none\n",
    "    results.calc_power_spectra(pars)\n",
    "    kh, z, pk = results.get_matter_power_spectrum(minkh=1e-4, maxkh=1.0, npoints = 800)\n",
    "\n",
    "    #print pars\n",
    "\n",
    "    sig8_h_m= results.get_sigma8()[0]\n",
    "    #Pkz0_h_m = interp1d(kh, pk[0])\n",
    "\n",
    "    rt0_h_m = interp1d(kh,pk[0]/pow(sig8_h_m,2))\n",
    "\n",
    "\n",
    "    #RESET FIDUCIAL\n",
    "    pars = camb.CAMBparams()\n",
    "    pars.set_cosmology(H0=H00, ombh2=omegab*pow(hubble,2), omch2=omegac*pow(hubble,2),omk=0,mnu=0)\n",
    "    pars.set_dark_energy() #LCDM (default)\n",
    "    pars.InitPower.set_params(ns=nss, r=0, As=Ass)\n",
    "    pars.set_for_lmax(2500, lens_potential_accuracy=0);\n",
    "    results = camb.get_results(pars)\n",
    "    #Not non-linear corrections couples to smaller scales than you want\n",
    "    pars.set_matter_power(redshifts=[0.], kmax=2.0)\n",
    "    #Just linear spectra\n",
    "    pars.NonLinear = model.NonLinear_none\n",
    "    results.calc_power_spectra(pars)\n",
    "\n",
    "    print sig8_h_m, sig8_fid, sig8_h_p\n",
    "    print results.get_sigma8()[0]"
   ]
  },
  {
   "cell_type": "code",
   "execution_count": 22,
   "metadata": {
    "collapsed": true
   },
   "outputs": [],
   "source": [
    "if fromfile:\n",
    "    \n",
    "    \n",
    "    ############ Numerical derivative wrt ns\n",
    "\n",
    "    #DERIV PLUS\n",
    "    filename = pathrt+\"Pks8sqRatio_ist_pl_ip=03_iz=00.dat\"\n",
    "    \n",
    "    # Get the value of ns_p\n",
    "    ns_p = 9.696e-01 # see Melita's file header            \n",
    "\n",
    "    # Get the data from the file\n",
    "    data = np.genfromtxt(filename, skip_header=3)\n",
    "    kh = data[:,0]\n",
    "    rt = data[:,1]\n",
    "    s = data[0,2]\n",
    "    rt0_ns_p = interp1d(kh,rt)\n",
    "    \n",
    "    #DERIV MINUS\n",
    "    filename = pathrt+\"Pks8sqRatio_ist_mn_ip=03_iz=00.dat\"\n",
    "    \n",
    "    # Get the value of ns_m\n",
    "    ns_m = 9.504e-01 # see Melita's file header\n",
    "    \n",
    "    # Get the data from the file\n",
    "    data = np.genfromtxt(filename, skip_header=3)\n",
    "    kh = data[:,0]\n",
    "    rt = data[:,1]\n",
    "    s = data[0,2]\n",
    "    rt0_ns_m = interp1d(kh,rt)\n",
    "\n",
    "    # Get the half-step\n",
    "    step_ns = (ns_p - ns_m)/2\n",
    "    \n",
    "    \n",
    "    ############ Numerical derivative wrt wb\n",
    "\n",
    "    #DERIV PLUS\n",
    "    filename = pathrt+\"Pks8sqRatio_ist_pl_ip=01_iz=00.dat\"\n",
    "    \n",
    "    # Get the value of wb_p\n",
    "    wb_p = 2.26695e-02 # see Melita's file header            \n",
    "\n",
    "    # Get the data from the file\n",
    "    data = np.genfromtxt(filename, skip_header=3)\n",
    "    kh = data[:,0]\n",
    "    rt = data[:,1]\n",
    "    s = data[0,2]\n",
    "    rt0_wb_p = interp1d(kh,rt)\n",
    "    \n",
    "    #DERIV MINUS\n",
    "    filename = pathrt+\"Pks8sqRatio_ist_mn_ip=01_iz=00.dat\"\n",
    "    \n",
    "    # Get the value of wb_m\n",
    "    wb_m = 2.22206e-02 # see Melita's file header\n",
    "    \n",
    "    # Get the data from the file\n",
    "    data = np.genfromtxt(filename, skip_header=3)\n",
    "    kh = data[:,0]\n",
    "    rt = data[:,1]\n",
    "    s = data[0,2]\n",
    "    rt0_wb_m = interp1d(kh,rt)\n",
    "\n",
    "    # Get the half-step\n",
    "    step_wb = (wb_p - wb_m)/2\n",
    "\n",
    "\n",
    "    ############ Numerical derivative wrt wm\n",
    "\n",
    "    #DERIV PLUS\n",
    "    filename = pathrt+\"Pks8sqRatio_ist_pl_ip=00_iz=00.dat\"\n",
    "    \n",
    "    # Get the value of wm_p\n",
    "    wm_p = 1.45084e-01 # see Melita's file header            \n",
    "\n",
    "    # Get the data from the file\n",
    "    data = np.genfromtxt(filename, skip_header=3)\n",
    "    kh = data[:,0]\n",
    "    rt = data[:,1]\n",
    "    s = data[0,2]\n",
    "    rt0_wm_p = interp1d(kh,rt)\n",
    "    \n",
    "    #DERIV MINUS\n",
    "    filename = pathrt+\"Pks8sqRatio_ist_mn_ip=00_iz=00.dat\"\n",
    "    \n",
    "    # Get the value of wm_m\n",
    "    wm_m = 1.42212e-01 # see Melita's file header\n",
    "    \n",
    "    # Get the data from the file\n",
    "    data = np.genfromtxt(filename, skip_header=3)\n",
    "    kh = data[:,0]\n",
    "    rt = data[:,1]\n",
    "    s = data[0,2]\n",
    "    rt0_wm_m = interp1d(kh,rt)\n",
    "\n",
    "    # Get the half-step\n",
    "    step_wm = (wm_p - wm_m)/2\n",
    "\n",
    "\n",
    "    ############ Numerical derivative wrt h\n",
    "\n",
    "    #DERIV PLUS\n",
    "    filename = pathrt+\"Pks8sqRatio_ist_pl_ip=02_iz=00.dat\"\n",
    "    \n",
    "    # Get the value of h_p\n",
    "    h_p = 6.76700e-01 # see Melita's file header            \n",
    "\n",
    "    # Get the data from the file\n",
    "    data = np.genfromtxt(filename, skip_header=3)\n",
    "    kh = data[:,0]\n",
    "    rt = data[:,1]\n",
    "    s = data[0,2]\n",
    "    rt0_h_p = interp1d(kh,rt)\n",
    "    \n",
    "    #DERIV MINUS\n",
    "    filename = pathrt+\"Pks8sqRatio_ist_mn_ip=02_iz=00.dat\"\n",
    "    \n",
    "    # Get the value of h_m\n",
    "    h_m = 6.63300e-01 # see Melita's file header\n",
    "    \n",
    "    # Get the data from the file\n",
    "    data = np.genfromtxt(filename, skip_header=3)\n",
    "    kh = data[:,0]\n",
    "    rt = data[:,1]\n",
    "    s = data[0,2]\n",
    "    rt0_h_m = interp1d(kh,rt)\n",
    "\n",
    "    # Get the half-step\n",
    "    step_h = (h_p - h_m)/2"
   ]
  },
  {
   "cell_type": "code",
   "execution_count": 23,
   "metadata": {
    "collapsed": false
   },
   "outputs": [
    {
     "name": "stdout",
     "output_type": "stream",
     "text": [
      "-0.458617307209 1.84905736371 -0.71818417615 -0.194940813117\n"
     ]
    }
   ],
   "source": [
    "def dlnP_dns(kk):\n",
    "    #return ((Pkz0_ns_p(kk)/pow(sig8_ns_p,2))-(Pkz0_ns_m(kk)/pow(sig8_ns_m,2)))/(2*step_ns)/(Pkz0(kk)/pow(sig8_fid,2))\n",
    "    return (rt0_ns_p(kk)-rt0_ns_m(kk))/(2*step_ns)/rt0_fid(kk)\n",
    "    \n",
    "def dlnP_dwb(kk):\n",
    "    #return ((Pkz0_wb_p(kk)/pow(sig8_wb_p,2))-(Pkz0_wb_m(kk)/pow(sig8_wb_m,2)))/(2*step_wb)/(Pkz0(kk)/pow(sig8_fid,2))\n",
    "    return (rt0_wb_p(kk)-rt0_wb_m(kk))/(2*step_wb)/rt0_fid(kk)\n",
    "    \n",
    "def dlnP_dwm(kk):\n",
    "    #return ((Pkz0_wm_p(kk)/pow(sig8_wm_p,2))-(Pkz0_wm_m(kk)/pow(sig8_wm_m,2)))/(2*step_wm)/(Pkz0(kk)/pow(sig8_fid,2))\n",
    "    return (rt0_wm_p(kk)-rt0_wm_m(kk))/(2*step_wm)/rt0_fid(kk)\n",
    "    \n",
    "def dlnP_dh(kk):\n",
    "    #return ((Pkz0_h_p(kk)/pow(sig8_h_p,2))-(Pkz0_h_m(kk)/pow(sig8_h_m,2)))/(2*step_h)/(Pkz0(kk)/pow(sig8_fid,2))\n",
    "    return (rt0_h_p(kk)-rt0_h_m(kk))/(2*step_h)/rt0_fid(kk)\n",
    "    \n",
    "print dlnP_dns(0.1), dlnP_dwb(0.1), dlnP_dwm(0.1), dlnP_dh(0.1)\n",
    "#print dlnP_dwm(0.1), dlnP_dh(0.1)"
   ]
  },
  {
   "cell_type": "code",
   "execution_count": 24,
   "metadata": {
    "collapsed": false
   },
   "outputs": [],
   "source": [
    "#with open('test.txt', 'w') as Pkfile:\n",
    "#    for row in zip(kh, Pkz0_wm_m(kh)/pow(sig8_wm_m,2)):\n",
    "#        print >> Pkfile, row[0], row[1]"
   ]
  },
  {
   "cell_type": "code",
   "execution_count": 25,
   "metadata": {
    "collapsed": false
   },
   "outputs": [],
   "source": [
    "def dF(kk,mu,zc):\n",
    "    return (1./(8*pi*pi))*pow(kk,2)*deriv_i(kk,mu,zc)*deriv_j(kk,mu,zc)*Veff(kk,mu,zc)    "
   ]
  },
  {
   "cell_type": "code",
   "execution_count": 26,
   "metadata": {
    "collapsed": true
   },
   "outputs": [],
   "source": [
    "#2D integration function\n",
    "def integrate2D(dfun, kgrid, mugrid):\n",
    "    \n",
    "    muint = [scipy.integrate.romb(dfun.T[i], dx=np.diff(mugrid)[0]) for i in range(kgrid.size)]\n",
    "    return scipy.integrate.romb(muint, dx=np.diff(kgrid)[0])"
   ]
  },
  {
   "cell_type": "code",
   "execution_count": 27,
   "metadata": {
    "collapsed": false
   },
   "outputs": [],
   "source": [
    "mugrid = np.linspace(-1., 1., 513) "
   ]
  },
  {
   "cell_type": "code",
   "execution_count": 28,
   "metadata": {
    "collapsed": false,
    "scrolled": true
   },
   "outputs": [],
   "source": [
    "#%%time\n",
    "#   Fisher matrix   # \n",
    "\n",
    "Npar = len(params)\n",
    "Npar_shape = len(shape_params)\n",
    "#create array of zeros\n",
    "s = (Npar-Npar_shape)*Nzbins + Npar_shape\n",
    "\n",
    "Fishermat = np.zeros([s,s])\n",
    "\n",
    "kgrid = np.linspace(kmin, kmax, 513)\n",
    "K, MU = np.meshgrid(kgrid, mugrid)\n",
    "for zi in range(0,Nzbins):\n",
    "    zc = zlist[zi]\n",
    "    bg = biaslist[zi]\n",
    "    zmin = zc-Dzbin/2\n",
    "    zmax = zc+Dzbin/2\n",
    "    Ngal = dn3[zi]*Area*Dzbin\n",
    "\n",
    "    for i in range(0,Npar):\n",
    "        if i not in shape_params: \n",
    "            k=zi*(Npar-Npar_shape) + i\n",
    "        else:\n",
    "            k = s + (i - Npar)\n",
    "            \n",
    "        def deriv_i(kk,mu,z):\n",
    "            if i==0:  return dlnP_dlnH(kk,mu,z)\n",
    "            elif i==1:  return dlnP_dlnDA(kk,mu,z)\n",
    "            elif i==2:  return dlnP_dlnfsig8(kk,mu,z)\n",
    "            elif i==3:  return dlnP_dlnbsig8(kk,mu,z)\n",
    "            elif i==4:  return dlnP_dPs(kk,mu,z)\n",
    "            elif i==5:  return dlnP_dns(kk)\n",
    "            elif i==6:  return dlnP_dwb(kk)\n",
    "            elif i==7:  return dlnP_dwm(kk)\n",
    "            elif i==8:  return dlnP_dh(kk)\n",
    "            else: print \"Error: index out of range\"\n",
    "        \n",
    "        for  j in range(0,Npar):\n",
    "            if j not in shape_params:\n",
    "                l=zi*(Npar-Npar_shape) + j\n",
    "            else:\n",
    "                l = s + (j - Npar)\n",
    "            \n",
    "            \n",
    "            if j>=i:\n",
    "                def deriv_j(kk,mu,z):\n",
    "                    if j==0:  return dlnP_dlnH(kk,mu,z)\n",
    "                    elif j==1:  return dlnP_dlnDA(kk,mu,z)\n",
    "                    elif j==2:  return dlnP_dlnfsig8(kk,mu,z)\n",
    "                    elif j==3:  return dlnP_dlnbsig8(kk,mu,z)\n",
    "                    elif j==4:  return dlnP_dPs(kk,mu,z)\n",
    "                    elif j==5:  return dlnP_dns(kk)\n",
    "                    elif j==6:  return dlnP_dwb(kk)\n",
    "                    elif j==7:  return dlnP_dwm(kk)\n",
    "                    elif j==8:  return dlnP_dh(kk)\n",
    "                    else: print \"Error: index out of range\" \n",
    "                    \n",
    "            #print zc, params[i], params[j], '[', k, ',', l, ']'\n",
    "           \n",
    "            if l>=k: \n",
    "                Fishermat[k][l] += integrate2D(dF(K,MU,zc),kgrid,mugrid)\n",
    "            else: \n",
    "                Fishermat[k,l] = Fishermat[l,k]                 "
   ]
  },
  {
   "cell_type": "code",
   "execution_count": 29,
   "metadata": {
    "collapsed": false
   },
   "outputs": [
    {
     "name": "stdout",
     "output_type": "stream",
     "text": [
      "[  2.59607135e-02   2.53921143e-02   2.22669900e-02   1.93500796e-02\n",
      "   2.25813345e+01   2.55691692e-02   2.50890810e-02   2.11050384e-02\n",
      "   1.88165578e-02   1.96488253e+01   2.54351620e-02   2.50235546e-02\n",
      "   2.05199197e-02   1.87123723e-02   1.70458576e+01   2.53647839e-02\n",
      "   2.49850297e-02   2.03556954e-02   1.86328962e-02   1.59785402e+01\n",
      "   2.53360905e-02   2.49557956e-02   2.05791810e-02   1.85430484e-02\n",
      "   1.63878521e+01   2.53287473e-02   2.49578021e-02   2.06802626e-02\n",
      "   1.85297135e-02   1.59407565e+01   2.53385553e-02   2.49701238e-02\n",
      "   2.08656806e-02   1.85324974e-02   1.56692169e+01   2.54051231e-02\n",
      "   2.50395217e-02   2.11539735e-02   1.86406268e-02   1.52511052e+01\n",
      "   2.55175243e-02   2.51269635e-02   2.19339073e-02   1.87475731e-02\n",
      "   1.61260841e+01   2.57416493e-02   2.52867377e-02   2.36442585e-02\n",
      "   1.89319349e-02   1.86961557e+01   2.62968767e-02   2.58032990e-02\n",
      "   2.59606726e-02   1.97082569e-02   2.03539038e+01   2.64645736e-02\n",
      "   2.59667511e-02   2.66499836e-02   1.99482806e-02   2.00117499e+01\n",
      "   2.77461161e-02   2.71335835e-02   3.25904582e-02   2.15335737e-02\n",
      "   2.59819158e+01   3.12103223e-02   3.06051906e-02   4.47434135e-02\n",
      "   2.61334576e-02   3.66958853e+01   4.31004087e-02   4.14426809e-03\n",
      "   2.06492485e-02   4.46970556e-02]\n"
     ]
    }
   ],
   "source": [
    "header = 'lnH_0.7 lnDa_0.7 lnfs8_0.7 lnbs8_0.7 Ps_0.7 lnH_0.8 lnDa_0.8 lnfs8_0.8 lnbs8_0.8 Ps_0.8 lnH_0.9 lnDa_0.9 lnfs8_0.9 lnbs8_0.9 Ps_0.9 lnH_1.0 lnDa_1.0 lnfs8_1.0 lnbs8_1.0 Ps_1.0 lnH_1.1 lnDa_1.1 lnfs8_1.1 lnbs8_1.1 Ps_1.1 lnH_1.2 lnDa_1.2 lnfs8_1.2 lnbs8_1.2 Ps_1.2 lnH_1.3 lnDa_1.3 lnfs8_1.3 lnbs8_1.3 Ps_1.3 lnH_1.4 lnDa_1.4 lnfs8_1.4 lnbs8_1.4 Ps_1.4 lnH_1.5 lnDa_1.5 lnfs8_1.5 lnbs8_1.5 Ps_1.5 lnH_1.6 lnDa_1.6 lnfs8_1.6 lnbs8_1.6 Ps_1.6 lnH_1.7 lnDa_1.7 lnfs8_1.7 lnbs8_1.7 Ps_1.7 lnH_1.8 lnDa_1.8 lnfs8_1.8 lnbs8_1.8 Ps_1.8 lnH_1.9 lnDa_1.9 lnfs8_1.9 lnbs8_1.9 Ps_1.9 lnH_2.0 lnDa_2.0 lnfs8_2.0 lnbs8_2.0 Ps_2.0 ns wb wm h'\n",
    "\n",
    "if fromfile:\n",
    "    newfile = 'alkistis-case5-with-files.txt'\n",
    "else:\n",
    "    newfile = 'alkistis-case5.txt'\n",
    "np.savetxt(newfile, Fishermat, header=header)\n",
    "print np.sqrt(np.diag(linalg.inv(Fishermat)))"
   ]
  },
  {
   "cell_type": "code",
   "execution_count": 30,
   "metadata": {
    "collapsed": true
   },
   "outputs": [],
   "source": [
    "#testing"
   ]
  }
 ],
 "metadata": {
  "anaconda-cloud": {},
  "kernelspec": {
   "display_name": "Python 2",
   "language": "python",
   "name": "python2"
  },
  "language_info": {
   "codemirror_mode": {
    "name": "ipython",
    "version": 2
   },
   "file_extension": ".py",
   "mimetype": "text/x-python",
   "name": "python",
   "nbconvert_exporter": "python",
   "pygments_lexer": "ipython2",
   "version": "2.7.12"
  }
 },
 "nbformat": 4,
 "nbformat_minor": 0
}
