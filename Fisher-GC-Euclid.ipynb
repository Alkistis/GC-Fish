{
 "cells": [
  {
   "cell_type": "markdown",
   "metadata": {},
   "source": [
    "Euclid GC Fisher Matrix Code\n",
    "\n",
    "Author: Alkistis Pourtsidou, ICG Portsmouth\n",
    "\n",
    "Using part of http://camb.readthedocs.io/en/latest/CAMBdemo.html \n",
    "\n",
    "To run this Jupyter notebook you need to have CAMB and the CAMB python package \n",
    "installed. In order to install the CAMB python package on your computer follow\n",
    "the instructions in http://camb.readthedocs.io/en/latest/"
   ]
  },
  {
   "cell_type": "code",
   "execution_count": 1,
   "metadata": {
    "collapsed": false
   },
   "outputs": [
    {
     "name": "stdout",
     "output_type": "stream",
     "text": [
      "Using CAMB installed at /Users/alkistis/workspace\n"
     ]
    }
   ],
   "source": [
    "%matplotlib inline\n",
    "import sys, platform, os\n",
    "\n",
    "from matplotlib import pyplot as plt\n",
    "import numpy as np\n",
    "\n",
    "print('Using CAMB installed at '+ os.path.realpath(os.path.join(os.getcwd(),'..')))\n",
    "sys.path.insert(0,os.path.realpath(os.path.join(os.getcwd(),'..')))\n",
    "import camb\n",
    "from camb import model, initialpower"
   ]
  },
  {
   "cell_type": "code",
   "execution_count": 2,
   "metadata": {
    "collapsed": false
   },
   "outputs": [],
   "source": [
    "import scipy\n",
    "from scipy.interpolate import interp1d\n",
    "from __future__ import division"
   ]
  },
  {
   "cell_type": "code",
   "execution_count": 3,
   "metadata": {
    "collapsed": false
   },
   "outputs": [],
   "source": [
    "from scipy import integrate\n",
    "from scipy import linalg\n",
    "\n",
    "pi=np.pi"
   ]
  },
  {
   "cell_type": "code",
   "execution_count": 5,
   "metadata": {
    "collapsed": false
   },
   "outputs": [],
   "source": [
    "#Fiducial cosmological parameters\n",
    "\n",
    "hubble=0.67\n",
    "omegab=0.022445/hubble**2\n",
    "omegac=0.121203/hubble**2\n",
    "om0=omegac+omegab\n",
    "H00=100*hubble\n",
    "Ass=2.1265e-9\n",
    "nss=0.96\n",
    "\n",
    "kpiv=0.05/hubble #in units [h/Mpc]\n",
    "\n",
    "gamma=0.545\n",
    "\n",
    "c=3e5\n",
    "\n",
    "#print om0"
   ]
  },
  {
   "cell_type": "code",
   "execution_count": 6,
   "metadata": {
    "collapsed": false
   },
   "outputs": [],
   "source": [
    "#Set up the fiducial cosmology\n",
    "pars = camb.CAMBparams()\n",
    "#Set cosmology\n",
    "pars.set_cosmology(H0=H00, ombh2=omegab*pow(hubble,2), omch2=omegac*pow(hubble,2),omk=0,mnu=0)\n",
    "pars.set_dark_energy() #LCDM (default)\n",
    "pars.InitPower.set_params(ns=nss, r=0, As=Ass)\n",
    "pars.set_for_lmax(2500, lens_potential_accuracy=0);"
   ]
  },
  {
   "cell_type": "code",
   "execution_count": 7,
   "metadata": {
    "collapsed": false
   },
   "outputs": [],
   "source": [
    "#calculate results for these parameters\n",
    "results = camb.get_results(pars)\n",
    "#print pars"
   ]
  },
  {
   "cell_type": "code",
   "execution_count": 8,
   "metadata": {
    "collapsed": false
   },
   "outputs": [],
   "source": [
    "#Get matter power spectrum at z=0: P(k,z=0)\n",
    "\n",
    "#Not non-linear corrections couples to smaller scales than you want\n",
    "pars.set_matter_power(redshifts=[0.], kmax=2.0)\n",
    "\n",
    "#Just linear spectra\n",
    "pars.NonLinear = model.NonLinear_none\n",
    "results.calc_power_spectra(pars)\n",
    "kh, z, pk = results.get_matter_power_spectrum(minkh=1e-4, maxkh=1.0, npoints = 200)\n",
    "\n",
    "#print results.get_matter_power_spectrum(minkh=1e-4, maxkh=1.0, npoints = 200)[2]"
   ]
  },
  {
   "cell_type": "code",
   "execution_count": 9,
   "metadata": {
    "collapsed": false
   },
   "outputs": [
    {
     "name": "stdout",
     "output_type": "stream",
     "text": [
      "5714.36444785\n"
     ]
    }
   ],
   "source": [
    "#Construct P(k,z=0) interpolating function\n",
    "Pkz0 = interp1d(kh, pk[0])\n",
    "\n",
    "print Pkz0(0.1)"
   ]
  },
  {
   "cell_type": "code",
   "execution_count": 10,
   "metadata": {
    "collapsed": false
   },
   "outputs": [],
   "source": [
    "#get fiducial σ8 (at z=0)\n",
    "#sig8 = results.get_sigma8()[0]\n",
    "#print sig8"
   ]
  },
  {
   "cell_type": "code",
   "execution_count": 11,
   "metadata": {
    "collapsed": false
   },
   "outputs": [
    {
     "name": "stdout",
     "output_type": "stream",
     "text": [
      "[ 0.7  0.8  0.9  1.   1.1  1.2  1.3  1.4  1.5  1.6  1.7  1.8  1.9  2. ]\n",
      "14 14\n"
     ]
    }
   ],
   "source": [
    "#Redshift bins\n",
    "zlist = np.arange(0.7,2.1,0.1)\n",
    "ztest = zlist[0]\n",
    "Nzbins = len(zlist)\n",
    "\n",
    "biaslist = [1.083, 1.125, 1.104, 1.126, 1.208, 1.243, 1.282, 1.292, 1.363, 1.497, 1.486, \\\n",
    "            1.491, 1.573, 1.568]\n",
    "\n",
    "kmin = 0.001\n",
    "kmax = 0.2\n",
    "\n",
    "dn3 = [2434.28, 4364.812, 4728.559, 4825.798, 4728.797, 4507.625, 4269.851, 3720.657, 3104.309, \\\n",
    "       2308.975, 1541.831, 1474.707, 893.716, 497.613]\n",
    "\n",
    "print zlist\n",
    "print len(zlist), len(dn3)"
   ]
  },
  {
   "cell_type": "code",
   "execution_count": 12,
   "metadata": {
    "collapsed": false
   },
   "outputs": [
    {
     "name": "stdout",
     "output_type": "stream",
     "text": [
      "2596.15131772\n",
      "1527.14783395\n"
     ]
    }
   ],
   "source": [
    "#Spatially flat Universe\n",
    "\n",
    "#Define E(z) = H(z)/H0\n",
    "def Ez(zc):\n",
    "    return np.sqrt(1-om0+om0*pow(1+zc,3))\n",
    "def Hz(zc):\n",
    "    return Ez(zc)*H00\n",
    "\n",
    "#Define the cosmological distances\n",
    "def drdz(zp):\n",
    "    return (c/H00)/Ez(zp)\n",
    "def rcom(zc):\n",
    "    return scipy.integrate.romberg(drdz,0,zc)\n",
    "def DA(zc):\n",
    "    return rcom(zc)/(1+zc)\n",
    "\n",
    "print rcom(ztest)\n",
    "print DA(ztest)"
   ]
  },
  {
   "cell_type": "code",
   "execution_count": 13,
   "metadata": {
    "collapsed": false
   },
   "outputs": [
    {
     "name": "stdout",
     "output_type": "stream",
     "text": [
      "0.822099034946\n"
     ]
    }
   ],
   "source": [
    "#LCDM growth rate\n",
    "def fg(zz):\n",
    "    omz=om0*pow(1+zz,3)/pow(Ez(zz),2)\n",
    "    return pow(omz,gamma)\n",
    "\n",
    "print fg(ztest)"
   ]
  },
  {
   "cell_type": "code",
   "execution_count": 14,
   "metadata": {
    "collapsed": false
   },
   "outputs": [
    {
     "name": "stdout",
     "output_type": "stream",
     "text": [
      "0.693913449649 1.0\n"
     ]
    }
   ],
   "source": [
    "#Get the growth factor \n",
    "def Dg_dz(zz):\n",
    "    return -fg(zz)/(1+zz)\n",
    "\n",
    "def Dgz(zc):\n",
    "    ans = scipy.integrate.romberg(Dg_dz, 0.0, zc)\n",
    "    return np.exp(ans)\n",
    "\n",
    "print Dgz(ztest), Dgz(0)"
   ]
  },
  {
   "cell_type": "code",
   "execution_count": 15,
   "metadata": {
    "collapsed": false
   },
   "outputs": [],
   "source": [
    "#Construct P_gg(k,μ,z)\n",
    "def Pgg(kk,mu,zc):\n",
    "    return pow(bg+fg(zc)*mu**2,2)*pow(Dgz(zc),2)*Pkz0(kk)"
   ]
  },
  {
   "cell_type": "code",
   "execution_count": 16,
   "metadata": {
    "collapsed": true
   },
   "outputs": [],
   "source": [
    "#Euclid\n",
    "Area=15000.0 #deg^2\n",
    "omegatot = Area*pow(pi/180,2)\n",
    "\n",
    "Dzbin = 0.1"
   ]
  },
  {
   "cell_type": "code",
   "execution_count": 17,
   "metadata": {
    "collapsed": false
   },
   "outputs": [
    {
     "name": "stdout",
     "output_type": "stream",
     "text": [
      "0.200298557962\n"
     ]
    }
   ],
   "source": [
    "def photoz(kk,mu,zc):\n",
    "    sigz = 0.001*(1+zc)\n",
    "    return np.exp(-pow(kk*mu,2)*pow(c*sigz,2)/pow(Hz(zc),2))\n",
    "\n",
    "print photoz(0.5,0.5,ztest)"
   ]
  },
  {
   "cell_type": "code",
   "execution_count": 18,
   "metadata": {
    "collapsed": false
   },
   "outputs": [
    {
     "name": "stdout",
     "output_type": "stream",
     "text": [
      "0.7 9.184e+09\n"
     ]
    }
   ],
   "source": [
    "#survey (bin) volume [Mpc^3]\n",
    "def dVsurdz(zz):    \n",
    "    return omegatot*c*pow(rcom(zz),2)/(H00*Ez(zz))\n",
    "    \n",
    "def Vsur(zc):\n",
    "    return scipy.integrate.romberg(dVsurdz,zc-Dzbin/2,zc+Dzbin/2)\n",
    "\n",
    "def Pshot(zc):\n",
    "    return Vsur(zc)/Ngal\n",
    "\n",
    "#effective volume; the hubble**3 factors are for units consistency\n",
    "def Veff(kk,mu,zc):\n",
    "    return hubble**3*Vsur(zc)*(Pgg(kk,mu,zc)*photoz(kk,mu,zc)/(Pgg(kk,mu,zc)*photoz(kk,mu,zc)\\\n",
    "                                                     +hubble**3*Pshot(zc)))**2\n",
    "\n",
    "print ztest, \"%.4g\" %  Vsur(ztest)"
   ]
  },
  {
   "cell_type": "code",
   "execution_count": 19,
   "metadata": {
    "collapsed": false
   },
   "outputs": [],
   "source": [
    "#Fisher matrix parameters \n",
    "params = [\"0:lnH\",\"1:lnDA\",\"2:lnfsig8\",\"3:lnbsig8\",\"4:Ps\",\"5:ns\"]"
   ]
  },
  {
   "cell_type": "code",
   "execution_count": 28,
   "metadata": {
    "collapsed": false
   },
   "outputs": [],
   "source": [
    "#Fisher matrix derivatives \n",
    "\n",
    "def dlnP_dlnfsig8(kk,mu,zc):\n",
    "    return 2*mu**2*fg(zc)/(bg+mu**2*fg(zc))\n",
    "\n",
    "def dlnP_dlnbsig8(kk,mu,zc):\n",
    "    return 2*bg/(bg+mu**2*fg(zc))\n",
    "\n",
    "def dlnP_dlnDA(kk,mu,zc):\n",
    "    dk = (kmax-kmin)/400\n",
    "    return -2.0+4*mu**2*(1-mu**2)*fg(zc)/(bg+mu**2*fg(zc))\\\n",
    "            -kk*(1-mu**2)*(1/Pkz0(kk))*(Pkz0(kk+dk)-Pkz0(kk-dk))/(2*dk)\n",
    "\n",
    "def dlnP_dlnH(kk,mu,zc):\n",
    "    dk = (kmax-kmin)/400\n",
    "    return 1.0+4*mu**2*(1-mu**2)*fg(zc)/(bg+mu**2*fg(zc))\\\n",
    "            +kk*mu**2*(1/Pkz0(kk))*(Pkz0(kk+dk)-Pkz0(kk-dk))/(2*dk)\n",
    "\n",
    "def dlnP_dPs(kk,mu,zc):\n",
    "    return 1.0/(Pgg(kk,mu,zc)*photoz(kk,mu,zc))\n",
    "\n",
    "def dlnP_dns(kk):    \n",
    "    return np.log(kk/kpiv) \n",
    "    #return (Pkz0_ns_p(kk)-Pkz0_ns_m(kk))/(2*step_ns)/Pkz0(kk)\n"
   ]
  },
  {
   "cell_type": "code",
   "execution_count": 29,
   "metadata": {
    "collapsed": false
   },
   "outputs": [],
   "source": [
    "def dF(kk,mu):\n",
    "    return (1./(8*pi*pi))*pow(kk,2)*deriv_i(kk,mu,zc)*deriv_j(kk,mu,zc)*Veff(kk,mu,zc)    "
   ]
  },
  {
   "cell_type": "code",
   "execution_count": 30,
   "metadata": {
    "collapsed": true
   },
   "outputs": [],
   "source": [
    "#2D integration function\n",
    "def integrate2D(dfun, kgrid, mugrid):\n",
    "    \n",
    "    muint = [scipy.integrate.simps(dfun.T[i], mugrid) for i in range(kgrid.size)]\n",
    "    return scipy.integrate.simps(muint, kgrid)"
   ]
  },
  {
   "cell_type": "code",
   "execution_count": 31,
   "metadata": {
    "collapsed": false
   },
   "outputs": [],
   "source": [
    "mugrid = np.linspace(-1., 1., 200) "
   ]
  },
  {
   "cell_type": "code",
   "execution_count": 32,
   "metadata": {
    "collapsed": false,
    "scrolled": true
   },
   "outputs": [
    {
     "name": "stdout",
     "output_type": "stream",
     "text": [
      "0.7 8.656517e-03 1.049050e-02 1.675780e-02 8.585214e-03 3.401170e+01 1.987297e-02\n",
      "0.8 7.397253e-03 9.056911e-03 1.453717e-02 7.336770e-03 2.898937e+01 1.770330e-02\n",
      "0.9 7.135185e-03 8.636629e-03 1.368358e-02 7.117604e-03 2.502485e+01 1.693093e-02\n",
      "1.0 6.971403e-03 8.416720e-03 1.339965e-02 6.962774e-03 2.330298e+01 1.636200e-02\n",
      "1.1 6.828458e-03 8.324888e-03 1.362390e-02 6.785369e-03 2.366259e+01 1.587719e-02\n",
      "1.2 6.842771e-03 8.337964e-03 1.381451e-02 6.796560e-03 2.300225e+01 1.566940e-02\n",
      "1.3 6.901873e-03 8.412340e-03 1.414492e-02 6.848409e-03 2.264309e+01 1.556192e-02\n",
      "1.4 7.234090e-03 8.745844e-03 1.477532e-02 7.184364e-03 2.222851e+01 1.582176e-02\n",
      "1.5 7.617702e-03 9.232664e-03 1.605189e-02 7.526696e-03 2.364373e+01 1.614312e-02\n",
      "1.6 8.268830e-03 1.012022e-02 1.860512e-02 8.084696e-03 2.760054e+01 1.675811e-02\n",
      "1.7 1.022108e-02 1.219550e-02 2.229980e-02 9.957971e-03 3.071546e+01 1.894147e-02\n",
      "1.8 1.076795e-02 1.275495e-02 2.335998e-02 1.048513e-02 3.045418e+01 1.953003e-02\n",
      "1.9 1.418443e-02 1.658302e-02 3.124365e-02 1.362112e-02 3.996984e+01 2.329260e-02\n",
      "2.0 2.203413e-02 2.490156e-02 4.622433e-02 2.088854e-02 5.609894e+01 3.188638e-02\n"
     ]
    }
   ],
   "source": [
    "fo = open(\"errors.txt\", \"w\")\n",
    "\n",
    "#%%time\n",
    "#   Fisher matrix   # \n",
    "\n",
    "Npar = len(params)\n",
    "#create array of zeros\n",
    "s = (Npar,Npar)\n",
    "\n",
    "for zi in range(0,Nzbins):\n",
    "    \n",
    "    zc = zlist[zi]\n",
    "    bg = biaslist[zi]\n",
    "    zmin = zc-Dzbin/2\n",
    "    zmax = zc+Dzbin/2\n",
    "     \n",
    "    #dVdz = (4*pi/3)*((1+zmax)**3*DA(zmax)**3-(1+zmin)**3*DA(zmin)**3)/(4*pi*pow(180/pi,2))\n",
    "    #nbar = Dzbin*dn3[zi]/dVdz\n",
    "    Ngal = dn3[zi]*Area*Dzbin\n",
    "    #print Ngal\n",
    "    \n",
    "    kgrid = np.linspace(kmin, kmax, 400)\n",
    "    K, MU = np.meshgrid(kgrid, mugrid)\n",
    "    Fishermat = np.zeros(s)\n",
    "    for i in range(0,Npar):\n",
    "        def deriv_i(kk,mu,zc):\n",
    "            if i==0:  return dlnP_dlnH(kk,mu,zc)\n",
    "            elif i==1:  return dlnP_dlnDA(kk,mu,zc)\n",
    "            elif i==2:  return dlnP_dlnfsig8(kk,mu,zc)\n",
    "            elif i==3:  return dlnP_dlnbsig8(kk,mu,zc)\n",
    "            elif i==4:  return dlnP_dPs(kk,mu,zc)\n",
    "            elif i==5:  return dlnP_dns(kk)\n",
    "            else: print \"Error: index out of range\"\n",
    "        for  j in range(0,Npar):\n",
    "            if j>=i:\n",
    "                def deriv_j(kk,mu,zc):\n",
    "                    if j==0:  return dlnP_dlnH(kk,mu,zc)\n",
    "                    elif j==1:  return dlnP_dlnDA(kk,mu,zc)\n",
    "                    elif j==2:  return dlnP_dlnfsig8(kk,mu,zc)\n",
    "                    elif j==3:  return dlnP_dlnbsig8(kk,mu,zc)\n",
    "                    elif j==4:  return dlnP_dPs(kk,mu,zc)\n",
    "                    elif j==5:  return dlnP_dns(kk)\n",
    "                    else: print \"Error: index out of range\" \n",
    "                Fishermat[i][j] = integrate2D(dF(K,MU),kgrid,mugrid)                \n",
    "            else: Fishermat[i,j] = Fishermat[j,i]\n",
    "            #if zi==0: print i,j,Fishermat[i][j]\n",
    "            \n",
    "    zbin = str(zc)\n",
    "    lnDerr = str(\"%e\" % np.sqrt(linalg.inv(Fishermat)[1,1]))\n",
    "    lnHerr = str(\"%e\" % np.sqrt(linalg.inv(Fishermat)[0,0]))\n",
    "    lnfsig8err = str(\"%e\" % np.sqrt(linalg.inv(Fishermat)[2,2]))\n",
    "    lnbsig8err = str(\"%e\" % np.sqrt(linalg.inv(Fishermat)[3,3]))\n",
    "    Pserr = str(\"%e\" % np.sqrt(linalg.inv(Fishermat)[4,4]))  \n",
    "    nserr = str(\"%e\" % np.sqrt(linalg.inv(Fishermat)[5,5]))\n",
    "    \n",
    "    print zbin, lnDerr, lnHerr, lnfsig8err, lnbsig8err, Pserr, nserr\n",
    "\n",
    "    \n",
    "    outp = zbin + \"\\t\" + lnDerr + \"\\t\" + lnHerr + \"\\t\" + lnfsig8err + \"\\t\" + lnbsig8err + \\\n",
    "    \"\\t\" + Pserr + \"\\n\"\n",
    "    fo.write(outp)\n",
    "    \n",
    "fo.close()    "
   ]
  },
  {
   "cell_type": "code",
   "execution_count": 26,
   "metadata": {
    "collapsed": false
   },
   "outputs": [],
   "source": [
    "# Numerical derivative wrt ns \n",
    "'''\n",
    "step_ns = 0.05*nss\n",
    "ns_p = nss+step_ns\n",
    "ns_m = nss-step_ns\n",
    "\n",
    "pars = camb.CAMBparams()\n",
    "pars.set_cosmology(H0=H00, ombh2=omegab*pow(hubble,2), omch2=omegac*pow(hubble,2),omk=0,mnu=0)\n",
    "pars.set_dark_energy() #LCDM (default)\n",
    "pars.InitPower.set_params(ns=ns_p, r=0, As=Ass)\n",
    "pars.set_for_lmax(2500, lens_potential_accuracy=0);\n",
    "results = camb.get_results(pars)\n",
    "#Not non-linear corrections couples to smaller scales than you want\n",
    "pars.set_matter_power(redshifts=[0.], kmax=2.0)\n",
    "#Just linear spectra\n",
    "pars.NonLinear = model.NonLinear_none\n",
    "results.calc_power_spectra(pars)\n",
    "kh, z, pk = results.get_matter_power_spectrum(minkh=1e-4, maxkh=1.0, npoints = 200)\n",
    "Pkz0_ns_p = interp1d(kh, pk[0])\n",
    "\n",
    "pars = camb.CAMBparams()\n",
    "pars.set_cosmology(H0=H00, ombh2=omegab*pow(hubble,2), omch2=omegac*pow(hubble,2),omk=0,mnu=0)\n",
    "pars.set_dark_energy() #LCDM (default)\n",
    "pars.InitPower.set_params(ns=ns_m, r=0, As=Ass)\n",
    "pars.set_for_lmax(2500, lens_potential_accuracy=0);\n",
    "results = camb.get_results(pars)\n",
    "#Not non-linear corrections couples to smaller scales than you want\n",
    "pars.set_matter_power(redshifts=[0.], kmax=2.0)\n",
    "#Just linear spectra\n",
    "pars.NonLinear = model.NonLinear_none\n",
    "results.calc_power_spectra(pars)\n",
    "kh, z, pk = results.get_matter_power_spectrum(minkh=1e-4, maxkh=1.0, npoints = 200)\n",
    "Pkz0_ns_m = interp1d(kh, pk[0])\n",
    "\n",
    "#print Pkz0(0.1), Pkz0_ns_p(0.1), Pkz0_ns_m(0.1)\n",
    "#print Pkz0_ns_p(0.1)/Pkz0_ns_m(0.1), pow(0.1,2*step_ns), nss\n",
    "\n",
    "'''and None"
   ]
  },
  {
   "cell_type": "code",
   "execution_count": null,
   "metadata": {
    "collapsed": false
   },
   "outputs": [],
   "source": [
    "#Ngal = 4825.798*Area*Dzbin\n",
    "#print (Vsur(1.0)/Ngal)"
   ]
  },
  {
   "cell_type": "code",
   "execution_count": null,
   "metadata": {
    "collapsed": true
   },
   "outputs": [],
   "source": []
  },
  {
   "cell_type": "code",
   "execution_count": null,
   "metadata": {
    "collapsed": false
   },
   "outputs": [],
   "source": [
    "#nbartest = 0.0001*17*hubble**3\n",
    "#print 1/nbartest"
   ]
  },
  {
   "cell_type": "code",
   "execution_count": null,
   "metadata": {
    "collapsed": false
   },
   "outputs": [],
   "source": [
    "#print Pshot(1.0)"
   ]
  },
  {
   "cell_type": "code",
   "execution_count": null,
   "metadata": {
    "collapsed": false
   },
   "outputs": [],
   "source": [
    "#zminn = 1.0-Dzbin/2\n",
    "#zmaxx = 1.0+Dzbin/2\n",
    "#dVdztest = (4*pi/3)*((1+zmaxx)**3*DA(zmaxx)**3-(1+zminn)**3*DA(zminn)**3)/(4*pi*pow(180/pi,2))\n",
    "\n",
    "#nbartest = Dzbin*4825.798/dVdztest\n",
    "#print 1/nbartest"
   ]
  },
  {
   "cell_type": "code",
   "execution_count": null,
   "metadata": {
    "collapsed": true
   },
   "outputs": [],
   "source": [
    "#print \"z =\",zc,\"lnH error =\", np.sqrt(linalg.inv(Fishermat)[0,0]),\\\n",
    "    #\"lnDA error =\", np.sqrt(linalg.inv(Fishermat)[1,1]),\\\n",
    "    #\"fsig8 error =\",np.sqrt(linalg.inv(Fishermat)[2,2]),\\\n",
    "    #\"bsig8 error =\",np.sqrt(linalg.inv(Fishermat)[3,3]),\\\n",
    "    #\"Ps error =\",np.sqrt(linalg.inv(Fishermat)[4,4])"
   ]
  },
  {
   "cell_type": "code",
   "execution_count": null,
   "metadata": {
    "collapsed": true
   },
   "outputs": [],
   "source": [
    "#errorlist = [zc, np.sqrt(linalg.inv(Fishermat)[1,1])]\n",
    "    \n",
    "#    for eachitem in errorlist:\n",
    "#        fo.write(str(eachitem))#+'\\n')"
   ]
  }
 ],
 "metadata": {
  "kernelspec": {
   "display_name": "Python 2",
   "language": "python",
   "name": "python2"
  },
  "language_info": {
   "codemirror_mode": {
    "name": "ipython",
    "version": 2
   },
   "file_extension": ".py",
   "mimetype": "text/x-python",
   "name": "python",
   "nbconvert_exporter": "python",
   "pygments_lexer": "ipython2",
   "version": "2.7.12"
  }
 },
 "nbformat": 4,
 "nbformat_minor": 0
}
