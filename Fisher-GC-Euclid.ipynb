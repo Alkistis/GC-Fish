{
 "cells": [
  {
   "cell_type": "markdown",
   "metadata": {},
   "source": [
    "Euclid GC Fisher Matrix Code\n",
    "\n",
    "Authors: Alkistis Pourtsidou and Dida Markovic, ICG Portsmouth\n",
    "\n",
    "Using part of http://camb.readthedocs.io/en/latest/CAMBdemo.html \n",
    "\n",
    "To run this Jupyter notebook you need to have CAMB and the CAMB python package \n",
    "installed. In order to install the CAMB python package on your computer follow\n",
    "the instructions in http://camb.readthedocs.io/en/latest/"
   ]
  },
  {
   "cell_type": "code",
   "execution_count": 1,
   "metadata": {
    "collapsed": false
   },
   "outputs": [
    {
     "name": "stdout",
     "output_type": "stream",
     "text": [
      "Using CAMB installed at /Users/alkistis/workspace\n"
     ]
    }
   ],
   "source": [
    "%matplotlib inline\n",
    "import sys, platform, os\n",
    "\n",
    "from matplotlib import pyplot as plt\n",
    "import numpy as np\n",
    "\n",
    "print('Using CAMB installed at '+ os.path.realpath(os.path.join(os.getcwd(),'..')))\n",
    "sys.path.insert(0,os.path.realpath(os.path.join(os.getcwd(),'..')))\n",
    "import camb\n",
    "from camb import model, initialpower"
   ]
  },
  {
   "cell_type": "code",
   "execution_count": 2,
   "metadata": {
    "collapsed": false
   },
   "outputs": [],
   "source": [
    "import scipy\n",
    "from scipy.interpolate import interp1d\n",
    "from __future__ import division"
   ]
  },
  {
   "cell_type": "code",
   "execution_count": 3,
   "metadata": {
    "collapsed": false
   },
   "outputs": [],
   "source": [
    "from scipy import integrate\n",
    "from scipy import linalg\n",
    "\n",
    "pi=np.pi"
   ]
  },
  {
   "cell_type": "code",
   "execution_count": 4,
   "metadata": {
    "collapsed": false
   },
   "outputs": [],
   "source": [
    "#Fiducial cosmological parameters\n",
    "\n",
    "hubble=0.67\n",
    "omegab=0.022445/hubble**2\n",
    "omegac=0.121203/hubble**2\n",
    "om0=omegac+omegab\n",
    "H00=100*hubble\n",
    "Ass=2.1265e-9\n",
    "nss=0.96\n",
    "\n",
    "gamma=0.545\n",
    "\n",
    "c=3e5\n",
    "\n",
    "#print om0"
   ]
  },
  {
   "cell_type": "code",
   "execution_count": 5,
   "metadata": {
    "collapsed": false
   },
   "outputs": [],
   "source": [
    "#Set up the fiducial cosmology\n",
    "pars = camb.CAMBparams()\n",
    "#Set cosmology\n",
    "pars.set_cosmology(H0=H00, ombh2=omegab*pow(hubble,2), omch2=omegac*pow(hubble,2),omk=0,mnu=0)\n",
    "pars.set_dark_energy() #LCDM (default)\n",
    "pars.InitPower.set_params(ns=nss, r=0, As=Ass)\n",
    "pars.set_for_lmax(2500, lens_potential_accuracy=0);"
   ]
  },
  {
   "cell_type": "code",
   "execution_count": 6,
   "metadata": {
    "collapsed": false
   },
   "outputs": [],
   "source": [
    "#calculate results for these parameters\n",
    "results = camb.get_results(pars)\n",
    "#print pars"
   ]
  },
  {
   "cell_type": "code",
   "execution_count": 7,
   "metadata": {
    "collapsed": false
   },
   "outputs": [],
   "source": [
    "#Get matter power spectrum at z=0: P(k,z=0)\n",
    "\n",
    "#Not non-linear corrections couples to smaller scales than you want\n",
    "pars.set_matter_power(redshifts=[0.], kmax=2.0)\n",
    "\n",
    "#Just linear spectra\n",
    "pars.NonLinear = model.NonLinear_none\n",
    "results.calc_power_spectra(pars)\n",
    "kh, z, pk = results.get_matter_power_spectrum(minkh=1e-4, maxkh=1.0, npoints = 800)\n",
    "\n",
    "#print results.get_matter_power_spectrum(minkh=1e-4, maxkh=1.0, npoints = 200)[2]"
   ]
  },
  {
   "cell_type": "code",
   "execution_count": 8,
   "metadata": {
    "collapsed": false
   },
   "outputs": [
    {
     "name": "stdout",
     "output_type": "stream",
     "text": [
      "5704.51244798\n"
     ]
    }
   ],
   "source": [
    "#Construct P(k,z=0) interpolating function\n",
    "Pkz0 = interp1d(kh, pk[0])\n",
    "\n",
    "print Pkz0(0.1)"
   ]
  },
  {
   "cell_type": "code",
   "execution_count": 9,
   "metadata": {
    "collapsed": false
   },
   "outputs": [
    {
     "name": "stdout",
     "output_type": "stream",
     "text": [
      "0.830287480109\n"
     ]
    }
   ],
   "source": [
    "#get fiducial σ8 (at z=0)\n",
    "sig8_fid = results.get_sigma8()[0]\n",
    "print sig8_fid"
   ]
  },
  {
   "cell_type": "code",
   "execution_count": 10,
   "metadata": {
    "collapsed": false
   },
   "outputs": [
    {
     "name": "stdout",
     "output_type": "stream",
     "text": [
      "[ 0.7  0.8  0.9  1.   1.1  1.2  1.3  1.4  1.5  1.6  1.7  1.8  1.9  2. ]\n",
      "14 14\n"
     ]
    }
   ],
   "source": [
    "#Redshift bins\n",
    "zlist = np.arange(0.7,2.1,0.1)\n",
    "ztest = zlist[0]\n",
    "Nzbins = len(zlist)\n",
    "\n",
    "biaslist = [1.083, 1.125, 1.104, 1.126, 1.208, 1.243, 1.282, 1.292, 1.363, 1.497, 1.486, \\\n",
    "            1.491, 1.573, 1.568]\n",
    "\n",
    "kmin = 0.001\n",
    "kmax = 0.2\n",
    "\n",
    "dn3 = [2434.28, 4364.812, 4728.559, 4825.798, 4728.797, 4507.625, 4269.851, 3720.657, 3104.309, \\\n",
    "       2308.975, 1541.831, 1474.707, 893.716, 497.613]\n",
    "\n",
    "print zlist\n",
    "print len(zlist), len(dn3)"
   ]
  },
  {
   "cell_type": "code",
   "execution_count": 11,
   "metadata": {
    "collapsed": false
   },
   "outputs": [
    {
     "name": "stdout",
     "output_type": "stream",
     "text": [
      "2596.15131772\n",
      "1527.14783395\n"
     ]
    }
   ],
   "source": [
    "#Spatially flat Universe\n",
    "\n",
    "#Define E(z) = H(z)/H0\n",
    "def Ez(zc):\n",
    "    return np.sqrt(1-om0+om0*pow(1+zc,3))\n",
    "def Hz(zc):\n",
    "    return Ez(zc)*H00\n",
    "\n",
    "#Define the cosmological distances\n",
    "def drdz(zp):\n",
    "    return (c/H00)/Ez(zp)\n",
    "def rcom(zc):\n",
    "    return scipy.integrate.romberg(drdz,0,zc)\n",
    "def DA(zc):\n",
    "    return rcom(zc)/(1+zc)\n",
    "\n",
    "print rcom(ztest)\n",
    "print DA(ztest)"
   ]
  },
  {
   "cell_type": "code",
   "execution_count": 12,
   "metadata": {
    "collapsed": false
   },
   "outputs": [
    {
     "name": "stdout",
     "output_type": "stream",
     "text": [
      "0.822099034946\n"
     ]
    }
   ],
   "source": [
    "#LCDM growth rate\n",
    "def fg(zz):\n",
    "    omz=om0*pow(1+zz,3)/pow(Ez(zz),2)\n",
    "    return pow(omz,gamma)\n",
    "\n",
    "print fg(ztest)"
   ]
  },
  {
   "cell_type": "code",
   "execution_count": 13,
   "metadata": {
    "collapsed": false
   },
   "outputs": [
    {
     "name": "stdout",
     "output_type": "stream",
     "text": [
      "0.693913449649 1.0\n"
     ]
    }
   ],
   "source": [
    "#Get the growth factor \n",
    "def Dg_dz(zz):\n",
    "    return -fg(zz)/(1+zz)\n",
    "\n",
    "def Dgz(zc):\n",
    "    ans = scipy.integrate.romberg(Dg_dz, 0.0, zc)\n",
    "    return np.exp(ans)\n",
    "\n",
    "print Dgz(ztest), Dgz(0)"
   ]
  },
  {
   "cell_type": "code",
   "execution_count": 14,
   "metadata": {
    "collapsed": false
   },
   "outputs": [],
   "source": [
    "#zip(kh, Pkz0(kh)/pow(sig8_fid,2));\n",
    "with open('test.txt', 'w') as Pkfile:\n",
    "    for row in zip(kh, Pkz0(kh)/pow(sig8_fid,2)):\n",
    "        print >> Pkfile, row[0], row[1]"
   ]
  },
  {
   "cell_type": "code",
   "execution_count": 15,
   "metadata": {
    "collapsed": false
   },
   "outputs": [],
   "source": [
    "#Construct P_gg(k,μ,z)\n",
    "def Pgg(kk,mu,zc):\n",
    "    return pow(bg+fg(zc)*mu**2,2)*pow(Dgz(zc),2)*Pkz0(kk)"
   ]
  },
  {
   "cell_type": "code",
   "execution_count": 16,
   "metadata": {
    "collapsed": true
   },
   "outputs": [],
   "source": [
    "#Euclid\n",
    "Area=15000.0 #deg^2\n",
    "omegatot = Area*pow(pi/180,2)\n",
    "\n",
    "Dzbin = 0.1"
   ]
  },
  {
   "cell_type": "code",
   "execution_count": 17,
   "metadata": {
    "collapsed": false
   },
   "outputs": [
    {
     "name": "stdout",
     "output_type": "stream",
     "text": [
      "0.200298557962\n"
     ]
    }
   ],
   "source": [
    "def photoz(kk,mu,zc):\n",
    "    sigz = 0.001*(1+zc)\n",
    "    return np.exp(-pow(kk*mu,2)*pow(c*sigz,2)/pow(Hz(zc),2))\n",
    "\n",
    "print photoz(0.5,0.5,ztest)"
   ]
  },
  {
   "cell_type": "code",
   "execution_count": 18,
   "metadata": {
    "collapsed": false
   },
   "outputs": [
    {
     "name": "stdout",
     "output_type": "stream",
     "text": [
      "0.7 9.184e+09\n"
     ]
    }
   ],
   "source": [
    "#survey (bin) volume [Mpc^3]\n",
    "def dVsurdz(zz):    \n",
    "    return omegatot*c*pow(rcom(zz),2)/(H00*Ez(zz))\n",
    "    \n",
    "def Vsur(zc):\n",
    "    return scipy.integrate.romberg(dVsurdz,zc-Dzbin/2,zc+Dzbin/2)\n",
    "\n",
    "def Pshot(zc):\n",
    "    return Vsur(zc)/Ngal\n",
    "\n",
    "#effective volume; the hubble**3 factors are for units consistency\n",
    "def Veff(kk,mu,zc):\n",
    "    return hubble**3*Vsur(zc)*(Pgg(kk,mu,zc)*photoz(kk,mu,zc)/(Pgg(kk,mu,zc)*photoz(kk,mu,zc)\\\n",
    "                                                     +hubble**3*Pshot(zc)))**2\n",
    "\n",
    "print ztest, \"%.4g\" %  Vsur(ztest)"
   ]
  },
  {
   "cell_type": "code",
   "execution_count": 19,
   "metadata": {
    "collapsed": false
   },
   "outputs": [],
   "source": [
    "#Fisher matrix parameters \n",
    "params = [\"0:lnH\",\"1:lnDA\",\"2:lnfsig8\",\"3:lnbsig8\",\"4:Ps\",\"5:ns\",\"6:wb\",\"7:wm\",\"8:h\"]\n",
    "shape_params = [5,6,7,8]"
   ]
  },
  {
   "cell_type": "code",
   "execution_count": 20,
   "metadata": {
    "collapsed": false
   },
   "outputs": [],
   "source": [
    "#Fisher matrix derivatives \n",
    "\n",
    "#z-dependent parameters\n",
    "\n",
    "def dlnP_dlnfsig8(kk,mu,zc):\n",
    "    return 2*mu**2*fg(zc)/(bg+mu**2*fg(zc))\n",
    "\n",
    "def dlnP_dlnbsig8(kk,mu,zc):\n",
    "    return 2*bg/(bg+mu**2*fg(zc))\n",
    "\n",
    "def dlnP_dlnDA(kk,mu,zc):\n",
    "    dk = (kmax-kmin)/400\n",
    "    return -2.0+4*mu**2*(1-mu**2)*fg(zc)/(bg+mu**2*fg(zc))\\\n",
    "            -kk*(1-mu**2)*(1/Pkz0(kk))*(Pkz0(kk+dk)-Pkz0(kk-dk))/(2*dk)\n",
    "\n",
    "def dlnP_dlnH(kk,mu,zc):\n",
    "    dk = (kmax-kmin)/400\n",
    "    return 1.0+4*mu**2*(1-mu**2)*fg(zc)/(bg+mu**2*fg(zc))\\\n",
    "            +kk*mu**2*(1/Pkz0(kk))*(Pkz0(kk+dk)-Pkz0(kk-dk))/(2*dk)\n",
    "\n",
    "def dlnP_dPs(kk,mu,zc):\n",
    "    return 1.0/(Pgg(kk,mu,zc)*photoz(kk,mu,zc))"
   ]
  },
  {
   "cell_type": "code",
   "execution_count": 21,
   "metadata": {
    "collapsed": false
   },
   "outputs": [
    {
     "name": "stdout",
     "output_type": "stream",
     "text": [
      "0.828297471118 0.830287480109 0.832230247005\n",
      "0.830287480109\n"
     ]
    }
   ],
   "source": [
    "#shape parameters\n",
    "\n",
    "# Numerical derivative wrt ns \n",
    "\n",
    "step_ns = 0.01*nss\n",
    "ns_p = nss+step_ns\n",
    "ns_m = nss-step_ns\n",
    "\n",
    "#DERIV PLUS\n",
    "pars = camb.CAMBparams()\n",
    "pars.set_cosmology(H0=H00, ombh2=omegab*pow(hubble,2), omch2=omegac*pow(hubble,2),omk=0,mnu=0)\n",
    "pars.set_dark_energy() #LCDM (default)\n",
    "pars.InitPower.set_params(ns=ns_p, r=0, As=Ass)\n",
    "pars.set_for_lmax(2500, lens_potential_accuracy=0);\n",
    "results = camb.get_results(pars)\n",
    "#Not non-linear corrections couples to smaller scales than you want\n",
    "pars.set_matter_power(redshifts=[0.], kmax=2.0)\n",
    "#Just linear spectra\n",
    "pars.NonLinear = model.NonLinear_none\n",
    "results.calc_power_spectra(pars)\n",
    "kh, z, pk = results.get_matter_power_spectrum(minkh=1e-4, maxkh=1.0, npoints = 800)\n",
    "\n",
    "sig8_ns_p = results.get_sigma8()[0]\n",
    "Pkz0_ns_p = interp1d(kh, pk[0])\n",
    "\n",
    "#DERIV MINUS\n",
    "pars = camb.CAMBparams()\n",
    "pars.set_cosmology(H0=H00, ombh2=omegab*pow(hubble,2), omch2=omegac*pow(hubble,2),omk=0,mnu=0)\n",
    "pars.set_dark_energy() #LCDM (default)\n",
    "pars.InitPower.set_params(ns=ns_m, r=0, As=Ass)\n",
    "pars.set_for_lmax(2500, lens_potential_accuracy=0);\n",
    "results = camb.get_results(pars)\n",
    "#Not non-linear corrections couples to smaller scales than you want\n",
    "pars.set_matter_power(redshifts=[0.], kmax=2.0)\n",
    "#Just linear spectra\n",
    "pars.NonLinear = model.NonLinear_none\n",
    "results.calc_power_spectra(pars)\n",
    "kh, z, pk = results.get_matter_power_spectrum(minkh=1e-4, maxkh=1.0, npoints = 800)\n",
    "\n",
    "sig8_ns_m= results.get_sigma8()[0]\n",
    "Pkz0_ns_m = interp1d(kh, pk[0])\n",
    "\n",
    "#RESET FIDUCIAL\n",
    "pars = camb.CAMBparams()\n",
    "pars.set_cosmology(H0=H00, ombh2=omegab*pow(hubble,2), omch2=omegac*pow(hubble,2),omk=0,mnu=0)\n",
    "pars.set_dark_energy() #LCDM (default)\n",
    "pars.InitPower.set_params(ns=nss, r=0, As=Ass)\n",
    "pars.set_for_lmax(2500, lens_potential_accuracy=0);\n",
    "results = camb.get_results(pars)\n",
    "#Not non-linear corrections couples to smaller scales than you want\n",
    "pars.set_matter_power(redshifts=[0.], kmax=2.0)\n",
    "#Just linear spectra\n",
    "pars.NonLinear = model.NonLinear_none\n",
    "results.calc_power_spectra(pars)\n",
    "\n",
    "#print sig8_ns_m, sig8_fid, sig8_ns_p\n",
    "#print results.get_sigma8()[0]\n",
    "\n",
    "# Numerical derivative wrt wb \n",
    "\n",
    "wb = omegab*pow(hubble,2)\n",
    "wc = omegac*pow(hubble,2)\n",
    "step_wb = 0.01*wb\n",
    "wb_p = wb+step_wb\n",
    "wb_m = wb-step_wb\n",
    "wc_p = wc-step_wb\n",
    "wc_m = wc+step_wb\n",
    "\n",
    "#DERIV PLUS\n",
    "pars = camb.CAMBparams()\n",
    "pars.set_cosmology(H0=H00, ombh2=wb_p, omch2=wc_p,omk=0,mnu=0)\n",
    "pars.set_dark_energy() #LCDM (default)\n",
    "pars.InitPower.set_params(ns=nss, r=0, As=Ass)\n",
    "pars.set_for_lmax(2500, lens_potential_accuracy=0);\n",
    "results = camb.get_results(pars)\n",
    "#Not non-linear corrections couples to smaller scales than you want\n",
    "pars.set_matter_power(redshifts=[0.], kmax=2.0)\n",
    "#Just linear spectra\n",
    "pars.NonLinear = model.NonLinear_none\n",
    "results.calc_power_spectra(pars)\n",
    "kh, z, pk = results.get_matter_power_spectrum(minkh=1e-4, maxkh=1.0, npoints = 800)\n",
    "\n",
    "sig8_wb_p = results.get_sigma8()[0]\n",
    "Pkz0_wb_p = interp1d(kh, pk[0])\n",
    "\n",
    "#DERIV MINUS\n",
    "pars = camb.CAMBparams()\n",
    "pars.set_cosmology(H0=H00, ombh2=wb_m, omch2=wc_m,omk=0,mnu=0)\n",
    "pars.set_dark_energy() #LCDM (default)\n",
    "pars.InitPower.set_params(ns=nss, r=0, As=Ass)\n",
    "pars.set_for_lmax(2500, lens_potential_accuracy=0);\n",
    "results = camb.get_results(pars)\n",
    "#Not non-linear corrections couples to smaller scales than you want\n",
    "pars.set_matter_power(redshifts=[0.], kmax=2.0)\n",
    "#Just linear spectra\n",
    "pars.NonLinear = model.NonLinear_none\n",
    "results.calc_power_spectra(pars)\n",
    "kh, z, pk = results.get_matter_power_spectrum(minkh=1e-4, maxkh=1.0, npoints = 800)\n",
    "\n",
    "sig8_wb_m= results.get_sigma8()[0]\n",
    "Pkz0_wb_m = interp1d(kh, pk[0])\n",
    "\n",
    "#RESET FIDUCIAL\n",
    "pars = camb.CAMBparams()\n",
    "pars.set_cosmology(H0=H00, ombh2=omegab*pow(hubble,2), omch2=omegac*pow(hubble,2),omk=0,mnu=0)\n",
    "pars.set_dark_energy() #LCDM (default)\n",
    "pars.InitPower.set_params(ns=nss, r=0, As=Ass)\n",
    "pars.set_for_lmax(2500, lens_potential_accuracy=0);\n",
    "results = camb.get_results(pars)\n",
    "#Not non-linear corrections couples to smaller scales than you want\n",
    "pars.set_matter_power(redshifts=[0.], kmax=2.0)\n",
    "#Just linear spectra\n",
    "pars.NonLinear = model.NonLinear_none\n",
    "results.calc_power_spectra(pars)\n",
    "\n",
    "#print sig8_wb_m, sig8_fid, sig8_wb_p\n",
    "#print results.get_sigma8()[0]\n",
    "\n",
    "# Numerical derivative wrt wm \n",
    "\n",
    "wm = (omegab+omegac)*pow(hubble,2)\n",
    "step_wm = 0.01*wm\n",
    "wm_p = wm+step_wm\n",
    "wm_m = wm-step_wm\n",
    "\n",
    "#DERIV PLUS\n",
    "pars = camb.CAMBparams()\n",
    "pars.set_cosmology(H0=H00, ombh2=wb, omch2=wm_p-wb,omk=0,mnu=0)\n",
    "pars.set_dark_energy() #LCDM (default)\n",
    "pars.InitPower.set_params(ns=nss, r=0, As=Ass)\n",
    "pars.set_for_lmax(2500, lens_potential_accuracy=0);\n",
    "results = camb.get_results(pars)\n",
    "#Not non-linear corrections couples to smaller scales than you want\n",
    "pars.set_matter_power(redshifts=[0.], kmax=2.0)\n",
    "#Just linear spectra\n",
    "pars.NonLinear = model.NonLinear_none\n",
    "results.calc_power_spectra(pars)\n",
    "kh, z, pk = results.get_matter_power_spectrum(minkh=1e-4, maxkh=1.0, npoints = 800)\n",
    "\n",
    "sig8_wm_p = results.get_sigma8()[0]\n",
    "Pkz0_wm_p = interp1d(kh, pk[0])\n",
    "\n",
    "#DERIV MINUS\n",
    "pars = camb.CAMBparams()\n",
    "pars.set_cosmology(H0=H00, ombh2=wb, omch2=wm_m-wb,omk=0,mnu=0)\n",
    "pars.set_dark_energy() #LCDM (default)\n",
    "pars.InitPower.set_params(ns=nss, r=0, As=Ass)\n",
    "pars.set_for_lmax(2500, lens_potential_accuracy=0);\n",
    "results = camb.get_results(pars)\n",
    "#Not non-linear corrections couples to smaller scales than you want\n",
    "pars.set_matter_power(redshifts=[0.], kmax=2.0)\n",
    "#Just linear spectra\n",
    "pars.NonLinear = model.NonLinear_none\n",
    "results.calc_power_spectra(pars)\n",
    "kh, z, pk = results.get_matter_power_spectrum(minkh=1e-4, maxkh=1.0, npoints = 800)\n",
    "\n",
    "sig8_wm_m= results.get_sigma8()[0]\n",
    "Pkz0_wm_m = interp1d(kh, pk[0])\n",
    "\n",
    "#RESET FIDUCIAL\n",
    "pars = camb.CAMBparams()\n",
    "pars.set_cosmology(H0=H00, ombh2=omegab*pow(hubble,2), omch2=omegac*pow(hubble,2),omk=0,mnu=0)\n",
    "pars.set_dark_energy() #LCDM (default)\n",
    "pars.InitPower.set_params(ns=nss, r=0, As=Ass)\n",
    "pars.set_for_lmax(2500, lens_potential_accuracy=0);\n",
    "results = camb.get_results(pars)\n",
    "#Not non-linear corrections couples to smaller scales than you want\n",
    "pars.set_matter_power(redshifts=[0.], kmax=2.0)\n",
    "#Just linear spectra\n",
    "pars.NonLinear = model.NonLinear_none\n",
    "results.calc_power_spectra(pars)\n",
    "\n",
    "#print sig8_wm_m, sig8_fid, sig8_wm_p\n",
    "#print results.get_sigma8()[0]\n",
    "\n",
    "# Numerical derivative wrt h \n",
    "\n",
    "step_h = 0.01*hubble\n",
    "h_p = hubble+step_h\n",
    "h_m = hubble-step_h\n",
    "\n",
    "#DERIV PLUS\n",
    "pars = camb.CAMBparams()\n",
    "pars.set_cosmology(H0=100*h_p, ombh2=omegab*pow(hubble,2), omch2=omegac*pow(hubble,2),omk=0,mnu=0)\n",
    "pars.set_dark_energy() #LCDM (default)\n",
    "pars.InitPower.set_params(ns=nss, r=0, As=Ass)\n",
    "pars.set_for_lmax(2500, lens_potential_accuracy=0);\n",
    "results = camb.get_results(pars)\n",
    "#Not non-linear corrections couples to smaller scales than you want\n",
    "pars.set_matter_power(redshifts=[0.], kmax=2.0)\n",
    "#Just linear spectra\n",
    "pars.NonLinear = model.NonLinear_none\n",
    "results.calc_power_spectra(pars)\n",
    "kh, z, pk = results.get_matter_power_spectrum(minkh=1e-4, maxkh=1.0, npoints = 800)\n",
    "\n",
    "#print pars\n",
    "\n",
    "sig8_h_p = results.get_sigma8()[0]\n",
    "Pkz0_h_p = interp1d(kh, pk[0])\n",
    "\n",
    "#DERIV MINUS\n",
    "pars = camb.CAMBparams()\n",
    "pars.set_cosmology(H0=100*h_m, ombh2=omegab*pow(hubble,2), omch2=omegac*pow(hubble,2),omk=0,mnu=0)\n",
    "pars.set_dark_energy() #LCDM (default)\n",
    "pars.InitPower.set_params(ns=nss, r=0, As=Ass)\n",
    "pars.set_for_lmax(2500, lens_potential_accuracy=0);\n",
    "results = camb.get_results(pars)\n",
    "#Not non-linear corrections couples to smaller scales than you want\n",
    "pars.set_matter_power(redshifts=[0.], kmax=2.0)\n",
    "#Just linear spectra\n",
    "pars.NonLinear = model.NonLinear_none\n",
    "results.calc_power_spectra(pars)\n",
    "kh, z, pk = results.get_matter_power_spectrum(minkh=1e-4, maxkh=1.0, npoints = 800)\n",
    "\n",
    "#print pars\n",
    "\n",
    "sig8_h_m= results.get_sigma8()[0]\n",
    "Pkz0_h_m = interp1d(kh, pk[0])\n",
    "\n",
    "#RESET FIDUCIAL\n",
    "pars = camb.CAMBparams()\n",
    "pars.set_cosmology(H0=H00, ombh2=omegab*pow(hubble,2), omch2=omegac*pow(hubble,2),omk=0,mnu=0)\n",
    "pars.set_dark_energy() #LCDM (default)\n",
    "pars.InitPower.set_params(ns=nss, r=0, As=Ass)\n",
    "pars.set_for_lmax(2500, lens_potential_accuracy=0);\n",
    "results = camb.get_results(pars)\n",
    "#Not non-linear corrections couples to smaller scales than you want\n",
    "pars.set_matter_power(redshifts=[0.], kmax=2.0)\n",
    "#Just linear spectra\n",
    "pars.NonLinear = model.NonLinear_none\n",
    "results.calc_power_spectra(pars)\n",
    "\n",
    "print sig8_h_m, sig8_fid, sig8_h_p\n",
    "print results.get_sigma8()[0]"
   ]
  },
  {
   "cell_type": "code",
   "execution_count": 22,
   "metadata": {
    "collapsed": false
   },
   "outputs": [
    {
     "name": "stdout",
     "output_type": "stream",
     "text": [
      "-0.458732231721 1.833649971 -0.696296384894 -0.223587693788\n"
     ]
    }
   ],
   "source": [
    "def dlnP_dns(kk):\n",
    "    return ((Pkz0_ns_p(kk)/pow(sig8_ns_p,2))-(Pkz0_ns_m(kk)/pow(sig8_ns_m,2)))/(2*step_ns)/(Pkz0(kk)/pow(sig8_fid,2))\n",
    "\n",
    "def dlnP_dwb(kk):\n",
    "    return ((Pkz0_wb_p(kk)/pow(sig8_wb_p,2))-(Pkz0_wb_m(kk)/pow(sig8_wb_m,2)))/(2*step_wb)/(Pkz0(kk)/pow(sig8_fid,2))\n",
    "\n",
    "def dlnP_dwm(kk):\n",
    "    return ((Pkz0_wm_p(kk)/pow(sig8_wm_p,2))-(Pkz0_wm_m(kk)/pow(sig8_wm_m,2)))/(2*step_wm)/(Pkz0(kk)/pow(sig8_fid,2))\n",
    "\n",
    "def dlnP_dh(kk):\n",
    "    return ((Pkz0_h_p(kk)/pow(sig8_h_p,2))-(Pkz0_h_m(kk)/pow(sig8_h_m,2)))/(2*step_h)/(Pkz0(kk)/pow(sig8_fid,2))\n",
    "\n",
    "print dlnP_dns(0.1), dlnP_dwb(0.1), dlnP_dwm(0.1), dlnP_dh(0.1)\n",
    "#print dlnP_dwm(0.1), dlnP_dh(0.1)"
   ]
  },
  {
   "cell_type": "code",
   "execution_count": 23,
   "metadata": {
    "collapsed": false
   },
   "outputs": [],
   "source": [
    "#with open('test.txt', 'w') as Pkfile:\n",
    "#    for row in zip(kh, Pkz0_wm_m(kh)/pow(sig8_wm_m,2)):\n",
    "#        print >> Pkfile, row[0], row[1]"
   ]
  },
  {
   "cell_type": "code",
   "execution_count": 24,
   "metadata": {
    "collapsed": true
   },
   "outputs": [],
   "source": [
    "with open('test.txt', 'w') as derivfile:\n",
    "    for row in zip(kh, dlnP_dh(kh)):\n",
    "        print >> derivfile, row[0], row[1]"
   ]
  },
  {
   "cell_type": "code",
   "execution_count": 25,
   "metadata": {
    "collapsed": false
   },
   "outputs": [],
   "source": [
    "def dF(kk,mu,zc):\n",
    "    return (1./(8*pi*pi))*pow(kk,2)*deriv_i(kk,mu,zc)*deriv_j(kk,mu,zc)*Veff(kk,mu,zc)    "
   ]
  },
  {
   "cell_type": "code",
   "execution_count": 26,
   "metadata": {
    "collapsed": true
   },
   "outputs": [],
   "source": [
    "#2D integration function\n",
    "def integrate2D(dfun, kgrid, mugrid):\n",
    "    \n",
    "    muint = [scipy.integrate.romb(dfun.T[i], dx=np.diff(mugrid)[0]) for i in range(kgrid.size)]\n",
    "    return scipy.integrate.romb(muint, dx=np.diff(kgrid)[0])"
   ]
  },
  {
   "cell_type": "code",
   "execution_count": 27,
   "metadata": {
    "collapsed": false
   },
   "outputs": [],
   "source": [
    "mugrid = np.linspace(-1., 1., 513) "
   ]
  },
  {
   "cell_type": "code",
   "execution_count": 30,
   "metadata": {
    "collapsed": false,
    "scrolled": true
   },
   "outputs": [],
   "source": [
    "#%%time\n",
    "#   Fisher matrix   # \n",
    "\n",
    "Npar = len(params)\n",
    "Npar_shape = len(shape_params)\n",
    "#create array of zeros\n",
    "s = (Npar-Npar_shape)*Nzbins + Npar_shape\n",
    "\n",
    "Fishermat = np.zeros([s,s])\n",
    "\n",
    "kgrid = np.linspace(kmin, kmax, 513)\n",
    "K, MU = np.meshgrid(kgrid, mugrid)\n",
    "for zi in range(0,Nzbins):\n",
    "    zc = zlist[zi]\n",
    "    bg = biaslist[zi]\n",
    "    zmin = zc-Dzbin/2\n",
    "    zmax = zc+Dzbin/2\n",
    "    Ngal = dn3[zi]*Area*Dzbin\n",
    "\n",
    "    for i in range(0,Npar):\n",
    "        if i not in shape_params: \n",
    "            k=zi*(Npar-Npar_shape) + i\n",
    "        else:\n",
    "            k = s + (i - Npar)\n",
    "            \n",
    "        def deriv_i(kk,mu,z):\n",
    "            if i==0:  return dlnP_dlnH(kk,mu,z)\n",
    "            elif i==1:  return dlnP_dlnDA(kk,mu,z)\n",
    "            elif i==2:  return dlnP_dlnfsig8(kk,mu,z)\n",
    "            elif i==3:  return dlnP_dlnbsig8(kk,mu,z)\n",
    "            elif i==4:  return dlnP_dPs(kk,mu,z)\n",
    "            elif i==5:  return dlnP_dns(kk)\n",
    "            elif i==6:  return dlnP_dwb(kk)\n",
    "            elif i==7:  return dlnP_dwm(kk)\n",
    "            elif i==8:  return dlnP_dh(kk)\n",
    "            else: print \"Error: index out of range\"\n",
    "        \n",
    "        for  j in range(0,Npar):\n",
    "            if j not in shape_params:\n",
    "                l=zi*(Npar-Npar_shape) + j\n",
    "            else:\n",
    "                l = s + (j - Npar)\n",
    "            \n",
    "            \n",
    "            if j>=i:\n",
    "                def deriv_j(kk,mu,z):\n",
    "                    if j==0:  return dlnP_dlnH(kk,mu,z)\n",
    "                    elif j==1:  return dlnP_dlnDA(kk,mu,z)\n",
    "                    elif j==2:  return dlnP_dlnfsig8(kk,mu,z)\n",
    "                    elif j==3:  return dlnP_dlnbsig8(kk,mu,z)\n",
    "                    elif j==4:  return dlnP_dPs(kk,mu,z)\n",
    "                    elif j==5:  return dlnP_dns(kk)\n",
    "                    elif j==6:  return dlnP_dwb(kk)\n",
    "                    elif j==7:  return dlnP_dwm(kk)\n",
    "                    elif j==8:  return dlnP_dh(kk)\n",
    "                    else: print \"Error: index out of range\" \n",
    "                    \n",
    "            #print zc, params[i], params[j], '[', k, ',', l, ']'\n",
    "           \n",
    "            if l>=k: \n",
    "                Fishermat[k][l] += integrate2D(dF(K,MU,zc),kgrid,mugrid)\n",
    "            else: \n",
    "                Fishermat[k,l] = Fishermat[l,k]                 \n",
    "\n",
    "np.savetxt('alkistis-case5.txt', Fishermat)"
   ]
  },
  {
   "cell_type": "code",
   "execution_count": 31,
   "metadata": {
    "collapsed": false
   },
   "outputs": [
    {
     "name": "stdout",
     "output_type": "stream",
     "text": [
      "[  6.77593763e-02   6.74893392e-02   4.89447470e-02   4.74503517e-02\n",
      "   1.79384024e+01   6.75690765e-02   6.73589937e-02   4.83606559e-02\n",
      "   4.72373784e-02   1.56822185e+01   6.75201880e-02   6.73374012e-02\n",
      "   4.81124001e-02   4.72101544e-02   1.37989204e+01   6.74966992e-02\n",
      "   6.73253407e-02   4.80516700e-02   4.71905403e-02   1.30459060e+01\n",
      "   6.74884298e-02   6.73149887e-02   4.81596548e-02   4.71646315e-02\n",
      "   1.34072605e+01   6.74919934e-02   6.73189474e-02   4.82183583e-02\n",
      "   4.71693836e-02   1.31334363e+01   6.75024093e-02   6.73266925e-02\n",
      "   4.83149760e-02   4.71797241e-02   1.29931699e+01   6.75435906e-02\n",
      "   6.73605482e-02   4.84714112e-02   4.72355174e-02   1.27521623e+01\n",
      "   6.76055492e-02   6.74006156e-02   4.88652659e-02   4.72921118e-02\n",
      "   1.35347669e+01   6.77254280e-02   6.74711574e-02   4.97576117e-02\n",
      "   4.73867220e-02   1.57146562e+01   6.80308147e-02   6.77040665e-02\n",
      "   5.10873739e-02   4.77533235e-02   1.73144657e+01   6.81197937e-02\n",
      "   6.77769586e-02   5.14951580e-02   4.78689580e-02   1.71482076e+01\n",
      "   6.88270009e-02   6.83019978e-02   5.52476036e-02   4.86535096e-02\n",
      "   2.25151464e+01   7.08424366e-02   6.99660256e-02   6.41384885e-02\n",
      "   5.11389029e-02   3.23932099e+01   4.49570402e-02   4.25939950e-03\n",
      "   2.12049815e-02   6.19923256e-02]\n"
     ]
    }
   ],
   "source": [
    "print np.sqrt(np.diag(linalg.inv(Fishermat)))"
   ]
  },
  {
   "cell_type": "code",
   "execution_count": null,
   "metadata": {
    "collapsed": true
   },
   "outputs": [],
   "source": [
    "#testing"
   ]
  }
 ],
 "metadata": {
  "kernelspec": {
   "display_name": "Python 2",
   "language": "python",
   "name": "python2"
  },
  "language_info": {
   "codemirror_mode": {
    "name": "ipython",
    "version": 2
   },
   "file_extension": ".py",
   "mimetype": "text/x-python",
   "name": "python",
   "nbconvert_exporter": "python",
   "pygments_lexer": "ipython2",
   "version": "2.7.12"
  }
 },
 "nbformat": 4,
 "nbformat_minor": 0
}
