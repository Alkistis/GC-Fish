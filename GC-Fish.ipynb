{
 "cells": [
  {
   "cell_type": "markdown",
   "metadata": {},
   "source": [
    "# GC Fisher Matrix Code\n",
    "\n",
    "Authors: Alkistis Pourtsidou, Dida Markovic\n",
    "    \n",
    "Using part of http://camb.readthedocs.io/en/latest/CAMBdemo.html \n",
    "\n",
    "To run this Jupyter notebook you need to have CAMB and the CAMB python package \n",
    "installed. In order to install the CAMB python package on your computer follow\n",
    "the instructions in http://camb.readthedocs.io/en/latest/"
   ]
  },
  {
   "cell_type": "markdown",
   "metadata": {},
   "source": [
    "## Initialise parameters and import libraries"
   ]
  },
  {
   "cell_type": "code",
   "execution_count": null,
   "metadata": {
    "collapsed": true
   },
   "outputs": [],
   "source": [
    "# Set up science stuff\n",
    "from __future__ import division\n",
    "import numpy as np\n",
    "import scipy, scipy.interpolate\n",
    "\n",
    "# Set up all kinds of libraries\n",
    "import os\n",
    "\n",
    "# Import custom modules in this folder\n",
    "import misc\n",
    "\n",
    "# Importing CAMB\n",
    "import camb"
   ]
  },
  {
   "cell_type": "code",
   "execution_count": null,
   "metadata": {
    "collapsed": true
   },
   "outputs": [],
   "source": [
    "# Options for running this notebook\n",
    "\n",
    "### Paths\n",
    "run_name = ''                 # Choose a name if you want, set to '' if don't want\n",
    "outpath = './outputs/'        # Where to save outputs\n",
    "TS = misc.get_timestamp()     # Arbitrary time stamp so linked output files are obvious\n",
    "code_name = 'GC-Fish-'  \n",
    "\n",
    "### Set up the precision of the interpolations\n",
    "sig_figs = None               # If want to round the P(k) and kh\n",
    "n_k_bin = 800                 # Settings for CAMB P(k)\n",
    "minkh = 1e-4                  # Settings for CAMB P(k)\n",
    "maxkh = 10.0                  # Settings for CAMB P(k)\n",
    "interp_type = 'linear'        # Type of interpolation\n",
    "k_per_logint = 200            # Setting for CAMB points per k decade\n",
    "\n",
    "### Fiducial cosmological parameters\n",
    "hubble_fid = 0.67\n",
    "omegab_fid = 0.022445/hubble_fid**2\n",
    "omegac_fid = 0.121203/hubble_fid**2\n",
    "om0_fid = omegac_fid + omegab_fid\n",
    "H00_fid = 100*hubble_fid\n",
    "Ass_fid = 2.1265e-9\n",
    "nss_fid = 0.96\n",
    "\n",
    "# Dark Energy parameters\n",
    "w0_fid = -1.0\n",
    "wa_fid = 0.0\n",
    "gamma_fid = 0.545\n",
    "\n",
    "# Speed of light\n",
    "c = 3.0e5\n",
    "\n",
    "### Set up the survey, Euclid Definition Study Report (RedBook) \n",
    "### https://arxiv.org/abs/1110.3193\n",
    "Area = 15000.0 #deg^2\n",
    "omegatot = Area*pow(np.pi/180,2)\n",
    "Dzbin = 0.1\n",
    "sig_p = 0.001 \n",
    "\n",
    "### Set up the redshift binned functions\n",
    "zlist = np.arange(0.7,2.1,Dzbin)\n",
    "Nzbins = len(zlist)\n",
    "biaslist = [1.083, 1.125, 1.104, 1.126, 1.208, 1.243, 1.282, 1.292, 1.363, 1.497, 1.486, \\\n",
    "            1.491, 1.573, 1.568]\n",
    "dn3 = [2434.28, 4364.812, 4728.559, 4825.798, 4728.797, 4507.625, 4269.851, 3720.657, 3104.309, \\\n",
    "       2308.975, 1541.831, 1474.707, 893.716, 497.613]\n",
    "\n",
    "### Set up the derivative steps\n",
    "z_dep_step_default = 1e-5\n",
    "shape_step = 1e-3\n",
    "\n",
    "### Set up the Fisher Matrix integration (not power spectrum!)\n",
    "kmin = 0.001\n",
    "kmax = 0.2\n",
    "\n",
    "### Set up the Fisher matrix calculation\n",
    "params = {\n",
    "    0: 'lnH',\n",
    "    1: 'lnDA',\n",
    "    2: 'lnfsig8',\n",
    "    3: 'lnbsig8',\n",
    "    4: 'Ps',\n",
    "    5: 'ns',\n",
    "    6: 'wb',\n",
    "    7: 'wm',\n",
    "    8: 'h'}\n",
    "shape_params = [5,6,7,8]"
   ]
  },
  {
   "cell_type": "markdown",
   "metadata": {},
   "source": [
    "## Define functions"
   ]
  },
  {
   "cell_type": "code",
   "execution_count": null,
   "metadata": {
    "collapsed": true
   },
   "outputs": [],
   "source": [
    "# Geometry functions for a spatially flat Universe\n",
    "\n",
    "# Functions for DE\n",
    "def w_integrand(z,w0=w0_fid,wa=wa_fid):\n",
    "    return (1 + w0+wa*z/(z+1)) / (1+z)\n",
    "def DE_evo(zc,w0=w0_fid,wa=wa_fid): \n",
    "    return np.exp(3*scipy.integrate.romberg(lambda z: w_integrand(z,w0,wa), 0, zc))\n",
    "\n",
    "# Define E(z) = H(z)/H0\n",
    "def Ez(zc,w0=w0_fid,wa=wa_fid):\n",
    "    return np.sqrt((1-om0_fid)*DE_evo(zc,w0,wa) + om0_fid*pow(1+zc,3))\n",
    "def Hz(zc,w0=w0_fid,wa=wa_fid):\n",
    "    return Ez(zc,w0,wa)*H00_fid\n",
    "\n",
    "# Define the cosmological distances\n",
    "def drdz(zp,w0=w0_fid,wa=wa_fid):\n",
    "    return (c/H00_fid)/Ez(zp,w0,wa)\n",
    "def rcom(zc,w0=w0_fid,wa=wa_fid):\n",
    "    return scipy.integrate.romberg(lambda z: drdz(z,w0,wa),0,zc)\n",
    "def DA(zc,w0=w0_fid,wa=wa_fid):\n",
    "    return rcom(zc,w0,wa)/(1+zc)"
   ]
  },
  {
   "cell_type": "code",
   "execution_count": null,
   "metadata": {
    "collapsed": true
   },
   "outputs": [],
   "source": [
    "# LCDM growth rate and growth factor\n",
    "\n",
    "def fg(zz,w0=w0_fid,wa=wa_fid,gamma=gamma_fid):\n",
    "    omz=om0_fid*pow(1+zz,3)/pow(Ez(zz,w0,wa),2)\n",
    "    return pow(omz,gamma)\n",
    "\n",
    "def Dg_dz(zz,w0=w0_fid,wa=wa_fid):\n",
    "    return -fg(zz,w0,wa)/(1+zz)\n",
    "\n",
    "def Dgz(zc,w0=w0_fid,wa=wa_fid):\n",
    "    start_z = 0.0\n",
    "    ans = scipy.integrate.romberg(lambda z: Dg_dz(z,w0,wa), start_z, zc)\n",
    "    return np.exp(ans)"
   ]
  }
 ],
 "metadata": {
  "kernelspec": {
   "display_name": "Python 2",
   "language": "python",
   "name": "python2"
  },
  "language_info": {
   "codemirror_mode": {
    "name": "ipython",
    "version": 2
   },
   "file_extension": ".py",
   "mimetype": "text/x-python",
   "name": "python",
   "nbconvert_exporter": "python",
   "pygments_lexer": "ipython2",
   "version": "2.7.12"
  }
 },
 "nbformat": 4,
 "nbformat_minor": 0
}
