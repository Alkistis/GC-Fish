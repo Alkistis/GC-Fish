{
 "cells": [
  {
   "cell_type": "markdown",
   "metadata": {},
   "source": [
    "# GC Fisher Matrix Code\n",
    "\n",
    "Authors: Alkistis Pourtsidou, Dida Markovic, ...\n",
    "\n",
    "Using part of http://camb.readthedocs.io/en/latest/CAMBdemo.html \n",
    "\n",
    "To run this Jupyter notebook you need to have CAMB and the CAMB python package \n",
    "installed. In order to install the CAMB python package on your computer follow\n",
    "the instructions in http://camb.readthedocs.io/en/latest/"
   ]
  },
  {
   "cell_type": "markdown",
   "metadata": {},
   "source": [
    "## Initialise parameters and import libraries"
   ]
  },
  {
   "cell_type": "code",
   "execution_count": null,
   "metadata": {
    "collapsed": false
   },
   "outputs": [],
   "source": [
    "# Set up all kinds of libraries\n",
    "import os\n",
    "\n",
    "# Set up science stuff\n",
    "from __future__ import division\n",
    "import numpy as np\n",
    "import scipy, scipy.interpolate\n",
    "\n",
    "# Import custom modules in this folder\n",
    "import misc\n",
    "\n",
    "# Importing CAMB\n",
    "import camb"
   ]
  },
  {
   "cell_type": "code",
   "execution_count": null,
   "metadata": {
    "collapsed": false
   },
   "outputs": [],
   "source": [
    "# Options for running this notebook\n",
    "\n",
    "### Paths\n",
    "run_name = ''                 # Choose a name if you want, set to '' if don't want\n",
    "outpath = './outputs/'        # Where to save outputs\n",
    "TS = misc.get_timestamp()     # Arbitrary time stamp so linked output files are obvious\n",
    "code_name = 'alkistis-case5'  # should become GC-Fish anyway\n",
    "\n",
    "### Set up the precision of the interpolations\n",
    "sig_figs = None               # If want to round the P(k) and kh\n",
    "n_k_bin = 800                 # Settings for CAMB P(k)\n",
    "minkh = 1e-4                  # Settings for CAMB P(k)\n",
    "maxkh = 10.0                  # Settings for CAMB P(k)\n",
    "interp_type = 'linear'        # Type of interpolation\n",
    "k_per_logint = 200            # Setting for CAMB points per k decade\n",
    "\n",
    "### Fiducial cosmological parameters\n",
    "hubble_fid = 0.67\n",
    "omegab_fid = 0.022445/hubble_fid**2\n",
    "omegac_fid = 0.121203/hubble_fid**2\n",
    "om0_fid = omegac_fid + omegab_fid\n",
    "H00_fid = 100*hubble_fid\n",
    "Ass_fid = 2.1265e-9\n",
    "nss_fid = 0.96\n",
    "\n",
    "# Dark Energy parameters\n",
    "w0_fid = -1.0\n",
    "wa_fid = 0.0\n",
    "gamma_fid = 0.545\n",
    "\n",
    "# Just a constant\n",
    "c = 3.0e5\n",
    "\n",
    "### Set up the survey\n",
    "Area = 15000.0 #deg^2\n",
    "omegatot = Area*pow(np.pi/180,2)\n",
    "Dzbin = 0.1\n",
    "sig_p = 0.001\n",
    "\n",
    "### Set up the redshift binned functions\n",
    "zlist = np.arange(0.7,2.1,Dzbin)\n",
    "Nzbins = len(zlist)\n",
    "biaslist = [1.083, 1.125, 1.104, 1.126, 1.208, 1.243, 1.282, 1.292, 1.363, 1.497, 1.486, \\\n",
    "            1.491, 1.573, 1.568]\n",
    "dn3 = [2434.28, 4364.812, 4728.559, 4825.798, 4728.797, 4507.625, 4269.851, 3720.657, 3104.309, \\\n",
    "       2308.975, 1541.831, 1474.707, 893.716, 497.613]\n",
    "\n",
    "### Set up the derivative steps\n",
    "z_dep_step_default = 1e-5\n",
    "shape_step = 1e-3\n",
    "\n",
    "### Set up the Fisher Matrix integration (not power spectrum!)\n",
    "kmin = 0.001\n",
    "kmax = 0.2\n",
    "\n",
    "### Set up the Fisher matrix calculation\n",
    "params = {\n",
    "    0: 'lnH',\n",
    "    1: 'lnDA',\n",
    "    2: 'lnfsig8',\n",
    "    3: 'lnbsig8',\n",
    "    4: 'Ps',\n",
    "    5: 'ns',\n",
    "    6: 'wb',\n",
    "    7: 'wm',\n",
    "    8: 'h'}\n",
    "shape_params = [5,6,7,8]"
   ]
  },
  {
   "cell_type": "markdown",
   "metadata": {},
   "source": [
    "## Define functions"
   ]
  },
  {
   "cell_type": "code",
   "execution_count": null,
   "metadata": {
    "collapsed": false
   },
   "outputs": [],
   "source": [
    "# Geometry functions for a spatially flat Universe\n",
    "\n",
    "# Functions for DE later\n",
    "def w_integrand(z,w0=w0_fid,wa=wa_fid):\n",
    "    return (1 + w0+wa*z/(z+1)) / (1+z)\n",
    "def DE_evo(zc,w0=w0_fid,wa=wa_fid): \n",
    "    return np.exp(3*scipy.integrate.romberg(lambda z: w_integrand(z,w0,wa), 0, zc))\n",
    "\n",
    "# Define E(z) = H(z)/H0\n",
    "def Ez(zc,w0=w0_fid,wa=wa_fid):\n",
    "    return np.sqrt((1-om0_fid)*DE_evo(zc,w0,wa) + om0_fid*pow(1+zc,3))\n",
    "def Hz(zc,w0=w0_fid,wa=wa_fid):\n",
    "    return Ez(zc,w0,wa)*H00_fid\n",
    "\n",
    "# Define the cosmological distances\n",
    "def drdz(zp,w0=w0_fid,wa=wa_fid):\n",
    "    return (c/H00_fid)/Ez(zp,w0,wa)\n",
    "def rcom(zc,w0=w0_fid,wa=wa_fid):\n",
    "    return scipy.integrate.romberg(lambda z: drdz(z,w0,wa),0,zc)\n",
    "def DA(zc,w0=w0_fid,wa=wa_fid):\n",
    "    return rcom(zc,w0,wa)/(1+zc)"
   ]
  },
  {
   "cell_type": "code",
   "execution_count": null,
   "metadata": {
    "collapsed": false
   },
   "outputs": [],
   "source": [
    "# LCDM growth rate and growth factor\n",
    "\n",
    "def fg(zz,w0=w0_fid,wa=wa_fid,gamma=gamma_fid):\n",
    "    omz=om0_fid*pow(1+zz,3)/pow(Ez(zz,w0,wa),2)\n",
    "    return pow(omz,gamma)\n",
    "\n",
    "def Dg_dz(zz,w0=w0_fid,wa=wa_fid):\n",
    "    return -fg(zz,w0,wa)/(1+zz)\n",
    "\n",
    "def Dgz(zc,w0=w0_fid,wa=wa_fid):\n",
    "    start_z = 0.0\n",
    "    ans = scipy.integrate.romberg(lambda z: Dg_dz(z,w0,wa), start_z, zc)\n",
    "    return np.exp(ans)"
   ]
  },
  {
   "cell_type": "code",
   "execution_count": null,
   "metadata": {
    "collapsed": false
   },
   "outputs": [],
   "source": [
    "# Function to get the sigma_8 and P(k) at z = 0.0 from CAMB\n",
    "\n",
    "def get_fiducial(h=hubble_fid, \n",
    "                 wb=omegab_fid*pow(hubble_fid,2), \n",
    "                 wm=(omegac_fid+omegab_fid)*pow(hubble_fid,2), \n",
    "                 ns=nss_fid):\n",
    "\n",
    "    # Reset CAMB\n",
    "    pars = camb.CAMBparams()\n",
    "    pars.set_cosmology(H0=100.0*h, ombh2=wb, omch2=wm-wb,omk=0,mnu=0)\n",
    "    pars.set_dark_energy() #LCDM (default)\n",
    "    pars.InitPower.set_params(ns=ns, r=0, As=Ass_fid)    \n",
    "\n",
    "    # Set linear matter power spectrum at z=0: P(k,z=0)\n",
    "    pars.set_matter_power(redshifts=[0.],kmax=maxkh/hubble_fid * 1.1,k_per_logint=k_per_logint)\n",
    "    pars.NonLinear = camb.model.NonLinear_none\n",
    "    \n",
    "    # Calculate the intermediate results for these parameters\n",
    "    results = camb.get_results(pars)\n",
    "    results.calc_power_spectra(pars)\n",
    "    \n",
    "    # Calculate the CAMB power spectra to be interpolated\n",
    "    kh, _z, pk = results.get_linear_matter_power_spectrum(have_power_spectra=True,nonlinear=False)\n",
    "    if sig_figs is not None:\n",
    "        kh = misc.roundsf(kh,sig_figs)\n",
    "        pk = misc.roundsf(pk,sig_figs)\n",
    "    \n",
    "    # Only one element both times, because always only at z=0\n",
    "    return results.get_sigma8()[0], scipy.interpolate.interp1d(kh,pk[0],kind=interp_type)"
   ]
  },
  {
   "cell_type": "code",
   "execution_count": null,
   "metadata": {
    "collapsed": false
   },
   "outputs": [],
   "source": [
    "# The power spectra depend on the fiducial cosmology\n",
    "\n",
    "# Construct the observed power spectrum, P_gg(k,μ,z)\n",
    "def Pgg(kk,mu,zc=None,bgs8=None,fgs8=None):\n",
    "    if bgs8 is None: bgs8 = bgs8_fid[round(zc,2)]\n",
    "    if fgs8 is None: fgs8 = fgs8_fid[round(zc,2)]    \n",
    "    # The ratio P(k)/σ8**2 is always fiducial, because fgs8 and bgs8 are taken as \n",
    "    # independent parameters, so they should not be changing the σ8. \n",
    "    return pow(bgs8+fgs8*mu**2,2) * (pk0_fid(kk)/sig8_fid**2)"
   ]
  },
  {
   "cell_type": "code",
   "execution_count": null,
   "metadata": {
    "collapsed": false
   },
   "outputs": [],
   "source": [
    "# Calculate the survey properties\n",
    "\n",
    "# Redshift errors\n",
    "def photoz(kk,mu,zc):\n",
    "    sigz = sig_p*(1+zc) \n",
    "    return np.exp(-pow(kk*mu,2)*pow(c*sigz,2)/pow(Hz(zc),2))\n",
    "\n",
    "# Survey (bin) volume [Mpc^3]\n",
    "def dVsurdz(zz):    \n",
    "    return omegatot*c*pow(rcom(zz),2)/(H00_fid*Ez(zz))\n",
    "    \n",
    "def Vsur(zc):\n",
    "    return scipy.integrate.romberg(dVsurdz,zc-Dzbin/2,zc+Dzbin/2)\n",
    "\n",
    "def Pshot(zc):\n",
    "    return Vsur(zc)/Ngal\n",
    "\n",
    "# Effective volume (the hubble**3 factors are for units consistency)\n",
    "def Veff(kk,mu,zc):\n",
    "    return hubble_fid**3*Vsur(zc)* \\\n",
    "           (Pgg(kk,mu,zc)*photoz(kk,mu,zc)/(Pgg(kk,mu,zc)*photoz(kk,mu,zc) \\\n",
    "           + hubble_fid**3*Pshot(zc)))**2"
   ]
  },
  {
   "cell_type": "markdown",
   "metadata": {},
   "source": [
    "## Calculate the fiducial cosmology"
   ]
  },
  {
   "cell_type": "code",
   "execution_count": null,
   "metadata": {
    "collapsed": false
   },
   "outputs": [],
   "source": [
    "# Get the power spectrum quantities in the fiducial cosmology\n",
    "sig8_fid, pk0_fid = get_fiducial()\n",
    "\n",
    "# These are the fiducial values for the redshift-dependent (DE \"model independent\") parameters\n",
    "fgs8_fid = {round(zc,2): fg(zc)*sig8_fid*Dgz(zc) for zc in zlist} \n",
    "bgs8_fid = {round(zc,2): bg*sig8_fid*Dgz(zc) for bg,zc in zip(biaslist,zlist)} "
   ]
  },
  {
   "cell_type": "markdown",
   "metadata": {},
   "source": [
    "## Functions for the derivatives"
   ]
  },
  {
   "cell_type": "code",
   "execution_count": null,
   "metadata": {
    "collapsed": false
   },
   "outputs": [],
   "source": [
    "# Dark Energy model independent (aka redshift-dependent) parameters first\n",
    "\n",
    "# Shot noise derivative analytically since it is trivial\n",
    "def dlnP_dPs(kk,mu,zc):\n",
    "    return 1.0/(Pgg(kk,mu,zc)*photoz(kk,mu,zc))\n",
    "\n",
    "# NUMERICAL DERIVATIVES\n",
    "\n",
    "# Growth function parameter, f*σ8(z)\n",
    "def dlnP_dlnfsig8(kk,mu,zc,step_fs8=z_dep_step_default):\n",
    "    \n",
    "    fs8_fid = fgs8_fid[round(zc,2)] \n",
    "    fs8_p = fs8_fid*(1+step_fs8)\n",
    "    fs8_m = fs8_fid*(1-step_fs8)\n",
    "\n",
    "    Pgg_fid = Pgg(kk,mu,zc)\n",
    "    Pgg_p = Pgg(kk,mu,zc,fgs8=fs8_p)\n",
    "    Pgg_m = Pgg(kk,mu,zc,fgs8=fs8_m)\n",
    "\n",
    "    return (fs8_fid/Pgg_fid)*(Pgg_p-Pgg_m)/(2*step_fs8*fs8_fid)\n",
    "\n",
    "# Linear galaxy bias parameter, b*σ8(z)\n",
    "def dlnP_dlnbsig8(kk,mu,zc,step_bs8=z_dep_step_default):\n",
    "    \n",
    "    bs8_fid = bgs8_fid[round(zc,2)]\n",
    "    bs8_p = bs8_fid*(1+step_bs8)\n",
    "    bs8_m = bs8_fid*(1-step_bs8)\n",
    "\n",
    "    Pgg_fid = Pgg(kk,mu,zc)\n",
    "    Pgg_p = Pgg(kk,mu,zc,bgs8=bs8_p)\n",
    "    Pgg_m = Pgg(kk,mu,zc,bgs8=bs8_m)\n",
    "\n",
    "    return (bs8_fid/Pgg_fid)*(Pgg_p-Pgg_m)/(2*step_bs8*bs8_fid)\n",
    "\n",
    "# Angular diameter distance parameter, D_A(z)\n",
    "def dlnP_dlnDA(kk,mu,zc,step_DA=z_dep_step_default):\n",
    "    \n",
    "    DA_fid = DA(zc)\n",
    "    DA_p = DA_fid*(1+step_DA)\n",
    "    DA_m = DA_fid*(1-step_DA)\n",
    "\n",
    "    Pgg_fid = Pgg(kk,mu,zc)\n",
    "\n",
    "    k_p = kk*(DA_fid/DA_p)*np.sqrt(1+mu**2*((DA_p/DA_fid)**2 - 1)) \n",
    "    mu_p = mu*(DA_p/DA_fid)/np.sqrt(1+mu**2*((DA_p/DA_fid)**2 - 1)) \n",
    "    Pgg_p = (DA_fid/DA_p)**2 * Pgg(k_p,mu_p,zc)\n",
    "\n",
    "    k_m = kk*(DA_fid/DA_m)*np.sqrt(1+mu**2*((DA_m/DA_fid)**2 - 1)) \n",
    "    mu_m = mu*(DA_m/DA_fid)/np.sqrt(1+mu**2*((DA_m/DA_fid)**2 - 1)) \n",
    "    Pgg_m = (DA_fid/DA_m)**2 * Pgg(k_m,mu_m,zc)\n",
    "\n",
    "    return (DA_fid/Pgg_fid)*(Pgg_p-Pgg_m)/(2*step_DA*DA_fid)\n",
    "\n",
    "# Hubble function parameter, H(z)\n",
    "def dlnP_dlnH(kk,mu,zc,step_H=z_dep_step_default):\n",
    "    \n",
    "    H_fid = Hz(zc)\n",
    "    H_p = H_fid*(1+step_H)\n",
    "    H_m = H_fid*(1-step_H)\n",
    "\n",
    "    Pgg_fid = Pgg(kk,mu,zc)\n",
    "\n",
    "    k_p = kk*np.sqrt(1+mu**2*((H_p/H_fid)**2 - 1)) \n",
    "    mu_p = mu*(H_p/H_fid)/np.sqrt(1+mu**2*((H_p/H_fid)**2 - 1)) \n",
    "    Pgg_p = (H_p/H_fid) * Pgg(k_p,mu_p,zc)\n",
    "\n",
    "    k_m = kk*np.sqrt(1+mu**2*((H_m/H_fid)**2 - 1)) \n",
    "    mu_m = mu*(H_m/H_fid)/np.sqrt(1+mu**2*((H_m/H_fid)**2 - 1)) \n",
    "    Pgg_m = (H_m/H_fid) * Pgg(k_m,mu_m,zc)\n",
    "\n",
    "    return (H_fid/Pgg_fid)*(Pgg_p-Pgg_m)/(2*step_H*H_fid)    "
   ]
  },
  {
   "cell_type": "code",
   "execution_count": null,
   "metadata": {
    "collapsed": false
   },
   "outputs": [],
   "source": [
    "# Parameters that change the broad-band shape of the power spectrum as well \n",
    "# aka \"shape parameters\", which are redshift-independent\n",
    "\n",
    "# Spectral index, n_s\n",
    "step_ns = shape_step*nss_fid\n",
    "ns_p = nss_fid + step_ns # DERIV PLUS\n",
    "ns_m = nss_fid - step_ns # DERIV MINUS    \n",
    "sig8_ns_p, pk0_ns_p = get_fiducial(ns=ns_p);\n",
    "sig8_ns_m, pk0_ns_m = get_fiducial(ns=ns_m);\n",
    "def dlnP_dns(kk,zc):\n",
    "    return (pk0_ns_p(kk)/sig8_ns_p**2-pk0_ns_m(kk)/sig8_ns_m**2)/(2*step_ns)/(pk0_fid(kk)/sig8_fid**2)\n",
    "        \n",
    "# Baryon density, omega_b\n",
    "wb_fid = omegab_fid*pow(hubble_fid,2)\n",
    "step_wb = shape_step*wb_fid\n",
    "wb_p = wb_fid + step_wb # DERIV PLUS\n",
    "wb_m = wb_fid - step_wb # DERIV MINUS\n",
    "sig8_wb_p, pk0_wb_p = get_fiducial(wb=wb_p);\n",
    "sig8_wb_m, pk0_wb_m = get_fiducial(wb=wb_m);\n",
    "def dlnP_dwb(kk,zc):\n",
    "    return (pk0_wb_p(kk)/sig8_wb_p**2-pk0_wb_m(kk)/sig8_wb_m**2)/(2*step_wb)/(pk0_fid(kk)/sig8_fid**2)\n",
    "    \n",
    "# Total matter density, omega_m\n",
    "wm_fid = (omegab_fid + omegac_fid)*pow(hubble_fid,2)\n",
    "step_wm = shape_step*wm_fid\n",
    "wm_p = wm_fid + step_wm # DERIV PLUS\n",
    "wm_m = wm_fid - step_wm # DERIV MINUS\n",
    "sig8_wm_p, pk0_wm_p = get_fiducial(wm=wm_p);\n",
    "sig8_wm_m, pk0_wm_m = get_fiducial(wm=wm_m);\n",
    "def dlnP_dwm(kk,zc):\n",
    "    return (pk0_wm_p(kk)/sig8_wm_p**2-pk0_wm_m(kk)/sig8_wm_m**2)/(2*step_wm)/(pk0_fid(kk)/sig8_fid**2)\n",
    "    \n",
    "# Hubble parameter, h\n",
    "step_h = shape_step*hubble_fid\n",
    "h_p = hubble_fid + step_h # DERIV PLUS\n",
    "h_m = hubble_fid - step_h # DERIV MINUS\n",
    "sig8_h_p, pk0_h_p = get_fiducial(h=h_p);\n",
    "sig8_h_m, pk0_h_m = get_fiducial(h=h_m);\n",
    "def dlnP_dh(kk,zc):\n",
    "    return (pk0_h_p(kk)/sig8_h_p**2-pk0_h_m(kk)/sig8_h_m**2)/(2*step_h)/(pk0_fid(kk)/sig8_fid**2)"
   ]
  },
  {
   "cell_type": "code",
   "execution_count": null,
   "metadata": {
    "collapsed": false
   },
   "outputs": [],
   "source": [
    "# Auxiliary bits needed for Fisher matrix calculation\n",
    "\n",
    "def dF(kk,mu,zc):\n",
    "    return (1./(8*np.pi*np.pi))*pow(kk,2)*deriv_i(kk,mu,zc)*deriv_j(kk,mu,zc)*Veff(kk,mu,zc)  \n",
    "\n",
    "# 2D integration function\n",
    "def integrate2D(dfun, kgrid, mugrid):\n",
    "    \n",
    "    muint = [scipy.integrate.romb(dfun.T[i], dx=np.diff(mugrid)[0]) for i in range(kgrid.size)]\n",
    "    return scipy.integrate.romb(muint, dx=np.diff(kgrid)[0]) "
   ]
  },
  {
   "cell_type": "markdown",
   "metadata": {},
   "source": [
    "## Calculate the validation values"
   ]
  },
  {
   "cell_type": "code",
   "execution_count": null,
   "metadata": {
    "collapsed": false
   },
   "outputs": [],
   "source": [
    "ktest = 0.1\n",
    "mutest = 0.5\n",
    "ztest = 1.0\n",
    "\n",
    "bg = 1.0\n",
    "\n",
    "git = misc.GitEnv()\n",
    "\n",
    "validation_text = '# Validating Fisher with code at commit ' + git.get_hash(7)\n",
    "validation_text += \"\\nH(z%.4g) = %.4f\"%(ztest,Hz(ztest))\n",
    "validation_text += \"\\nD_A(z=%.4g) = %.1f\"%(ztest,DA(ztest))\n",
    "validation_text += \"\\nVsurvey(z=%.4g) = %.1f\"%(ztest,Vsur(ztest))\n",
    "validation_text += \"\\nfg(z=%.4g) = %.4f\"%(ztest,fg(ztest))\n",
    "validation_text += \"\\nsig8(z=%.4g) = %.4f\"%(0.0,sig8_fid)\n",
    "validation_text += \"\\nPgg(z=%.4g,mu=%.4g,k=%.4g) = %.4f\"%(ztest,mutest,ktest,Pgg(ktest,mutest,ztest))\n",
    "validation_text += \"\\ndPdDa(z=%.4g,mu=%.4g,k=%.4g) = %.4f\"%(ztest,mutest,ktest,dlnP_dlnDA(ktest,mutest,ztest))\n",
    "validation_text += \"\\ndPdH(z=%.4g,mu=%.4g,k=%.4g) = %.4f\"%(ztest,mutest,ktest,dlnP_dlnH(ktest,mutest,ztest))\n",
    "validation_text += \"\\ndPdbsig8(z=%.4g,mu=%.4g,k=%.4g) = %.4f\"%(ztest,mutest,ktest,dlnP_dlnbsig8(ktest,mutest,ztest))\n",
    "validation_text += \"\\ndPdfsig8(z=%.4g,mu=%.4g,k=%.4g) = %.4f\"%(ztest,mutest,ktest,dlnP_dlnfsig8(ktest,mutest,ztest))\n",
    "validation_text += \"\\ndPdwb(z=%.4g,mu=%.4g,k=%.4g) = %.1f\"%(ztest,mutest,ktest,dlnP_dwb(ktest,ztest))\n",
    "validation_text += \"\\ndPdwm(z=%.4g,mu=%.4g,k=%.4g) = %.1f\"%(ztest,mutest,ktest,dlnP_dwm(ktest,ztest))\n",
    "validation_text += \"\\ndPdns(z=%.4g,mu=%.4g,k=%.4g) = %.1f\"%(ztest,mutest,ktest,dlnP_dns(ktest,ztest))\n",
    "validation_text += \"\\ndPdh(z=%.4g,mu=%.4g,k=%.4g) = %.1f\"%(ztest,mutest,ktest,dlnP_dh(ktest,ztest))\n",
    "\n",
    "filename = os.path.abspath(os.path.join(outpath,\n",
    "                        'validation' + TS + '_' + git.get_hash(7) + '_' + run_name + '.txt'))\n",
    "\n",
    "with open(filename,'w') as f:\n",
    "    f.write(validation_text)"
   ]
  },
  {
   "cell_type": "markdown",
   "metadata": {},
   "source": [
    "## Calculate the Fisher matrix"
   ]
  },
  {
   "cell_type": "code",
   "execution_count": null,
   "metadata": {
    "collapsed": false,
    "scrolled": true
   },
   "outputs": [],
   "source": [
    "%%time\n",
    "\n",
    "# Create array of zeros\n",
    "Npar = len(params)\n",
    "Npar_shape = len(shape_params)\n",
    "s = (Npar-Npar_shape)*Nzbins + Npar_shape\n",
    "Fishermat = np.zeros([s,s])\n",
    "\n",
    "# Loop over redshift, k and mu and get all the Fisher matrix entries by calling the derivatives\n",
    "kgrid = np.linspace(kmin, kmax, 513)\n",
    "mugrid = np.linspace(-1., 1., 513)\n",
    "K, MU = np.meshgrid(kgrid, mugrid)\n",
    "for zi in range(0,Nzbins):\n",
    "    zc = zlist[zi]\n",
    "    bg = biaslist[zi]\n",
    "    zmin = zc-Dzbin/2\n",
    "    zmax = zc+Dzbin/2\n",
    "    Ngal = dn3[zi]*Area*Dzbin\n",
    "\n",
    "    for i in range(0,Npar):\n",
    "        if i not in shape_params: \n",
    "            k=zi*(Npar-Npar_shape) + i\n",
    "        else:\n",
    "            k = s + (i - Npar)\n",
    "            \n",
    "        def deriv_i(kk,mu,z):\n",
    "            if i==0:  return dlnP_dlnH(kk,mu,z)\n",
    "            elif i==1:  return dlnP_dlnDA(kk,mu,z)\n",
    "            elif i==2:  return dlnP_dlnfsig8(kk,mu,z)\n",
    "            elif i==3:  return dlnP_dlnbsig8(kk,mu,z)\n",
    "            elif i==4:  return dlnP_dPs(kk,mu,z)\n",
    "            elif i==5:  return dlnP_dns(kk,z)\n",
    "            elif i==6:  return dlnP_dwb(kk,z)\n",
    "            elif i==7:  return dlnP_dwm(kk,z)\n",
    "            elif i==8:  return dlnP_dh(kk,z)\n",
    "            else: print \"Error: index out of range\"\n",
    "        \n",
    "        for  j in range(0,Npar):\n",
    "            if j not in shape_params:\n",
    "                l=zi*(Npar-Npar_shape) + j\n",
    "            else:\n",
    "                l = s + (j - Npar)\n",
    "                       \n",
    "            if j>=i:\n",
    "                def deriv_j(kk,mu,z):\n",
    "                    if j==0:  return dlnP_dlnH(kk,mu,z)\n",
    "                    elif j==1:  return dlnP_dlnDA(kk,mu,z)\n",
    "                    elif j==2:  return dlnP_dlnfsig8(kk,mu,z)\n",
    "                    elif j==3:  return dlnP_dlnbsig8(kk,mu,z)\n",
    "                    elif j==4:  return dlnP_dPs(kk,mu,z)\n",
    "                    elif j==5:  return dlnP_dns(kk,z)\n",
    "                    elif j==6:  return dlnP_dwb(kk,z)\n",
    "                    elif j==7:  return dlnP_dwm(kk,z)\n",
    "                    elif j==8:  return dlnP_dh(kk,z)\n",
    "                    else: print \"Error: index out of range\" \n",
    "                               \n",
    "            if l>=k: \n",
    "                Fishermat[k][l] += integrate2D(dF(K,MU,zc),kgrid,mugrid)\n",
    "            else: \n",
    "                Fishermat[k,l] = Fishermat[l,k]                 "
   ]
  },
  {
   "cell_type": "code",
   "execution_count": null,
   "metadata": {
    "collapsed": false
   },
   "outputs": [],
   "source": [
    "# Save the resulting Fisher matrix into a file\n",
    "\n",
    "header = 'lnH_0.7 lnDa_0.7 lnfs8_0.7 lnbs8_0.7 Ps_0.7 ' +\\\n",
    "         'lnH_0.8 lnDa_0.8 lnfs8_0.8 lnbs8_0.8 Ps_0.8 ' +\\\n",
    "         'lnH_0.9 lnDa_0.9 lnfs8_0.9 lnbs8_0.9 Ps_0.9 ' +\\\n",
    "         'lnH_1.0 lnDa_1.0 lnfs8_1.0 lnbs8_1.0 Ps_1.0 ' +\\\n",
    "         'lnH_1.1 lnDa_1.1 lnfs8_1.1 lnbs8_1.1 Ps_1.1 ' +\\\n",
    "         'lnH_1.2 lnDa_1.2 lnfs8_1.2 lnbs8_1.2 Ps_1.2 ' +\\\n",
    "         'lnH_1.3 lnDa_1.3 lnfs8_1.3 lnbs8_1.3 Ps_1.3 ' +\\\n",
    "         'lnH_1.4 lnDa_1.4 lnfs8_1.4 lnbs8_1.4 Ps_1.4 ' +\\\n",
    "         'lnH_1.5 lnDa_1.5 lnfs8_1.5 lnbs8_1.5 Ps_1.5 ' +\\\n",
    "         'lnH_1.6 lnDa_1.6 lnfs8_1.6 lnbs8_1.6 Ps_1.6 ' +\\\n",
    "         'lnH_1.7 lnDa_1.7 lnfs8_1.7 lnbs8_1.7 Ps_1.7 ' +\\\n",
    "         'lnH_1.8 lnDa_1.8 lnfs8_1.8 lnbs8_1.8 Ps_1.8 ' +\\\n",
    "         'lnH_1.9 lnDa_1.9 lnfs8_1.9 lnbs8_1.9 Ps_1.9 ' +\\\n",
    "         'lnH_2.0 lnDa_2.0 lnfs8_2.0 lnbs8_2.0 Ps_2.0 ' +\\\n",
    "         'ns wb wm h'\n",
    "\n",
    "# Generate an output file name\n",
    "newfile = os.path.abspath(os.path.join(outpath, code_name + '_' + interp_type))\n",
    "    \n",
    "# Save file\n",
    "np.savetxt(newfile+TS+'_'+git.get_hash(7)+'_'+run_name+'.txt', Fishermat, header=header)\n",
    "\n",
    "# Print for testing purposes\n",
    "print np.sqrt(np.diag(scipy.linalg.inv(Fishermat)))"
   ]
  },
  {
   "cell_type": "markdown",
   "metadata": {},
   "source": [
    "## Project the Fisher matrix onto Dark Energy parameters"
   ]
  },
  {
   "cell_type": "code",
   "execution_count": null,
   "metadata": {
    "collapsed": false
   },
   "outputs": [],
   "source": [
    "# Marginalise out everything except cosmography parameters\n",
    "cosmography_pars = ['lnH', 'lnDA', 'lnfsig8']\n",
    "cosmography_indices = []\n",
    "no_per_zpar = len(zlist)\n",
    "last_index = 0\n",
    "for key, value in params.iteritems():\n",
    "    if value in cosmography_pars:\n",
    "        if key in shape_params: raise Exception('shape par is not cosmography')\n",
    "        inds_tmp = last_index + np.arange(no_per_zpar)\n",
    "        cosmography_indices.extend(inds_tmp)\n",
    "        last_index = last_index + no_per_zpar\n",
    "    elif key in shape_params:\n",
    "        last_index = last_index + 1\n",
    "    else:\n",
    "        last_index = last_index + no_per_zpar\n",
    "\n",
    "Covmat = scipy.linalg.inv(Fishermat)\n",
    "FisherDE = Covmat[cosmography_indices][:,cosmography_indices]"
   ]
  },
  {
   "cell_type": "code",
   "execution_count": null,
   "metadata": {
    "collapsed": true
   },
   "outputs": [],
   "source": [
    "# Get the derivatives wrt to the DE parameters\n",
    "# For example, we choose w0 & wa (DETF report):  w(a)= w0+wa(1-a) ie w(z) = w0 + z*wa/(1+z)"
   ]
  }
 ],
 "metadata": {
  "anaconda-cloud": {},
  "kernelspec": {
   "display_name": "Python [default]",
   "language": "python",
   "name": "python2"
  },
  "language_info": {
   "codemirror_mode": {
    "name": "ipython",
    "version": 2
   },
   "file_extension": ".py",
   "mimetype": "text/x-python",
   "name": "python",
   "nbconvert_exporter": "python",
   "pygments_lexer": "ipython2",
   "version": "2.7.12"
  }
 },
 "nbformat": 4,
 "nbformat_minor": 0
}
